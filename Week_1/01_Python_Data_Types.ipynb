{
 "cells": [
  {
   "cell_type": "markdown",
   "source": [
    "# Tutorial 1 Python Data Types\n",
    "\n",
    "## A substantial part of the challenge in programming for data analysis is organizing the data in useful ways that are easy to keep track and avoid errors\n",
    "<br>\n",
    "\n",
    "## In this tutorial, I introduce native data types in python - lists, tuples, and dictionaries.  \n",
    "## We learn how to move between these data types and numpy arrays.\n",
    "## We learn how to change integers to floating point numbers and floating point numbers to integers \n",
    "<br>\n",
    "\n",
    "##\n",
    "## Please read through the tutorial, and execute each box of code, and make sure you understand the outputs. \n",
    "## Its very helpful to examine the contents of the variables, using the Jupyter:Variables table, which you can find using View -> Terminal\n",
    "## Feel free to add print commands to print output to the notebook.   \n",
    "## Feel free to add your own notes\n",
    "<br>\n",
    "\n",
    "# To confirm that you have completed the tutorial, please upload this file with all the code blocks executed.  "
   ],
   "metadata": {}
  },
  {
   "cell_type": "markdown",
   "source": [
    "## 1.1 Native Python Data Types \n",
    "<br>\n",
    "\n",
    "### In this class we introduced variable types\n",
    "<br> \n",
    "\n",
    "* integers - `int`,`int16`,`int64`\n",
    "###\n",
    "* floating point numbers - `float`,`float64`\n",
    "###\n",
    "* string, i.e., text - `string`\n",
    "<br>\n",
    "<br>\n",
    "\n",
    "### Then we considered the numpy **array** which is a data type evoked by loading the numpy module.\n",
    "<br>\n",
    "\n",
    "### Native python data types\n",
    "<br>\n",
    "\n",
    "### There are 3 native python data types.  By native, we mean part of the original python and not coming from numpy.  \n",
    "<br>\n",
    "\n",
    "* list - exactly what it says, a list \n",
    "###\n",
    "* tuple - a special kind of list which is immutable (values cannot be changed)\n",
    "###\n",
    "* dict - a structure known as a dictionary that is invaluable for organizing data including numpy arrays"
   ],
   "metadata": {}
  },
  {
   "cell_type": "markdown",
   "source": [
    "## We are going to follow a good coding practice of importing the modules we need for a lesson at the start of a lesson.  "
   ],
   "metadata": {}
  },
  {
   "cell_type": "code",
   "execution_count": null,
   "source": [
    "import numpy as np"
   ],
   "outputs": [],
   "metadata": {}
  },
  {
   "cell_type": "markdown",
   "source": [
    "## 1.2 Lists\n",
    "<br>\n",
    "\n",
    "\n",
    "### A list is a collection of values in a single variable. "
   ],
   "metadata": {}
  },
  {
   "cell_type": "code",
   "execution_count": null,
   "source": [
    "my_list = [1,9,6,7] # I made a list here with 4 numeric entries.  Note the use of square brackets [] and commas , to separate the elements of the list. \n",
    "print(my_list)"
   ],
   "outputs": [],
   "metadata": {}
  },
  {
   "cell_type": "markdown",
   "source": [
    "## Examine the list in your Jupyter:Variables table. \n",
    "\n",
    "## The list is of size 4, reflecting the number of elements, and of type list. "
   ],
   "metadata": {}
  },
  {
   "cell_type": "markdown",
   "source": [
    "## The list is a flexible data type designed as a **container** for holding items together\n",
    "\n",
    "## But its not a particularly useful data type for mathematical operations.  "
   ],
   "metadata": {}
  },
  {
   "cell_type": "code",
   "execution_count": null,
   "source": [
    "list2 = list + 2"
   ],
   "outputs": [],
   "metadata": {}
  },
  {
   "cell_type": "markdown",
   "source": [
    "## So that went badly, because a `list` doesnt support mathematical operations.  \n",
    "\n",
    "## The strength of lists is the flexibility to hold together different data types that are associated with each other.  "
   ],
   "metadata": {}
  },
  {
   "cell_type": "code",
   "execution_count": null,
   "source": [
    "\n",
    "#I can mix together all the data types I know about in a list \n",
    "\n",
    "my_crazy_list = ['Kawhi','Leonard','June',29,1991,79.0]"
   ],
   "outputs": [],
   "metadata": {}
  },
  {
   "cell_type": "markdown",
   "source": [
    "### I created a list all associated with a NBA player, including \n",
    "<br> \n",
    "\n",
    "###\n",
    "* *strings* first name, last name, and date of birth, \n",
    "###\n",
    "* *integers* month and year of birth \n",
    "###\n",
    "* *floating point* height"
   ],
   "metadata": {}
  },
  {
   "cell_type": "markdown",
   "source": [
    "## A list can contain many different data types, unlike a *numpy* **array** which can only contain one data type. "
   ],
   "metadata": {}
  },
  {
   "cell_type": "markdown",
   "source": [
    "## 1.3 List methods\n",
    "<br>\n",
    "\n",
    "## The flexibility of lists is their strength.  It is also their weakness as the flexibility also gives greater scope for making mistakes in data handling. \n",
    "<br>\n",
    "\n",
    "## Here I show how we **append** elements to a list \n",
    "\n",
    "### The syntax here is different from our usual syntax \n",
    "\n",
    "### `list_name.append(variable)`"
   ],
   "metadata": {}
  },
  {
   "cell_type": "code",
   "execution_count": null,
   "source": [
    "my_kawhi_list = ['Kawhi','Leonard','June',29,1991,79.0]\n",
    "points = 26.0\n",
    "rebounds = 6.6\n",
    "assists = 5.0\n",
    "steals = 1.7\n",
    "blocks = 0.4\n",
    "#lets add these numbers to the list \n",
    "my_kawhi_list.append(points)\n",
    "my_kawhi_list.append(rebounds)\n",
    "my_kawhi_list.append(assists)\n",
    "my_kawhi_list.append(steals)\n",
    "my_kawhi_list.append(blocks)\n",
    "#\n",
    "print(my_kawhi_list)"
   ],
   "outputs": [],
   "metadata": {}
  },
  {
   "cell_type": "markdown",
   "source": [
    "### Take a look at the list in the JUPYTER:VARIABLES panel. \n",
    "<br>\n",
    "\n",
    "### To the left of the list you should see a square symbol with an arrow.  Click on it.  \n",
    "\n",
    "### It should open a data viewer window which shows the content of the list. \n",
    "\n",
    "### This also works with *numpy* arrays.  \n",
    "\n",
    "### This is a useful tool to look at all the values of a list or array"
   ],
   "metadata": {}
  },
  {
   "cell_type": "markdown",
   "source": [
    "## Here I show how we **remove** an element from a list \n",
    "\n",
    "### `list_name.remove(variable)`"
   ],
   "metadata": {}
  },
  {
   "cell_type": "code",
   "execution_count": null,
   "source": [
    "my_kawhi_list.remove(1.7)\n",
    "print(my_kawhi_list)"
   ],
   "outputs": [],
   "metadata": {}
  },
  {
   "cell_type": "markdown",
   "source": [
    "### The item 1.7 (steals) is removed.   Notice i did not use the original variable name *steals*.  \n",
    "### That variable name is not associated with the list. Only the value is in the list.  "
   ],
   "metadata": {}
  },
  {
   "cell_type": "markdown",
   "source": [
    "## 1.3 Tuples <br>\n",
    "\n",
    "###  Tuples are a special kind of list that has the property of not being changable (immutable)\n",
    "###\n",
    "###  Many python code arguments are looking for tuples rather than lists. \n",
    "###\n",
    "### From a syntax point of view the difference between a tuple and a list is the use of parenthesis () rather than square brackets[]\n",
    "###\n",
    "### We've actually used a tuple before in defining numpy arrays.  We will make use of them, and encounter them in numpy outputs."
   ],
   "metadata": {}
  },
  {
   "cell_type": "code",
   "execution_count": null,
   "source": [
    "array_size = (2,3)  #This is a tuple, defined by () rather than []\n",
    "#pass the tuple as a variable into zeros\n",
    "my_array = np.zeros(array_size);\n",
    "#pass a tuple defined inside zeros\n",
    "my_other_array = np.zeros((3,4))\n",
    "#pass a tuple to int. \n",
    "#numpy returns things that should be immutable using tuples \n",
    "my_array_shape = np.shape(my_other_array)\n",
    "print(my_array_shape)"
   ],
   "outputs": [],
   "metadata": {}
  },
  {
   "cell_type": "markdown",
   "source": [
    "## 1.4 Indexing into lists  \n",
    "\n",
    "### First lets remake the list of Kawhi Leonard stats"
   ],
   "metadata": {}
  },
  {
   "cell_type": "code",
   "execution_count": null,
   "source": [
    "my_kawhi_list = ['Kawhi','Leonard','June',29,1991,79.0]\n",
    "points = 26.0\n",
    "rebounds = 6.6\n",
    "assists = 5.0\n",
    "steals = 1.7\n",
    "blocks = 0.4\n",
    "#lets add these numbers to the list \n",
    "my_kawhi_list.append(points)\n",
    "my_kawhi_list.append(rebounds)\n",
    "my_kawhi_list.append(assists)\n",
    "my_kawhi_list.append(steals)\n",
    "my_kawhi_list.append(blocks)\n",
    "#"
   ],
   "outputs": [],
   "metadata": {}
  },
  {
   "cell_type": "markdown",
   "source": [
    "### Now suppose i wanted to get to his points per game for some data analysis (26.6). \n",
    "### I want to figure out a way to do it so that for every player whose data is organized in the same order, \n",
    "### I can extract the points per game from the list. <br>\n",
    "### We can see that points is the 7th entry in the list.  \n"
   ],
   "metadata": {}
  },
  {
   "cell_type": "code",
   "execution_count": null,
   "source": [
    "ppg = my_kawhi_list[7]\n",
    "print(ppg)"
   ],
   "outputs": [],
   "metadata": {}
  },
  {
   "cell_type": "markdown",
   "source": [
    "### Thats didnt work.  In fact, it returned the 8th element of the list, which is rebounds.  <br> \n",
    "## SADLY, computers count from zero, while human beings count from 1.  \n",
    "### If we start the count with 'Kawhi' as item 0, we realize the **index** for 26.6 is 6 and not 7 "
   ],
   "metadata": {}
  },
  {
   "cell_type": "code",
   "execution_count": null,
   "source": [
    "ppg = my_kawhi_list[6]\n",
    "print(ppg)"
   ],
   "outputs": [],
   "metadata": {}
  },
  {
   "cell_type": "markdown",
   "source": [
    "### Take a look at the JUPYTER:VARIABLES pane.  \n",
    "### Notice that the variable ppg is of type float.  \n",
    "### Inside a list, a variable cannot have a type, but once I remove it from the list it has a type.  "
   ],
   "metadata": {}
  },
  {
   "cell_type": "markdown",
   "source": [
    "### I can also index to a range of values.  \n",
    "### suppose I want to recover Kawhi's points, rebounds, assists - the classic box score stats.  \n",
    "\n",
    "### Since points is item 6 counting from 0, item 7 is rebounds and item 8 is assists (see above to verify)"
   ],
   "metadata": {}
  },
  {
   "cell_type": "code",
   "execution_count": null,
   "source": [
    "boxscore = my_kawhi_list[6:8]\n",
    "print(boxscore)"
   ],
   "outputs": [],
   "metadata": {}
  },
  {
   "cell_type": "markdown",
   "source": [
    "### That didnt work either.  \n",
    "### Since we need the next item, lets add and go from 6:9 "
   ],
   "metadata": {}
  },
  {
   "cell_type": "code",
   "execution_count": null,
   "source": [
    "boxscore = my_kawhi_list[6:9]\n",
    "print(boxscore)"
   ],
   "outputs": [],
   "metadata": {}
  },
  {
   "cell_type": "markdown",
   "source": [
    "## Indexing into list and arrays in python is always **inclusive** of the first element and **exclusive** of the last element.  \n",
    "\n",
    "## We will discuss indexing methods in depth using arrays next week"
   ],
   "metadata": {}
  },
  {
   "cell_type": "markdown",
   "source": [
    "## 1.5 Merging Lists and Strings "
   ],
   "metadata": {}
  },
  {
   "cell_type": "markdown",
   "source": [
    "## We can merge two lists and strings, with a simple +\n",
    "## Lists and strings do not do math addition, instead + means concatenation. "
   ],
   "metadata": {}
  },
  {
   "cell_type": "code",
   "execution_count": null,
   "source": [
    "my_kawhi_list = ['Kawhi','Leonard']\n",
    "points = 26.0\n",
    "rebounds = 6.6\n",
    "assists = 5.0\n",
    "steals = 1.7\n",
    "blocks = 0.4\n",
    "kawhi_season_stats = [points,rebounds,assists,steals,blocks]\n",
    "merged_kawhi_list = my_kawhi_list + kawhi_season_stats   # + for lists does not do ADDITION. \n",
    "print(merged_kawhi_list)"
   ],
   "outputs": [],
   "metadata": {}
  },
  {
   "cell_type": "markdown",
   "source": [
    "## Now lets merge text strings  "
   ],
   "metadata": {}
  },
  {
   "cell_type": "code",
   "execution_count": null,
   "source": [
    "Full_Name = merged_kawhi_list[0]+merged_kawhi_list[1] # Again, note that the first entry in the list is index 0\n",
    "print(Full_Name)"
   ],
   "outputs": [],
   "metadata": {}
  },
  {
   "cell_type": "markdown",
   "source": [
    "### Let's make it pretty by adding a space between first and last name,  "
   ],
   "metadata": {}
  },
  {
   "cell_type": "code",
   "execution_count": null,
   "source": [
    "Pretty_Name = merged_kawhi_list[0]+' ' + merged_kawhi_list[1]\n",
    "print(Pretty_Name)\n"
   ],
   "outputs": [],
   "metadata": {}
  },
  {
   "cell_type": "markdown",
   "source": [
    "## 1.6 Changing Data Types \n",
    "\n",
    "## Being able to change data types is essential for managing data in python.  \n",
    "\n",
    "## A powerful command to change lists into arrays and to change the data type of arrays is the `array` command from `numpy`. \n",
    "\n",
    "### There are two useful things we will do with the `array` command.  First, we will convert a numeric list into a numpy array.  \n",
    "\n",
    "### We will learn how to control the data type of the numpy using the `dtype` argument"
   ],
   "metadata": {}
  },
  {
   "cell_type": "code",
   "execution_count": null,
   "source": [
    "my_integer_list = [6,7,8]\n",
    "my_int_array = np.array(my_integer_list)  # here I use the array call using its default behavior to convert the list into an array\n",
    "print(my_int_array)\n",
    "my_int_array.dtype  # I print out the data type and its 64 bit integers.  \n",
    "\n"
   ],
   "outputs": [],
   "metadata": {}
  },
  {
   "cell_type": "code",
   "execution_count": null,
   "source": [
    "# now lets use some floats \n",
    "my_float_list = [6.0,7.0,8.0]\n",
    "my_float_array = np.array(my_float_list)\n",
    "print(my_float_array)\n",
    "my_float_array.dtype  # I print out the data type and its 64 bit floats"
   ],
   "outputs": [],
   "metadata": {}
  },
  {
   "cell_type": "code",
   "execution_count": null,
   "source": [
    "#what if we have a mixed list \n",
    "\n",
    "my_mixed_list = [6,7.7,9.2,10]\n",
    "\n",
    "my_mixed_array = np.array(my_mixed_list)\n",
    "print(my_mixed_array)\n",
    "my_mixed_array.dtype"
   ],
   "outputs": [],
   "metadata": {}
  },
  {
   "cell_type": "markdown",
   "source": [
    "### When confronted with a mixed list, python defaults to floating point numbers because it can accomodate both data types.  "
   ],
   "metadata": {}
  },
  {
   "cell_type": "code",
   "execution_count": null,
   "source": [
    "#Lets convert both of these lists to integers and see what happens. \n",
    "\n",
    "my_float_2_int_array = np.array(my_float_list,dtype = 'int')\n",
    "print(my_float_2_int_array)"
   ],
   "outputs": [],
   "metadata": {}
  },
  {
   "cell_type": "code",
   "execution_count": null,
   "source": [
    "my_mixed_2_int_array = np.array(my_mixed_array, dtype='int') # notice I passed an array into array here.  works the same as a list. \n",
    "print(my_mixed_2_int_array)"
   ],
   "outputs": [],
   "metadata": {}
  },
  {
   "cell_type": "markdown",
   "source": [
    "### Notice that the default behavior of `array` is to **crop** any decimal values and not round.  \n",
    "\n"
   ],
   "metadata": {}
  }
 ],
 "metadata": {
  "orig_nbformat": 4,
  "language_info": {
   "name": "python",
   "version": "3.8.8",
   "mimetype": "text/x-python",
   "codemirror_mode": {
    "name": "ipython",
    "version": 3
   },
   "pygments_lexer": "ipython3",
   "nbconvert_exporter": "python",
   "file_extension": ".py"
  },
  "kernelspec": {
   "name": "python3",
   "display_name": "Python 3.8.8 64-bit ('base': conda)"
  },
  "interpreter": {
   "hash": "fda1d92c402c9d5e0550eab7f590eb1c0582e487619314e6aa12d68c281f0580"
  }
 },
 "nbformat": 4,
 "nbformat_minor": 2
}