{
 "cells": [
  {
   "cell_type": "markdown",
   "source": [
    "# Thought Experiment - Conscious Experience of a Computer \n",
    "\n",
    "<img src=\"gnome-shell.jpg\" alt=\"Drawing\" style=\"width: 900px;\"/>\n",
    "\n",
    "###\n",
    "## When we work on a computer, the experience is not veridical or a \"true\" representation of reality. \n",
    "###\n",
    "* No matter what type of computer (Windows, Mac, Linux) we are always interacting with an interface which contains similar elements.  \n",
    "###\n",
    "* The Desktop is a graphical representation of your computer.  It varies a bit between different types of computers but contains familiar elements - files, folders, applications. \n",
    "###\n",
    "* None of these elements are \"real\".   For example, a file is not represented in the computer in the manner of the icon on the Desktop. \n",
    "###\n",
    "* The Desktop is an interface to allow you to manipulate the computer to achieve your objectives, without knowing too much about the inner workings of the computer.   \n",
    "\n",
    "## **Programming is an interface to allow you to instruct the computer to manipulate information stored in the memory of the computer.** \n",
    "\n",
    "## Programming is a way to ask the computer to store values (variable) and do things with them (operations) ## \n",
    "\n",
    "## The elements and rules of programming (syntax) are just like \"rules\" of working with the desktop of the computer \n",
    "## - they are a representation in a human language of an operation in the computer language"
   ],
   "metadata": {}
  },
  {
   "cell_type": "markdown",
   "source": [
    "# Lesson 1 VARIABLES AND EXPRESSIONS\n",
    "\n",
    "## 1.1 A Variable is a symbolic representation of information in the memory of a computer.  \n",
    "\n",
    "### A variable is a way to address and manipulate the memory of the computer using a label that ascribes meaning in the users terms to the information stored there.  "
   ],
   "metadata": {}
  },
  {
   "cell_type": "code",
   "execution_count": null,
   "source": [
    "#Remember, comment lines start with a #\n",
    "#Comments are useful to track what you are doing. \n",
    "\n",
    "my_variable = 1 # my_variable is a variable I created\n",
    "my_other_variable = 4/5 #This is a variable you computed \n",
    "my_label = 'Example' #This is a bit of text"
   ],
   "outputs": [],
   "metadata": {}
  },
  {
   "cell_type": "markdown",
   "source": [
    "### There are three types of variables created above. \n",
    "\n",
    "* numeric integer **my_variable** which is of type **int**\n",
    "###\n",
    "* numeric floating point **my_other_variable** which is of type **float**\n",
    "###\n",
    "* string **my_label** which is of type **str**\n",
    "\n",
    "### Open the Jupyter:Variable pane using *View -> Terminal* to confirm my definitions. \n",
    "\n",
    "### These are 3 of the 4 basic types of variables.  The one missing here is a *logical* variable, which will be discussed later. "
   ],
   "metadata": {}
  },
  {
   "cell_type": "markdown",
   "source": [
    "## 1.2 Code is not math, but it can be.   "
   ],
   "metadata": {}
  },
  {
   "cell_type": "markdown",
   "source": [
    "## Here, code is math"
   ],
   "metadata": {}
  },
  {
   "cell_type": "code",
   "execution_count": null,
   "source": [
    "x = 2 #'my_var' is a variable you created\n",
    "y = x**2 #This is a mathematical statement written as code.  "
   ],
   "outputs": [],
   "metadata": {}
  },
  {
   "cell_type": "markdown",
   "source": [
    "## In the example above a mathematical expression, $y = x^2$ is written as code"
   ],
   "metadata": {}
  },
  {
   "cell_type": "markdown",
   "source": [
    "## Consider the following 2 lines of code.  Here code is not math."
   ],
   "metadata": {}
  },
  {
   "cell_type": "code",
   "execution_count": null,
   "source": [
    "x = 2 # a variable you created\n",
    "x = x**2 #This is code, not math.  \n"
   ],
   "outputs": [],
   "metadata": {}
  },
  {
   "cell_type": "markdown",
   "source": [
    "## In the lower example, we are again computing $x^2$ but we are telling python to **replace** the value of $x$ with $x^2$"
   ],
   "metadata": {}
  },
  {
   "cell_type": "markdown",
   "source": [
    "## 1.3 Using **Expressions** to declare **Variables** "
   ],
   "metadata": {}
  },
  {
   "cell_type": "markdown",
   "source": [
    "## Concepts \n",
    "* In programming = means assignment, not equality\n",
    "###\n",
    "* Anything to the right of the equality is evaluated before assignment\n",
    "###\n",
    "* There can be more than one variable assigned in a single line. "
   ],
   "metadata": {}
  },
  {
   "cell_type": "markdown",
   "source": [
    "## Rules for Variable Names \n",
    "* Variable names are always on the left of the =, values or expressions are always on the right\n",
    "###\n",
    "* Variable names are case sensitive, e.g. c and C are diffrerent variables.\n",
    "###\n",
    "* Variable names must start with letters, but then can include numbers, e.g., A1, b2, C3\n",
    "###\n",
    "* Variable names cannot include special characters (like &, *, #, etc)\n",
    "###\n",
    "* Variable names can include underscores to improve readability, e.g., A\\_1, b\\_2, C\\_3"
   ],
   "metadata": {}
  },
  {
   "cell_type": "markdown",
   "source": [
    "## What are good variable names?\n",
    "\n",
    "### In general, the more explict and self-explanatory the variable names the better. \n",
    "### A program usually expresses an idea, and the variable names should make that idea easy to understand by being explicit. \n",
    "### Sometimes, shorter variables make sense, where the short hand is widely known and recognized.    "
   ],
   "metadata": {}
  },
  {
   "cell_type": "code",
   "execution_count": null,
   "source": [
    "#%%Einstein in words\n",
    "#Example in words\n",
    "mass = 10 # kg\n",
    "speed_of_light = 3E08 #m/s\n",
    "                      #note the use of scientific notation\n",
    "Energy = mass*speed_of_light**2  #Joules\n",
    "print('Energy is', Energy, 'Joules')"
   ],
   "outputs": [],
   "metadata": {}
  },
  {
   "cell_type": "markdown",
   "source": [
    "### Notice two slightly different syntax for scientific notation.  I used 3E08, which is $3 \\times 10^8$.  Python returned 9e+17 which is $9 \\times 10^{17}$"
   ],
   "metadata": {}
  },
  {
   "cell_type": "code",
   "execution_count": null,
   "source": [
    "#Example in commonly accepted symbols\n",
    "m = 10 # kg \n",
    "c = 3E08 #m/s\n",
    "        #note the use of scientific notation\n",
    "E= m*c**2  #Joules\n",
    "print('Energy is', E, 'Joules')"
   ],
   "outputs": [],
   "metadata": {}
  },
  {
   "cell_type": "code",
   "execution_count": null,
   "source": [
    "#Example in generic variables\n",
    "x = 10 # This is the mass of the object in kg\n",
    "y = 3E08 #This is the speed of light in m/s\n",
    "        #note the use of scientific notation \n",
    "z = x*y**2 #This is the energy in Joules\n",
    "print('Energy is', z, 'Joules')"
   ],
   "outputs": [],
   "metadata": {}
  },
  {
   "cell_type": "markdown",
   "source": [
    "### Although all 3 versions of the code, they are not equally good code!  \n",
    "### All 3 versions are completely correct, and document exactly what happened and what \n",
    "### each variable means.   "
   ],
   "metadata": {}
  },
  {
   "cell_type": "markdown",
   "source": [
    "## 1.4 Reserved Words\n",
    "\n",
    "## There are 33 words that are **never** allowed to be used as variable names \n",
    "\n",
    "<img src=\"BadWords.png\" alt=\"Drawing\" style=\"width: 900px;\"/>\n",
    "\n",
    "## Don't worry, if you try to use them, python will return an error.  \n",
    "\n",
    "## In addition, these 33 words have critical roles in python syntax, and thus are colored differently in any python editor.  "
   ],
   "metadata": {}
  },
  {
   "cell_type": "code",
   "execution_count": null,
   "source": [
    "w = 3\n",
    "while = 3\n"
   ],
   "outputs": [],
   "metadata": {}
  },
  {
   "cell_type": "markdown",
   "source": [
    "## 1.5 Math Operators \n",
    "\n",
    "## Basic Math Operators\n",
    "\n",
    "* \\+ is addition\n",
    "###\n",
    "* \\- is subtraction\n",
    "###\n",
    "* \\* is multiplication\n",
    "###\n",
    "* / is division\n",
    "###\n",
    "* ** is exponentiation\n",
    "###\n",
    "* \\% compute remainder\n",
    "###\n",
    "* // floor division (integer division)"
   ],
   "metadata": {}
  },
  {
   "cell_type": "code",
   "execution_count": 10,
   "source": [
    "#%%Modulus and Integer Division\n",
    "a = 10 \n",
    "b = 3\n",
    "c = a%b  # compute remainder\n",
    "d = a//b # integer division\n",
    "e = a/b #division"
   ],
   "outputs": [],
   "metadata": {}
  },
  {
   "cell_type": "code",
   "execution_count": 11,
   "source": [
    "#%% Use parenthesis to control order of operations\n",
    "my_value = 3 + 3 * 16/4-2\n",
    "my_value_1 = (3 + 3)*16/4-2\n",
    "my_value_2 = (3 + 3)*16/(4-2)  \n"
   ],
   "outputs": [],
   "metadata": {}
  },
  {
   "cell_type": "markdown",
   "source": [
    "## 1.6 Math Module\n",
    "\n",
    "## More advanced mathematical operations require the use of code libraries known as **modules**.  \n",
    "\n",
    "## You might encounter one called the **math** module. "
   ],
   "metadata": {}
  },
  {
   "cell_type": "code",
   "execution_count": 12,
   "source": [
    "import math  # this is how you import a module\n",
    "n = 3\n",
    "nfactorial = math.factorial(n) # 3! = 3*2*1\n",
    "n_sqrt = math.sqrt(n) # take the square root\n",
    "n_exp = math.exp(n) # exponential function\n",
    "pi = math.pi # the value of pi\n"
   ],
   "outputs": [],
   "metadata": {}
  },
  {
   "cell_type": "markdown",
   "source": [
    "## We will not be making use of the **math** module in this class, but instead use a different module that is more powerful and widely used.  "
   ],
   "metadata": {}
  }
 ],
 "metadata": {
  "orig_nbformat": 4,
  "language_info": {
   "name": "python",
   "version": "3.8.8",
   "mimetype": "text/x-python",
   "codemirror_mode": {
    "name": "ipython",
    "version": 3
   },
   "pygments_lexer": "ipython3",
   "nbconvert_exporter": "python",
   "file_extension": ".py"
  },
  "kernelspec": {
   "name": "python3",
   "display_name": "Python 3.8.8 64-bit ('base': conda)"
  },
  "interpreter": {
   "hash": "fda1d92c402c9d5e0550eab7f590eb1c0582e487619314e6aa12d68c281f0580"
  }
 },
 "nbformat": 4,
 "nbformat_minor": 2
}