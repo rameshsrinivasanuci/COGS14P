{
 "cells": [
  {
   "cell_type": "markdown",
   "source": [
    "# Lesson 2 Numpy -  Data Arrays for Scientific Computing"
   ],
   "metadata": {}
  },
  {
   "cell_type": "markdown",
   "source": [
    "## 2.1 Introduction"
   ],
   "metadata": {}
  },
  {
   "cell_type": "markdown",
   "source": [
    "### The `numpy` **module** is used in almost all numerical computation using Python. \n",
    "\n",
    "### It is a package that provide high-performance vector, matrix and even higher-dimensional data structures for Python. Underneath the hood, it is implemented in C and Fortran so performance is very good. \n",
    "\n",
    "### To use `numpy` you need to import the module, or a specific **function** inside a module.  \n",
    "\n",
    "### A function is a specialized operation that has been programmed to take one or more *input* variables and return one or more *output* variables.  \n",
    "\n"
   ],
   "metadata": {}
  },
  {
   "cell_type": "markdown",
   "source": [
    "## 2.2 Import the numpy module"
   ],
   "metadata": {}
  },
  {
   "cell_type": "markdown",
   "source": [
    "### Because `numpy` is so generally useful, we usually import the entire numpy module.  There are two ways to do this:\n",
    "\n",
    "### `import numpy`\n",
    "\n",
    "### This tells python to import `numpy`\n",
    "\n",
    "### `import numpy as np`\n",
    "\n",
    "### This tells python to import the `numpy` module and use the abbreviation `np` to refer to it in the code. This is convenient as np is a lot faster to type than numpy.  Note that you could have called it whatever you want.  `np` is widely used as an abbreviation for `numpy`. \n"
   ],
   "metadata": {}
  },
  {
   "cell_type": "code",
   "execution_count": null,
   "source": [
    "import numpy as np"
   ],
   "outputs": [],
   "metadata": {}
  },
  {
   "cell_type": "markdown",
   "source": [
    "## 2.3 Creating `numpy` arrays"
   ],
   "metadata": {}
  },
  {
   "cell_type": "markdown",
   "source": [
    "### In the `numpy` module the terminology used for vectors, matrices and higher-dimensional data sets is **array**. \n",
    "\n",
    "### There are a number of ways to initialize new numpy arrays, for example from\n",
    "###\n",
    "* using functions that are dedicated to generating numpy arrays, such as `arange`, `linspace`, etc.\n",
    "###\n",
    "* creating an array filled with zeros such as `zeros`\n",
    "###\n",
    "* creating an array filled with random numbers using `random`\n",
    "###\n",
    "### In working with data we will learn also how to create numpy arrays by \n",
    "###\n",
    "* reading data from different types of files\n",
    "###\n",
    "* converting a Python list or tuples [covered in this weeks Tutorial]\n",
    "###"
   ],
   "metadata": {}
  },
  {
   "cell_type": "markdown",
   "source": [
    "##  2.3.1 Initializing an array of zeros"
   ],
   "metadata": {}
  },
  {
   "cell_type": "markdown",
   "source": [
    "### Probably the most common way to create an array is to initialize all the elements of the array with the value 0. \n",
    "\n",
    "### This can be done with the function `zeros`. \n",
    "\n",
    "### To invoke this function use `np.zeros`. I refer to it as `zeros` as it is the function `zeros` in the `np` module.  \n",
    "\n",
    "### I need to also decide on the size of the array.  In this example below i initialize an array called my_array with 5 elements, all of which have the value 0.  \n"
   ],
   "metadata": {}
  },
  {
   "cell_type": "code",
   "execution_count": null,
   "source": [
    "my_array = np.zeros(5)\n",
    "print(my_array)"
   ],
   "outputs": [],
   "metadata": {}
  },
  {
   "cell_type": "markdown",
   "source": [
    "### Now I'm going to initialize a slightly different array.  This is an array which has two dimensions.  It has 1 row and 5 columns. "
   ],
   "metadata": {}
  },
  {
   "cell_type": "code",
   "execution_count": null,
   "source": [
    "my_array2 = np.zeros((1,5))\n",
    "print(my_array2)"
   ],
   "outputs": [],
   "metadata": {}
  },
  {
   "cell_type": "markdown",
   "source": [
    "### An array with 2 dimensions is called a matrix.  Lets initialize another matrix"
   ],
   "metadata": {}
  },
  {
   "cell_type": "code",
   "execution_count": null,
   "source": [
    "my_matrix = np.zeros((3,4))\n",
    "print(my_matrix)"
   ],
   "outputs": [],
   "metadata": {}
  },
  {
   "cell_type": "markdown",
   "source": [
    "## 2.3.2 Checking the type of array.  \n",
    "### The `type` function in python will tell us what type of variable is my_array"
   ],
   "metadata": {}
  },
  {
   "cell_type": "code",
   "execution_count": null,
   "source": [
    "type(my_array)"
   ],
   "outputs": [],
   "metadata": {}
  },
  {
   "cell_type": "code",
   "execution_count": null,
   "source": [
    "type(my_array2)"
   ],
   "outputs": [],
   "metadata": {}
  },
  {
   "cell_type": "code",
   "execution_count": null,
   "source": [
    "type(my_matrix)"
   ],
   "outputs": [],
   "metadata": {}
  },
  {
   "cell_type": "markdown",
   "source": [
    "### That doesn't seem super useful, and it usually isn't if you are using an IDE"
   ],
   "metadata": {}
  },
  {
   "cell_type": "markdown",
   "source": [
    "## 2.3.3 Examining Array Size, Shape, and Data Type"
   ],
   "metadata": {}
  },
  {
   "cell_type": "markdown",
   "source": [
    "\n",
    "### Arrays generated with numpy have built in `methods`.  Some of these methods return properties of the arrays, and some of them can be used to manipulate the array\n",
    "###\n",
    "* `shape` tells us the shape of an array\n",
    "###\n",
    "* `size` tells us the total number of elements in an array "
   ],
   "metadata": {}
  },
  {
   "cell_type": "code",
   "execution_count": null,
   "source": [
    "array_shape = my_array.shape\n",
    "print(array_shape)"
   ],
   "outputs": [],
   "metadata": {
    "scrolled": true
   }
  },
  {
   "cell_type": "code",
   "execution_count": null,
   "source": [
    "array2_shape = my_array2.shape\n",
    "print(array2_shape)\n"
   ],
   "outputs": [],
   "metadata": {}
  },
  {
   "cell_type": "code",
   "execution_count": null,
   "source": [
    "matrix_shape = my_matrix.shape\n",
    "print(matrix_shape)"
   ],
   "outputs": [],
   "metadata": {}
  },
  {
   "cell_type": "code",
   "execution_count": null,
   "source": [
    "matrix_shape = my_matrix.shape\n",
    "print(matrix_shape)"
   ],
   "outputs": [],
   "metadata": {}
  },
  {
   "cell_type": "code",
   "execution_count": null,
   "source": [
    "array_size = my_array.size\n",
    "print(array_size)"
   ],
   "outputs": [],
   "metadata": {}
  },
  {
   "cell_type": "code",
   "execution_count": null,
   "source": [
    "matrix_size = my_matrix.size\n",
    "print(matrix_size)"
   ],
   "outputs": [],
   "metadata": {}
  },
  {
   "cell_type": "markdown",
   "source": [
    "### Alternatively, you could obtain the same information by using the corresponding `numpy` functions"
   ],
   "metadata": {}
  },
  {
   "cell_type": "code",
   "execution_count": null,
   "source": [
    "array_shape = np.shape(my_matrix)\n",
    "print(array_shape)"
   ],
   "outputs": [],
   "metadata": {}
  },
  {
   "cell_type": "code",
   "execution_count": null,
   "source": [
    "array_size = np.size(my_matrix)\n",
    "print(array_size)"
   ],
   "outputs": [],
   "metadata": {}
  },
  {
   "cell_type": "markdown",
   "source": [
    "### You can use `dtype` query the array for the type of data contained in it. "
   ],
   "metadata": {}
  },
  {
   "cell_type": "code",
   "execution_count": null,
   "source": [
    "my_array.dtype"
   ],
   "outputs": [],
   "metadata": {}
  },
  {
   "cell_type": "markdown",
   "source": [
    "### We made a matrix of zeros.  zeros could have been integers, but they can also be floating point numbers. \n",
    "\n",
    "### notice that instead of `float` it specifies the type as `float64`.  This refers the precision of the computer on which you are doing calculations.  \n",
    "\n",
    "### In most applications, we don't worry about the bit-size and let python go to its default which is usually 64 bit on modern computers.  \n",
    "\n",
    "### However, there are some times you have to pay attention to it.  One example is in handling images, where the number of bits controls the degree of specificity in color, etc of an image. \n",
    "\n",
    "### Another example which will come up next week is sometimes we want arrays of integers.  "
   ],
   "metadata": {}
  },
  {
   "cell_type": "markdown",
   "source": [
    "## 2.3.4 Initializing an array of ones or any arbitrary value!)"
   ],
   "metadata": {}
  },
  {
   "cell_type": "markdown",
   "source": [
    "### Similar to the function `zeros` numpy has a function called `ones`"
   ],
   "metadata": {}
  },
  {
   "cell_type": "code",
   "execution_count": null,
   "source": [
    "my_one_array = np.ones(4)\n",
    "print(my_one_array)"
   ],
   "outputs": [],
   "metadata": {}
  },
  {
   "cell_type": "markdown",
   "source": [
    "### You can use it to make arrays containing arbitrary values"
   ],
   "metadata": {}
  },
  {
   "cell_type": "code",
   "execution_count": null,
   "source": [
    "my_fives_array = 5*np.ones(10)\n",
    "print(my_fives_array)"
   ],
   "outputs": [],
   "metadata": {}
  },
  {
   "cell_type": "markdown",
   "source": [
    "### As shown in the example above, I can always make an array of ones, and then multiply it by an arbitrary constant to make an array of that value. "
   ],
   "metadata": {}
  },
  {
   "cell_type": "markdown",
   "source": [
    "## 2.3.4 Array-generating functions"
   ],
   "metadata": {}
  },
  {
   "cell_type": "markdown",
   "source": [
    "### `zeros` and `ones` are examples of array generating function, which populates an array of user specified size with the value zero or one respectively.  \n",
    "### There are a number of very useful array generating functions in the numpy module.\n",
    "### We will introduce the 2 of the most important ones here:\n",
    "###\n",
    "* `arange` - creates a range of linearly spaced values specifying interval\n",
    "###\n",
    "* `linspace` - lineary spaced values specifying number of values\n",
    "\n",
    "\n"
   ],
   "metadata": {}
  },
  {
   "cell_type": "markdown",
   "source": [
    "### `arange` creates an array containing values from a starting point to an ending point with a user specified step. \n",
    "\n",
    "###  **The ending point is not included in the array.**  "
   ],
   "metadata": {}
  },
  {
   "cell_type": "code",
   "execution_count": null,
   "source": [
    "# create a range\n",
    "#using arange the stop point IS NOT included\n",
    "x = np.arange(0, 10, 1) # arguments: start, stop, step\n",
    "\n",
    "x"
   ],
   "outputs": [],
   "metadata": {}
  },
  {
   "cell_type": "code",
   "execution_count": null,
   "source": [
    "y = np.arange(-4, 4.01, 0.5)  #notice I stopped it at 4.01 instead of 4.  \n",
    "\n",
    "print(y)"
   ],
   "outputs": [],
   "metadata": {}
  },
  {
   "cell_type": "markdown",
   "source": [
    "### `linspace` creates an array from a starting point to an ending point, with the number of points specified by the user rather than the step.  \n",
    "\n",
    "### **The ending point is included in the array** "
   ],
   "metadata": {}
  },
  {
   "cell_type": "code",
   "execution_count": null,
   "source": [
    "# using linspace, both end points ARE included\n",
    "z = np.linspace(0, 10, 25) #arguments: start, stop, number of points\n",
    "z"
   ],
   "outputs": [],
   "metadata": {}
  },
  {
   "cell_type": "code",
   "execution_count": null,
   "source": [
    "np.shape(z)"
   ],
   "outputs": [],
   "metadata": {}
  },
  {
   "cell_type": "markdown",
   "source": [
    "## 2.4  Arithmetic with arrays \n",
    "\n",
    "### The arithmetic expressions we carried out with variables will mostly work the same way with arrays.  "
   ],
   "metadata": {}
  },
  {
   "cell_type": "markdown",
   "source": [
    "## 2.4.1 Arithmetic with scalar numbers. \n",
    "\n",
    "### We can use the usual arithmetic operators to multiply, add, subtract, and divide arrays with scalar numbers."
   ],
   "metadata": {}
  },
  {
   "cell_type": "code",
   "execution_count": null,
   "source": [
    "v1 = np.arange(0, 5)"
   ],
   "outputs": [],
   "metadata": {}
  },
  {
   "cell_type": "code",
   "execution_count": null,
   "source": [
    "w1 = v1 * 2"
   ],
   "outputs": [],
   "metadata": {}
  },
  {
   "cell_type": "code",
   "execution_count": null,
   "source": [
    "w2 = v1 + 2"
   ],
   "outputs": [],
   "metadata": {}
  }
 ],
 "metadata": {
  "kernelspec": {
   "name": "python3",
   "display_name": "Python 3.8.8 64-bit ('base': conda)"
  },
  "language_info": {
   "codemirror_mode": {
    "name": "ipython",
    "version": 3
   },
   "file_extension": ".py",
   "mimetype": "text/x-python",
   "name": "python",
   "nbconvert_exporter": "python",
   "pygments_lexer": "ipython3",
   "version": "3.8.8"
  },
  "interpreter": {
   "hash": "fda1d92c402c9d5e0550eab7f590eb1c0582e487619314e6aa12d68c281f0580"
  }
 },
 "nbformat": 4,
 "nbformat_minor": 1
}