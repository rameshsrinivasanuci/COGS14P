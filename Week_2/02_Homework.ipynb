{
 "cells": [
  {
   "cell_type": "markdown",
   "source": [
    "## Numpy Homework 2\n",
    "\n",
    "Please answer the questions below by entering and executing code in the box below each question.  Dont forget to use a print statement so your output is visible too! \n",
    "\n",
    "One of the goal of this assignment is for you to explore some numpy functions on your own.  Specifically, I will be asking you to look up how to use some functions in numpy rather than providing examples.  \n",
    "\n",
    "This homework is due on Sunday 10/17 @ 11:59 pm.  "
   ],
   "metadata": {}
  },
  {
   "cell_type": "markdown",
   "source": [
    "1. Import the numpy module "
   ],
   "metadata": {}
  },
  {
   "cell_type": "code",
   "execution_count": null,
   "source": [
    "import numpy as np"
   ],
   "outputs": [],
   "metadata": {}
  },
  {
   "cell_type": "markdown",
   "source": [
    "2. To make our lives easier lets import the random submodule "
   ],
   "metadata": {}
  },
  {
   "cell_type": "code",
   "execution_count": null,
   "source": [
    "from numpy import random "
   ],
   "outputs": [],
   "metadata": {}
  },
  {
   "cell_type": "markdown",
   "source": [
    "3. Initialize the random number generator with a seed of your choice.  Enter any integer after the equal sign, e.g., seed = 1234 "
   ],
   "metadata": {}
  },
  {
   "cell_type": "code",
   "execution_count": null,
   "source": [
    "rng = random.default_rng(seed = )"
   ],
   "outputs": [],
   "metadata": {}
  },
  {
   "cell_type": "markdown",
   "source": [
    "4. Generate a vector **v** with 20 random numbers from a uniform distribution ranging from 0 to 100. "
   ],
   "metadata": {}
  },
  {
   "cell_type": "code",
   "execution_count": null,
   "source": [],
   "outputs": [],
   "metadata": {}
  },
  {
   "cell_type": "markdown",
   "source": [
    "5. Generate a matrix **M** with 5 rows and 2 columns from a uniform distribution ranging from -10 to 10.  "
   ],
   "metadata": {}
  },
  {
   "cell_type": "code",
   "execution_count": null,
   "source": [],
   "outputs": [],
   "metadata": {}
  },
  {
   "cell_type": "markdown",
   "source": [
    "6. Find the maximum value in **v**, and find the index of the element in the array v with maximum value.  "
   ],
   "metadata": {}
  },
  {
   "cell_type": "code",
   "execution_count": null,
   "source": [],
   "outputs": [],
   "metadata": {}
  },
  {
   "cell_type": "markdown",
   "source": [
    "7. Find the minimum value in each column of **M** and in each column, the index of the row with the minimum value "
   ],
   "metadata": {}
  },
  {
   "cell_type": "code",
   "execution_count": null,
   "source": [],
   "outputs": [],
   "metadata": {}
  },
  {
   "cell_type": "markdown",
   "source": [
    "8. Copy the matrix **M** into a new matrix **M2**. Sort the first column of **M2** into increasing order, and then apply the same sort order to the 2nd column of **M2**  (I asked you to make a copy so you could easily verify if it worked)"
   ],
   "metadata": {}
  },
  {
   "cell_type": "code",
   "execution_count": null,
   "source": [],
   "outputs": [],
   "metadata": {}
  },
  {
   "cell_type": "markdown",
   "source": [
    "### Computing Summary Statistics using numpy\n",
    "\n",
    "One of the goal of this assignment is for you to explore some numpy functions on your own.  Specifically, I will be asking you to look up in the either the numpy documentation, or by simply searching the web how to use some functions in numpy that compute simple summary statisics of data. \n",
    "\n",
    "* `mean`, compute the mean or average of data array \n",
    "* `median`, compute the middle value of a data array \n",
    "* `std`, compute the standard deviation of a data array \n",
    "* `percentile`, compute the value of the q-th percentile of an array  \n",
    "\n",
    "I am not going to provide any instruction on how to use them here.  The challenge for you here is to figure it out\n",
    "for yourself (you can ask for help after you have tried if it doesnt work.)  The internet is your friend.  \n"
   ],
   "metadata": {}
  },
  {
   "cell_type": "markdown",
   "source": [
    "9.  Generate a vector **u** containing 10 random numbers from a uniform distribution ranging from 0 to 100.  Compute the mean and median using `mean` and `median`. "
   ],
   "metadata": {}
  },
  {
   "cell_type": "code",
   "execution_count": null,
   "source": [],
   "outputs": [],
   "metadata": {}
  },
  {
   "cell_type": "markdown",
   "source": [
    "10.  Generate a vector **u** containing 1000 random numbers from a uniform distribution ranging from 0 to 100.  Compute the mean and median using `mean` and `median`.  The middle of the distribution is 50.  So, we should get an answer closer to 50 with more numbers.  "
   ],
   "metadata": {}
  },
  {
   "cell_type": "code",
   "execution_count": null,
   "source": [],
   "outputs": [],
   "metadata": {}
  },
  {
   "cell_type": "markdown",
   "source": [
    "11.  Using the vector **u** you generated in problem 9, compute the 10th, 25th, 75th, and 90th percentile using `percentile`.  The answers should make sense to you as corresponding fractions of 100.  "
   ],
   "metadata": {}
  },
  {
   "cell_type": "code",
   "execution_count": null,
   "source": [],
   "outputs": [],
   "metadata": {}
  },
  {
   "cell_type": "markdown",
   "source": [
    "12.  Generate a vector **w** containing 100 random integers ranging from 1-6 (mimicking a die roll).  Compute the mean, median, and standard deviation(`std`)  "
   ],
   "metadata": {}
  },
  {
   "cell_type": "code",
   "execution_count": null,
   "source": [],
   "outputs": [],
   "metadata": {}
  }
 ],
 "metadata": {
  "kernelspec": {
   "display_name": "Python 3",
   "language": "python",
   "name": "python3"
  },
  "language_info": {
   "codemirror_mode": {
    "name": "ipython",
    "version": 3
   },
   "file_extension": ".py",
   "mimetype": "text/x-python",
   "name": "python",
   "nbconvert_exporter": "python",
   "pygments_lexer": "ipython3",
   "version": "3.7.10"
  }
 },
 "nbformat": 4,
 "nbformat_minor": 4
}