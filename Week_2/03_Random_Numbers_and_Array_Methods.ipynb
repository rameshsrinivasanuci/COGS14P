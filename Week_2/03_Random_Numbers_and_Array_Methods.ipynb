{
 "cells": [
  {
   "cell_type": "markdown",
   "source": [
    "# Lesson 3  Random Numbers and Array Methods \n",
    "\n",
    "## A random numnber is an important concept in computer programming, simulation, and statistics. \n",
    "\n",
    "## A classic definition of a random number is a number that cannot be predicted. \n",
    "\n",
    "## Usually we have a more narrow definition of a random number, which is tied to the way that we generate random numbers.  "
   ],
   "metadata": {}
  },
  {
   "cell_type": "markdown",
   "source": [
    "## 3.1 Random Number Generators\n",
    "\n",
    "## Random number generation is a process by which, often by means of a random number generator (RNG), a sequence of numbers or symbols that cannot be reasonably predicted better than by random chance is generated. \n",
    "\n",
    "## Various applications of randomness have led to the development of several different methods for generating random data. \n",
    "\n",
    "## Some of these have existed since ancient times, among whose ranks are well-known \"classic\" examples, including the rolling of dice or coin flipping, the shuffling of playing cards.  \n",
    "\n",
    "## I am going make use of random numbers here today just to make examples on how to handle arrays, and how to use numpy functions. \n",
    "\n",
    "## Random numbers are very useful for simulating data, and for controlling experiments. \n",
    "\n",
    "## **Importantly, I will show you here how to make random number sequences that you can reproduce**\n"
   ],
   "metadata": {}
  },
  {
   "cell_type": "markdown",
   "source": [
    "### Let's begin (as usual) by importing the modules that we need.  "
   ],
   "metadata": {}
  },
  {
   "cell_type": "code",
   "execution_count": null,
   "source": [
    "import numpy as np "
   ],
   "outputs": [],
   "metadata": {}
  },
  {
   "cell_type": "markdown",
   "source": [
    "### Now I'm going to use a somewhat different form of importing"
   ],
   "metadata": {}
  },
  {
   "cell_type": "code",
   "execution_count": null,
   "source": [
    "from numpy import random "
   ],
   "outputs": [],
   "metadata": {}
  },
  {
   "cell_type": "markdown",
   "source": [
    "### In the above line I import the specific *submodule* random from *numpy*.  I do this because I dont want to write *np.random* over and over again in today's lesson and I just want to write *random*. \n",
    "\n",
    "### `numpy` has a *lot* of built in functions.   More than I know!.  \n",
    "\n",
    "### They are organized into **submodules** that group together functions of a particular type.  Here there is a submodule `random` which has all the random number generators in python.   \n",
    "\n",
    "### You can always import submodules and specific functions by name to avoid having to write out the module they come from.  "
   ],
   "metadata": {}
  },
  {
   "cell_type": "markdown",
   "source": [
    "## Initialize the random number generator\n",
    "\n",
    "### In order to intialize the random number generator, **rng** we create a random number generator object using `default_rng`.  \n",
    "### In order to control the random number generator we will set the **seed** of the random number generator. <br>\n",
    "\n",
    "### The **seed** of the random number generator controls the random number sequence generated.  *If you enter the same seed, you will get the same sequence*\n",
    "\n",
    "### Initialize the random number generator with a seed of your choice.  Enter any integer after the equal sign, e.g., seed = 1234 \n"
   ],
   "metadata": {}
  },
  {
   "cell_type": "code",
   "execution_count": null,
   "source": [
    "myseed = 1234\n",
    "rng = random.default_rng(seed = myseed)"
   ],
   "outputs": [],
   "metadata": {}
  },
  {
   "cell_type": "markdown",
   "source": [
    "### Take a look at the Jupyter:Variables.  A fundamentally new data type has been created, called a **Generator**"
   ],
   "metadata": {}
  },
  {
   "cell_type": "markdown",
   "source": [
    "## 3.2  Random Integers\n",
    "\n",
    "## In order to generate integers, we can use the method `integers`.  To use this method, we have to specify,\n",
    "\n",
    "## my_integers = `rng.integers`(low,high,size). \n",
    "\n",
    "## Here low is the lowest integer (inclusive), high is the highest integers (exclusive) and size is the dimensions of the numpy array to be created.  "
   ],
   "metadata": {}
  },
  {
   "cell_type": "code",
   "execution_count": null,
   "source": [
    "rint = rng.integers(1,7,10)\n",
    "print(rint)"
   ],
   "outputs": [],
   "metadata": {}
  },
  {
   "cell_type": "markdown",
   "source": [
    "### The output is what you might see if you rolled 10 die.\n",
    "### Let's run it again.   "
   ],
   "metadata": {}
  },
  {
   "cell_type": "code",
   "execution_count": null,
   "source": [
    "rint2 = rng.integers(1,7,10)\n",
    "print(rint2)"
   ],
   "outputs": [],
   "metadata": {}
  },
  {
   "cell_type": "markdown",
   "source": [
    "### Naturally, since these are random numbers, mimicking die rolls, I get different numbers. \n",
    "\n",
    "### What happens if I reset the random number seed. "
   ],
   "metadata": {}
  },
  {
   "cell_type": "code",
   "execution_count": null,
   "source": [
    "myseed = 1234\n",
    "rng = random.default_rng(seed = myseed)\n",
    "rint3 = rng.integers(1,7,10)\n",
    "print(rint3)"
   ],
   "outputs": [],
   "metadata": {}
  },
  {
   "cell_type": "markdown",
   "source": [
    "### The random numbers I get are identical to the first set. <br>\n",
    "### This may seem disturbing and certainly not at all *random*\n",
    "### The way to think about it is that there is an infinite sequence of die rolls.  The seed selects where in the sequence I start to get numbers. "
   ],
   "metadata": {}
  },
  {
   "cell_type": "markdown",
   "source": [
    "### Now let's create an array with 5 random numbers between 0 and 9 "
   ],
   "metadata": {}
  },
  {
   "cell_type": "code",
   "execution_count": null,
   "source": [
    "rdec = rng.integers(0,10,5)\n",
    "print(rdec)"
   ],
   "outputs": [],
   "metadata": {}
  },
  {
   "cell_type": "markdown",
   "source": [
    "### Lets not forget integers can be negative. "
   ],
   "metadata": {}
  },
  {
   "cell_type": "code",
   "execution_count": null,
   "source": [
    "rdec2 = rng.integers(-10,10,5)"
   ],
   "outputs": [],
   "metadata": {}
  },
  {
   "cell_type": "markdown",
   "source": [
    "### I can also create a higher dimensional array like a matrix, by passing a **tuple** for the dimension of the array. \n",
    "### If i want a matrix with 4 rows and 3 columns instead of a vector of 5 numbers, I should provide a tuple (4,3) instead of 5."
   ],
   "metadata": {}
  },
  {
   "cell_type": "code",
   "execution_count": null,
   "source": [
    "rmat = rng.integers(0,10,(4,3))\n",
    "print(rmat)"
   ],
   "outputs": [],
   "metadata": {}
  },
  {
   "cell_type": "markdown",
   "source": [
    "## 3.3  Random floating point numbers from a uniform distribution\n",
    "\n",
    "### In order to generate floating point numbers from a uniform distribution, we can use the method `uniform`.  To use this method, we have to specify, \n",
    "\n",
    "### runiform = `rng.uniform`(low,high,size)\n",
    "\n",
    "### These are floating point numbers (real-valued) ranging low (inclusive) to high (exclusive) but can take any value in between with **equal probability**"
   ],
   "metadata": {}
  },
  {
   "cell_type": "code",
   "execution_count": null,
   "source": [
    "runiform = rng.uniform(0,1,10)\n",
    "print(runiform)"
   ],
   "outputs": [],
   "metadata": {}
  },
  {
   "cell_type": "markdown",
   "source": [
    "### We can increase the range, and incorporate positive and negative numbers"
   ],
   "metadata": {}
  },
  {
   "cell_type": "code",
   "execution_count": null,
   "source": [
    "runiform2 = rng.uniform(-5,5,10)\n",
    "print(runiform2)"
   ],
   "outputs": [],
   "metadata": {}
  },
  {
   "cell_type": "markdown",
   "source": [
    "### And we can specify a matrix with dimensions in a tuple. Here we make a matrix of size 3 rows and 5 columns. "
   ],
   "metadata": {}
  },
  {
   "cell_type": "code",
   "execution_count": null,
   "source": [
    "runiform_mat = rng.uniform(-5,5,(3,5))\n",
    "print(runiform_mat)"
   ],
   "outputs": [],
   "metadata": {}
  },
  {
   "cell_type": "markdown",
   "source": [
    "### There are many more ways to generate random numbers.  We will introduce the method `normal` later in the course, which draws random numbers from a normal distribution.  "
   ],
   "metadata": {}
  },
  {
   "cell_type": "markdown",
   "source": [
    "## 3.4 Manipulating Arrays"
   ],
   "metadata": {}
  },
  {
   "cell_type": "markdown",
   "source": [
    "### 3.4.1 Indexing\n",
    "\n",
    "### We can index elements in an array using square brackets and indices. \n",
    "\n",
    "### The most *challenging/irritating/annoying/exasperating* aspect of indexing is remembering that python \n",
    "### **starts counting at 0**\n",
    "\n",
    "### I am going to first make a vector and a matrix of *random* integers in order to facilitate understanding indexing. \n",
    "\n"
   ],
   "metadata": {}
  },
  {
   "cell_type": "code",
   "execution_count": null,
   "source": [
    "# v is a vector, and has only one dimension, taking one index\n",
    "\n",
    "v = rng.integers(1,7,20)\n",
    "print('v=', v)\n",
    "\n",
    "# M is a matrix, or a 2 dimensional array, taking two indices \n",
    "\n",
    "M = rng.integers(1,7,(3,4))\n",
    "print('M=', M)"
   ],
   "outputs": [],
   "metadata": {}
  },
  {
   "cell_type": "markdown",
   "source": [
    "### To extract a specific value of v, I have to use and index.  Let's grab the 5th value of v"
   ],
   "metadata": {}
  },
  {
   "cell_type": "code",
   "execution_count": null,
   "source": [
    "v[4]"
   ],
   "outputs": [],
   "metadata": {}
  },
  {
   "cell_type": "markdown",
   "source": [
    "### ** DON'T FORGET PYTHON STARTS COUNTING AT 0!** <br>\n",
    "\n",
    "### The first entry of v is v[0]"
   ],
   "metadata": {}
  },
  {
   "cell_type": "code",
   "execution_count": null,
   "source": [
    "w = v[0]\n",
    "print(w)"
   ],
   "outputs": [],
   "metadata": {}
  },
  {
   "cell_type": "markdown",
   "source": [
    "### One of the reasons we use indexing is to place values at a location in an array. \n",
    "### If I want to place the number -10 in the 3rd entry of v: "
   ],
   "metadata": {}
  },
  {
   "cell_type": "code",
   "execution_count": null,
   "source": [
    "v[2] = -10\n",
    "print(v) "
   ],
   "outputs": [],
   "metadata": {}
  },
  {
   "cell_type": "markdown",
   "source": [
    "### To index into a matrix M, I havewe provide a row index and column index. \n",
    "### In order to get the entry 2nd row and 3rd column, I have to index M as M[1,2]"
   ],
   "metadata": {}
  },
  {
   "cell_type": "code",
   "execution_count": null,
   "source": [
    "M[1,2]"
   ],
   "outputs": [],
   "metadata": {}
  },
  {
   "cell_type": "code",
   "execution_count": null,
   "source": [
    "M[0,0] #first entry of a 3 x 4 matrix \n",
    "M[2,3] #last entry of a 3 x 4 matrix"
   ],
   "outputs": [],
   "metadata": {}
  },
  {
   "cell_type": "markdown",
   "source": [
    "### Of course, if I go out of range, python will just complain.  "
   ],
   "metadata": {}
  },
  {
   "cell_type": "code",
   "execution_count": null,
   "source": [
    "M[3,4]"
   ],
   "outputs": [],
   "metadata": {}
  },
  {
   "cell_type": "markdown",
   "source": [
    "### What is an **axis**?  \n",
    "\n",
    "### I referred to the rows and columns of m.  Python thinks of these as the **axis** of the array. \n",
    "\n",
    "### axis 0 is the rows\n",
    "\n",
    "### axis 1 is the columns\n",
    "\n",
    "### axis 2 is the ????  ...\n",
    "\n",
    "### There is no limit to the number of dimensions to a python array.   Right now we are working with vectors and matrices.  But, in many practical applications we need more than 2 dimensions.   For example, when we record brain images from human subjects there are 3 dimensions to the data.  "
   ],
   "metadata": {}
  },
  {
   "cell_type": "markdown",
   "source": [
    "### We can address a single row or column of the matrix by "
   ],
   "metadata": {}
  },
  {
   "cell_type": "code",
   "execution_count": null,
   "source": [
    "M[1]"
   ],
   "outputs": [],
   "metadata": {}
  },
  {
   "cell_type": "markdown",
   "source": [
    "### In my opinion, the above is very poor syntax because it is ambiguous which axis you are referring to. \n",
    "\n",
    "### It requires that you know that python defaults to rows, and that a single index will extract that row.  \n",
    "\n",
    "### The same thing can be achieved with more clarity using `:` to indicate *ALL ELEMENTS* "
   ],
   "metadata": {}
  },
  {
   "cell_type": "code",
   "execution_count": null,
   "source": [
    "M[1,:] # row 2"
   ],
   "outputs": [],
   "metadata": {}
  },
  {
   "cell_type": "code",
   "execution_count": null,
   "source": [
    "M[:,0] # column 1"
   ],
   "outputs": [],
   "metadata": {}
  },
  {
   "cell_type": "markdown",
   "source": [
    "### I can extract a row and column of a matrix into a new array and do some math on it. "
   ],
   "metadata": {}
  },
  {
   "cell_type": "code",
   "execution_count": null,
   "source": [
    "m = M[:,0]  # I grabbed the first column of M and copied it into m \n",
    "u = m**2 - 5 # I squared the values and subtracted v and placed in a new array u\n",
    "print(u)"
   ],
   "outputs": [],
   "metadata": {}
  },
  {
   "cell_type": "markdown",
   "source": [
    "### I can manipulate a row or column in the matrix "
   ],
   "metadata": {}
  },
  {
   "cell_type": "code",
   "execution_count": null,
   "source": [
    "M[:,0] = u #replace the first column with u\n",
    "M[:,1] = -10 #replace the second column with -10 at all locations"
   ],
   "outputs": [],
   "metadata": {}
  },
  {
   "cell_type": "markdown",
   "source": [
    "### Size matters!\n",
    "### Each row of M has 4 elements. If I try to place a vector length other than 4 into a row of M it will fail"
   ],
   "metadata": {}
  },
  {
   "cell_type": "code",
   "execution_count": null,
   "source": [
    "M[0,:] = u"
   ],
   "outputs": [],
   "metadata": {}
  },
  {
   "cell_type": "markdown",
   "source": [
    "### 3.4.2 Index slicing \n",
    "\n",
    "### Index slicing is the technical name for the syntax `v[lower:upper:step]` to extract part of an array:"
   ],
   "metadata": {}
  },
  {
   "cell_type": "code",
   "execution_count": null,
   "source": [
    "A = rng.integers(0,10,8)\n",
    "print(A)"
   ],
   "outputs": [],
   "metadata": {}
  },
  {
   "cell_type": "code",
   "execution_count": null,
   "source": [
    "A[1:3] #notice it is inclusive of the lower bound and exclusive of the upper bound\n",
    "       #also notice I did not specifiy a step. "
   ],
   "outputs": [],
   "metadata": {}
  },
  {
   "cell_type": "code",
   "execution_count": null,
   "source": [
    "A[6:8]  # notice a weird bit of syntax here A[5] does not exist, but i can write A[3:5] because it excludes 5"
   ],
   "outputs": [],
   "metadata": {}
  },
  {
   "cell_type": "code",
   "execution_count": null,
   "source": [
    "A[1:7:2]  #In this example, i use step of size 2. Since my upper bound is , index 7 is excluded "
   ],
   "outputs": [],
   "metadata": {}
  },
  {
   "cell_type": "markdown",
   "source": [
    "### We can modify this set of entries in the array if we correctly match the dimensions"
   ],
   "metadata": {}
  },
  {
   "cell_type": "code",
   "execution_count": null,
   "source": [
    "newvalues = np.array([-5,-10,-15]) # I made a new array from a list \n",
    "A[1:7:2] = newvalues"
   ],
   "outputs": [],
   "metadata": {}
  },
  {
   "cell_type": "markdown",
   "source": [
    "### I can even make a new call to rng and get new random integers. "
   ],
   "metadata": {}
  },
  {
   "cell_type": "code",
   "execution_count": null,
   "source": [
    "A[0:2] = rng.integers(-100,-90,2)  # get 2 integers between -100 and -90 and place them in A as the first 2 entries"
   ],
   "outputs": [],
   "metadata": {}
  },
  {
   "cell_type": "markdown",
   "source": [
    "### WHAT HAPPENS IF WE INSERT FLOATING POINT NUMBERS INTO THE ARRAY? \n",
    "\n",
    "### First, lets make an array of uniform random numbers.  "
   ],
   "metadata": {}
  },
  {
   "cell_type": "code",
   "execution_count": null,
   "source": [
    "B = rng.uniform(0,10,3)"
   ],
   "outputs": [],
   "metadata": {}
  },
  {
   "cell_type": "markdown",
   "source": [
    "### Now lets copy into our integer array, starting at the 3rd entry to the 5th entry "
   ],
   "metadata": {}
  },
  {
   "cell_type": "code",
   "execution_count": null,
   "source": [
    "print(A[3:6])  # print out the current values of A from the 3rd to 5th entry\n",
    "A[3:6] = B  # replace these with B \n",
    "print(B)\n",
    "print(A[3:6]) #print new values in A "
   ],
   "outputs": [],
   "metadata": {}
  },
  {
   "cell_type": "markdown",
   "source": [
    "### A is an integer array.  If you place floating point numbers in A, it will **crop** the decimal values.  "
   ],
   "metadata": {}
  },
  {
   "cell_type": "markdown",
   "source": [
    "### 3.4.3 The magic of the : symbol\n",
    "\n",
    "### We can omit any of the three parameters in `M[lower:upper:step]` and replace with a : which indicates **all elements**"
   ],
   "metadata": {}
  },
  {
   "cell_type": "code",
   "execution_count": null,
   "source": [
    "A[::2] # step is 2, lower and upper defaults to the beginning and end of the array"
   ],
   "outputs": [],
   "metadata": {}
  },
  {
   "cell_type": "code",
   "execution_count": null,
   "source": [
    "A[:3] # first three elements"
   ],
   "outputs": [],
   "metadata": {}
  },
  {
   "cell_type": "code",
   "execution_count": null,
   "source": [
    "A[3:] # all elements from index 3"
   ],
   "outputs": [],
   "metadata": {}
  },
  {
   "cell_type": "markdown",
   "source": [
    "### Here's a cool one - use a negative index to get the last 3 elements of the array"
   ],
   "metadata": {}
  },
  {
   "cell_type": "code",
   "execution_count": null,
   "source": [
    "A[-3:]"
   ],
   "outputs": [],
   "metadata": {}
  },
  {
   "cell_type": "markdown",
   "source": [
    "### 3.4.4 Index slicing in matrices"
   ],
   "metadata": {}
  },
  {
   "cell_type": "code",
   "execution_count": null,
   "source": [
    "B = rng.integers(1,7,(7,7))\n",
    "print(B)"
   ],
   "outputs": [],
   "metadata": {}
  },
  {
   "cell_type": "code",
   "execution_count": null,
   "source": [
    "# a block from the original array\n",
    "C = B[0:2, 1:3]\n",
    "print(C)"
   ],
   "outputs": [],
   "metadata": {}
  },
  {
   "cell_type": "code",
   "execution_count": null,
   "source": [
    "#Alternate rows and columns from the original array \n",
    "D = B[::2, ::2]\n",
    "print(D)"
   ],
   "outputs": [],
   "metadata": {}
  }
 ],
 "metadata": {
  "orig_nbformat": 4,
  "language_info": {
   "name": "python",
   "version": "3.8.8",
   "mimetype": "text/x-python",
   "codemirror_mode": {
    "name": "ipython",
    "version": 3
   },
   "pygments_lexer": "ipython3",
   "nbconvert_exporter": "python",
   "file_extension": ".py"
  },
  "kernelspec": {
   "name": "python3",
   "display_name": "Python 3.8.8 64-bit ('base': conda)"
  },
  "interpreter": {
   "hash": "fda1d92c402c9d5e0550eab7f590eb1c0582e487619314e6aa12d68c281f0580"
  }
 },
 "nbformat": 4,
 "nbformat_minor": 2
}