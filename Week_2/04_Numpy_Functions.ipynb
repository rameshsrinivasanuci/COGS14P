{
 "cells": [
  {
   "cell_type": "markdown",
   "source": [
    "# Lesson 4 Numpy -  Functions for Scientific Computing"
   ],
   "metadata": {}
  },
  {
   "cell_type": "markdown",
   "source": [
    "## The `numpy` **module** is used in almost all numerical computation using Python. \n",
    "\n",
    "## A **function** is a specialized operation that has been programmed to take one or more *input* variables and return one or more *output* variables.  \n",
    "\n",
    "## In this lesson, we will learn about a number of numpy functions that are useful.  I am not going to cover every numpy function.  Im not even going to cover most of them. \n",
    "\n",
    "## I am going to cover some very useful ones, and then I am going to briefly discuss how to search for a numpy function.\n",
    "## This week's tutorial will expand on this further.  \n"
   ],
   "metadata": {}
  },
  {
   "cell_type": "markdown",
   "source": [
    "## Import the numpy module"
   ],
   "metadata": {}
  },
  {
   "cell_type": "code",
   "execution_count": null,
   "source": [
    "import numpy as np"
   ],
   "outputs": [],
   "metadata": {}
  },
  {
   "cell_type": "markdown",
   "source": [
    "## I'm also going to specifically import the random submodule in order to make my code easier to read\n",
    "## I will also start the random number generator"
   ],
   "metadata": {}
  },
  {
   "cell_type": "code",
   "execution_count": null,
   "source": [
    "from numpy import random\n",
    "myseed = 1967\n",
    "rng = random.default_rng(seed = myseed)"
   ],
   "outputs": [],
   "metadata": {}
  },
  {
   "cell_type": "markdown",
   "source": [
    "## 4.1 Sorting functions for `numpy` arrays"
   ],
   "metadata": {}
  },
  {
   "cell_type": "markdown",
   "source": [
    "### In many operations with data it is useful to be able to sort the data from lowest to highest, or highest to lowest. \n",
    "\n",
    "### To faciliate these examples, I am going to make an array v and a matrix m. \n"
   ],
   "metadata": {}
  },
  {
   "cell_type": "code",
   "execution_count": null,
   "source": [
    "v = rng.integers(1,7,10)  # 10 random numbers between 1 and 6\n",
    "M = rng.integers(1,7,(6,10)) # 6 by 10 matrix containing random numbers between 1 and 6 "
   ],
   "outputs": [],
   "metadata": {}
  },
  {
   "cell_type": "markdown",
   "source": [
    "### 4.1.1 Array sort\n",
    "\n",
    "### It's not surprising that the function that will sort an array is called `sort`"
   ],
   "metadata": {}
  },
  {
   "cell_type": "code",
   "execution_count": null,
   "source": [
    "v_sorted = np.sort(v)\n",
    "print('v =', v)\n",
    "print('v_sorted =',v_sorted)"
   ],
   "outputs": [],
   "metadata": {}
  },
  {
   "cell_type": "markdown",
   "source": [
    "### Numpy `sort` function always sorts from lowest to highest.  What if I wanted to sort from highest to lowest? \n",
    "\n",
    "### Numpy has a `flip` function that allows up reverse the order of the elements in an array. "
   ],
   "metadata": {}
  },
  {
   "cell_type": "code",
   "execution_count": null,
   "source": [
    "v_flipped = np.flip(v)\n",
    "print('v_flipped = ', v_flipped)\n"
   ],
   "outputs": [],
   "metadata": {}
  },
  {
   "cell_type": "markdown",
   "source": [
    "### It would take two commands to sort an array from the highest to the lowest element. "
   ],
   "metadata": {}
  },
  {
   "cell_type": "code",
   "execution_count": null,
   "source": [
    "v_sorted = np.sort(v)\n",
    "v_sorted = np.flip(v_sorted)\n",
    "print('v_sorted =', v_sorted)"
   ],
   "outputs": [],
   "metadata": {}
  },
  {
   "cell_type": "markdown",
   "source": [
    "### I could actually do it one step by **nesting** my functions like this. "
   ],
   "metadata": {}
  },
  {
   "cell_type": "code",
   "execution_count": null,
   "source": [
    "v_sorted = np.flip(np.sort(v)) # I implicitly take the output of np.sort and enter into np.flip\n",
    "print('v_sorted =', v_sorted)"
   ],
   "outputs": [],
   "metadata": {
    "scrolled": true
   }
  },
  {
   "cell_type": "markdown",
   "source": [
    "### 4.1.2 Matrix sort"
   ],
   "metadata": {}
  },
  {
   "cell_type": "markdown",
   "source": [
    "### What does sorting a matrix (or any array with more than one dimension) do? "
   ],
   "metadata": {}
  },
  {
   "cell_type": "code",
   "execution_count": null,
   "source": [
    "M_test = np.sort(M)\n",
    "print('M')\n",
    "print(M)\n",
    "print('M_test')\n",
    "print(M_test)"
   ],
   "outputs": [],
   "metadata": {
    "scrolled": true
   }
  },
  {
   "cell_type": "markdown",
   "source": [
    "### If we compare the two matrices, it looks like it took each row of M and applied a sort to it.\n",
    "\n",
    "### When sorting a matrix or higher dimension array, we can make explicit which dimension we want to apply the sort along. \n",
    "\n",
    "### Recall that in a matrix (2 dimensional array), the first dimension or in python *axis* is 0 and the second dimension or *axis* is 1.  "
   ],
   "metadata": {}
  },
  {
   "cell_type": "code",
   "execution_count": null,
   "source": [
    "M_sorted_0 = np.sort(M, axis = 0)\n",
    "M_sorted_1 = np.sort(M, axis = 1)\n",
    "print('M_sorted_0')\n",
    "print(M_sorted_0)\n",
    "print('M_sorted_1')\n",
    "print(M_sorted_1)"
   ],
   "outputs": [],
   "metadata": {}
  },
  {
   "cell_type": "markdown",
   "source": [
    "### Specifying axis = 0 sorted each column along the rows.\n",
    "### Specifying axis = 1 sorted each row along the columns. \n",
    "### The default behavior of `sort` is to sort along the last axis.\n",
    "### It's good practice to specify the *axis* along which you want to sort unless its a simple array. "
   ],
   "metadata": {}
  },
  {
   "cell_type": "markdown",
   "source": [
    "### If I need to sort a matrix along descending order, I can use the sort function as above, and the `flip` function also specifying an axis "
   ],
   "metadata": {}
  },
  {
   "cell_type": "code",
   "execution_count": null,
   "source": [
    "M_sorted_1 = np.flip(M_sorted_1,axis =1)\n",
    "print(M_sorted_1)"
   ],
   "outputs": [],
   "metadata": {
    "scrolled": true
   }
  },
  {
   "cell_type": "markdown",
   "source": [
    "### 4.1.3 Ordered Indices - `argsort`"
   ],
   "metadata": {}
  },
  {
   "cell_type": "markdown",
   "source": [
    "### In many (*most?*) circumstances you don't only want to be able to obtain a sorted list of items, but you also want to know *what order of indices* produces the sorted list.  This may not seem obvious, but i will make some examples hee that illustrate why this is important. "
   ],
   "metadata": {}
  },
  {
   "cell_type": "code",
   "execution_count": null,
   "source": [
    "v = random.randint(1,7,10)\n",
    "v_sorted = np.sort(v) #This obtains a sorted list in increasing order. "
   ],
   "outputs": [],
   "metadata": {}
  },
  {
   "cell_type": "markdown",
   "source": [
    "### The `argsort` function tells you the order of indices to sort an array"
   ],
   "metadata": {}
  },
  {
   "cell_type": "code",
   "execution_count": null,
   "source": [
    "sort_order = np.argsort(v) #This obtains a list of ordered indices that you could use to sort v \n",
    "print('i = ',np.arange(0,10,1)) # i juat wanted to track the index \n",
    "print('v = ',v)\n",
    "print('sort_order = ',sort_order)"
   ],
   "outputs": [],
   "metadata": {
    "scrolled": true
   }
  },
  {
   "cell_type": "code",
   "execution_count": null,
   "source": [
    "v_sorted_byorder = v[sort_order]\n",
    "print('v_sorted = ',v_sorted)\n",
    "print('v_sorted_byorder = ', v_sorted_byorder)"
   ],
   "outputs": [],
   "metadata": {
    "scrolled": false
   }
  },
  {
   "cell_type": "markdown",
   "source": [
    "### Why is this useful? \n",
    "\n",
    "### Many times, we want to sort data on one variable, *and sort other variables in the same order*\n",
    "\n",
    "### I provide an example here. "
   ],
   "metadata": {}
  },
  {
   "cell_type": "code",
   "execution_count": null,
   "source": [
    "age = np.array([55,58,72,46,48,65]) #age in years\n",
    "LDL = np.array([65,90,120,55,70,100]) #LDL - bad cholesterol "
   ],
   "outputs": [],
   "metadata": {}
  },
  {
   "cell_type": "markdown",
   "source": [
    "### I want to quickly look at those numbers and determine if LDL goes up with age.  \n",
    "### What I'm going to do is sort the data by age and then use that sort order with the LDL data. "
   ],
   "metadata": {}
  },
  {
   "cell_type": "code",
   "execution_count": null,
   "source": [
    "age_order = np.argsort(age)\n",
    "age_sorted = age[age_order]\n",
    "LDL_sorted_byage = LDL[age_order]\n",
    "print('age = ', age_sorted)\n",
    "print('LDL = ', LDL_sorted_byage)"
   ],
   "outputs": [],
   "metadata": {}
  },
  {
   "cell_type": "markdown",
   "source": [
    "### We can also use this approach with a matrix and sort one column (or row)  and apply that ordering to the other columns (or rows)"
   ],
   "metadata": {}
  },
  {
   "cell_type": "markdown",
   "source": [
    "##  4.2 Mathematical Functions in numpy"
   ],
   "metadata": {}
  },
  {
   "cell_type": "markdown",
   "source": [
    "### Numpy has built in a large number of mathematical functions.  \n",
    "\n",
    "### 4.2.1 Basic Math\n",
    "### Of course the basic operations will work on numpy arrays, element by element:\n",
    "* +, addition                                  \n",
    "* -, subtraction\n",
    "* \\*, multiplication\n",
    "* / division \n",
    "* \\*\\*, exponentiation \n",
    "* //, floor division or integer division \n",
    "* %, remainder \n",
    "### **THEY WILL ONLY WORK WITH A CONSTANT OR WITH ARRAYS OF THE SAME SIZE**"
   ],
   "metadata": {}
  },
  {
   "cell_type": "code",
   "execution_count": null,
   "source": [
    "a = np.array([0.5, 1,2])\n",
    "b = np.array([4,6,8]) \n",
    "print(a)\n",
    "print(b)\n",
    "#lets test the operations above. "
   ],
   "outputs": [],
   "metadata": {
    "scrolled": true
   }
  },
  {
   "cell_type": "code",
   "execution_count": null,
   "source": [],
   "outputs": [],
   "metadata": {}
  },
  {
   "cell_type": "markdown",
   "source": [
    "### 4.2.2 Manipulating Sign and Data Type\n",
    "### There are also some basic manipulation of the sign and type of data:\n",
    "* absolute, computes the absolute value\n",
    "* rint, rounds to the nearest integer\n",
    "* floor, discard the decimal and return integer value  \n",
    "* ceil, return the first integer higher than the number\n",
    "* sign, returns -1 for negative values and 1 for positive values "
   ],
   "metadata": {
    "scrolled": true
   }
  },
  {
   "cell_type": "code",
   "execution_count": null,
   "source": [
    "c = np.array([-1.5, -0.5, 0,0.5, 1])\n",
    "print(c)\n",
    "#let's test the operations above"
   ],
   "outputs": [],
   "metadata": {
    "scrolled": false
   }
  },
  {
   "cell_type": "code",
   "execution_count": null,
   "source": [],
   "outputs": [],
   "metadata": {}
  },
  {
   "cell_type": "markdown",
   "source": [
    "### 4.2.3 Maximum and minimum \n",
    "\n",
    "### There are three pairs of functions that handle maximum and minimum of arrays. \n",
    "\n",
    "## First, within an array to find the maximum/minimum along a dimension (*axis* uses \n",
    "* `amax`\n",
    "* `amin` \n",
    "\n",
    "## Second, to find the index of the maximum or minimum element of an array we make use of \n",
    "* `argmax`\n",
    "* `argmin`\n",
    "\n",
    "### Third, to compare two equal size arrays element by element, use \n",
    "* `maximum`\n",
    "* `minimum` "
   ],
   "metadata": {}
  },
  {
   "cell_type": "code",
   "execution_count": null,
   "source": [
    "v = rng.integers(1,21,15)\n",
    "M = rng.integers(1,21,(5,6))"
   ],
   "outputs": [],
   "metadata": {}
  },
  {
   "cell_type": "markdown",
   "source": [
    "### Lets get the maximum of v"
   ],
   "metadata": {}
  },
  {
   "cell_type": "code",
   "execution_count": null,
   "source": [
    "maxv = np.max(v)\n",
    "index_maxv = np.argmax(v)\n",
    "print('v = ',v)\n",
    "print('maxv = ',maxv)\n",
    "print('index_maxv =', index_maxv)"
   ],
   "outputs": [],
   "metadata": {
    "scrolled": false
   }
  },
  {
   "cell_type": "markdown",
   "source": [
    "### Lets get the minimum of v"
   ],
   "metadata": {}
  },
  {
   "cell_type": "code",
   "execution_count": null,
   "source": [
    "minv = np.min(v)\n",
    "index_minv = np.argmin(v)\n",
    "print('v = ',v)\n",
    "print('minv = ',minv)\n",
    "print('index_minv =', index_minv)"
   ],
   "outputs": [],
   "metadata": {
    "scrolled": true
   }
  },
  {
   "cell_type": "markdown",
   "source": [
    "### When working with a matrix we should specify an *axis*"
   ],
   "metadata": {}
  },
  {
   "cell_type": "code",
   "execution_count": null,
   "source": [
    "maxM_0 = np.max(M,axis = 0)\n",
    "maxM_1 = np.max(M,axis = 1)\n",
    "print('M')\n",
    "print(M)\n",
    "print('max, axis = 0')\n",
    "print(maxM_0)\n",
    "print('min, axis = 1')\n",
    "print(maxM_1)"
   ],
   "outputs": [],
   "metadata": {
    "scrolled": true
   }
  },
  {
   "cell_type": "markdown",
   "source": [
    "### I can also compare two arrays element by element "
   ],
   "metadata": {}
  },
  {
   "cell_type": "code",
   "execution_count": null,
   "source": [
    "w = rng.integers(1,7,10)\n",
    "u = rng.integers(1,7,10)\n",
    "print('w = ',w)\n",
    "print('u = ',u)\n",
    "p = np.maximum(u,w)\n",
    "q = np.minimum(u,w)\n",
    "print('p = ',p)\n",
    "print('q = ',q)"
   ],
   "outputs": [],
   "metadata": {}
  },
  {
   "cell_type": "markdown",
   "source": [
    "### 4.2.4 Exponential and Logarithmic Functions \n",
    "\n",
    "### One set of immensely useful functions are exponential and logarithmic functions.\n",
    "\n",
    "* exp, calculates exponential of all elememnts in an array \n",
    "* log, natural logarithm, ln, base e\n",
    "* log10, base 10 logarithm "
   ],
   "metadata": {}
  },
  {
   "cell_type": "code",
   "execution_count": null,
   "source": [
    "x = np.linspace(0,2,10)\n",
    "z = np.linspace(1,109,13)\n",
    "# I'm gonna do some stuff here to make plots.  I'm making bad low-grade plots here.  \n",
    "# I'll teach you to make good ones, next week \n",
    "from matplotlib import pyplot as plt"
   ],
   "outputs": [],
   "metadata": {}
  },
  {
   "cell_type": "code",
   "execution_count": null,
   "source": [
    "y = np.exp(x)\n",
    "plt.plot(x,y,'ro')"
   ],
   "outputs": [],
   "metadata": {}
  },
  {
   "cell_type": "code",
   "execution_count": null,
   "source": [
    "y = np.log(z)\n",
    "plt.plot(z,y,'bo')"
   ],
   "outputs": [],
   "metadata": {}
  },
  {
   "cell_type": "code",
   "execution_count": null,
   "source": [
    "y = np.log10(z)\n",
    "plt.plot(z,y,'bo')"
   ],
   "outputs": [],
   "metadata": {}
  },
  {
   "cell_type": "markdown",
   "source": [
    "### 4.2.5 Trignometric Functions\n",
    "\n",
    "### Trignometric functions are also available.  I will not make use of these until the very end of the class when we synthesize sound.  But yes you can make, sin, cos, tan, etc. "
   ],
   "metadata": {}
  },
  {
   "cell_type": "code",
   "execution_count": null,
   "source": [
    "angle_in_degrees = np.linspace(0,360,20)\n",
    "angle_in_radians = angle_in_degrees*np.pi/180\n",
    "z = np.sin(angle_in_radians)\n",
    "plt.plot(angle_in_radians,z)"
   ],
   "outputs": [],
   "metadata": {}
  },
  {
   "cell_type": "code",
   "execution_count": null,
   "source": [],
   "outputs": [],
   "metadata": {}
  }
 ],
 "metadata": {
  "kernelspec": {
   "name": "python3",
   "display_name": "Python 3.8.8 64-bit ('base': conda)"
  },
  "language_info": {
   "codemirror_mode": {
    "name": "ipython",
    "version": 3
   },
   "file_extension": ".py",
   "mimetype": "text/x-python",
   "name": "python",
   "nbconvert_exporter": "python",
   "pygments_lexer": "ipython3",
   "version": "3.8.8"
  },
  "interpreter": {
   "hash": "fda1d92c402c9d5e0550eab7f590eb1c0582e487619314e6aa12d68c281f0580"
  }
 },
 "nbformat": 4,
 "nbformat_minor": 1
}