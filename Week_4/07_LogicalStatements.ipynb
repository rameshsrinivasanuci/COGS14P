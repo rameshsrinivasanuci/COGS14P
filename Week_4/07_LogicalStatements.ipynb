{
 "cells": [
  {
   "cell_type": "markdown",
   "source": [
    "# Lesson 7 Logical Statements\n",
    "\n",
    "## The purpose of todays lecture is to introduce the use of Logical Statements in Programming. \n",
    "\n",
    "## A simple definition of a logical statement is that a logical statement is a statement that \n",
    "## produces an output which either has the value **True** or **False**.  \n",
    "\n",
    "## From a coding perspective, we could also map those two states onto a binary variable which takes on the value 1 or 0.  \n",
    "\n",
    "## This type of variable is known as a **Boolean** variable.   \n",
    "\n",
    "## In this lesson, we will learn how to setup and evaluate various types of logical statements. \n",
    "\n",
    "## We will make use of logical statements in this course is to develop boolean variables as \n",
    "* ### *masks* to segregate data. \n",
    "* ### to *control* conditional execution code.   "
   ],
   "metadata": {}
  },
  {
   "cell_type": "code",
   "execution_count": null,
   "source": [
    "import numpy as np\n",
    "from numpy import random\n",
    "from matplotlib import pyplot as plt\n",
    "import pandas as pd"
   ],
   "outputs": [],
   "metadata": {}
  },
  {
   "cell_type": "markdown",
   "source": [
    "## 7.1 Comparison Operators\n",
    "\n",
    "### A logical statement almost always involves comparisons. Examples of comparisons that come to mind might be \n",
    "* #### `==` - equal                    \n",
    "* #### `!=` - not equal                \n",
    "* #### `>`  - greater than             \n",
    "* #### `>=` - greater than or equal    \n",
    "* #### `<`  - less than                \n",
    "* #### `<=` - less than or equal       "
   ],
   "metadata": {}
  },
  {
   "cell_type": "markdown",
   "source": [
    "### Example 1  "
   ],
   "metadata": {}
  },
  {
   "cell_type": "code",
   "execution_count": null,
   "source": [
    "x = 5"
   ],
   "outputs": [],
   "metadata": {}
  },
  {
   "cell_type": "code",
   "execution_count": null,
   "source": [
    "x == 5   #Test of Equality, True statement, returns the value True "
   ],
   "outputs": [],
   "metadata": {}
  },
  {
   "cell_type": "code",
   "execution_count": null,
   "source": [
    "test = x == 5  #Equal, True statement, correct syntax, bad formatting \n",
    "print(test)"
   ],
   "outputs": [],
   "metadata": {}
  },
  {
   "cell_type": "code",
   "execution_count": null,
   "source": [
    "type(test)"
   ],
   "outputs": [],
   "metadata": {}
  },
  {
   "cell_type": "code",
   "execution_count": null,
   "source": [
    "test = (x == 5)  #Equal, True Statement, correct syntax, good formatting \n",
    "print(test)"
   ],
   "outputs": [],
   "metadata": {}
  },
  {
   "cell_type": "code",
   "execution_count": null,
   "source": [
    "test = (x != 5)  #Not Equal, False Statement \n",
    "print(test)"
   ],
   "outputs": [],
   "metadata": {}
  },
  {
   "cell_type": "markdown",
   "source": [
    "### Example 2"
   ],
   "metadata": {}
  },
  {
   "cell_type": "code",
   "execution_count": null,
   "source": [
    "x = np.array([1, 2, 3, 4, 5])\n",
    "print(x)"
   ],
   "outputs": [],
   "metadata": {}
  },
  {
   "cell_type": "code",
   "execution_count": null,
   "source": [
    "test = (x < 3)  # less than\n",
    "print(test)\n",
    "type(test)\n",
    "test.dtype"
   ],
   "outputs": [],
   "metadata": {}
  },
  {
   "cell_type": "code",
   "execution_count": null,
   "source": [
    "test = (x > 3)  # greater than\n",
    "print(test)"
   ],
   "outputs": [],
   "metadata": {}
  },
  {
   "cell_type": "code",
   "execution_count": null,
   "source": [
    "test = (x <= 3)  # less than or equal\n",
    "print(test)"
   ],
   "outputs": [],
   "metadata": {}
  },
  {
   "cell_type": "code",
   "execution_count": null,
   "source": [
    "test = (x >= 3)  # greater than or equal\n",
    "print(test)"
   ],
   "outputs": [],
   "metadata": {}
  },
  {
   "cell_type": "code",
   "execution_count": null,
   "source": [
    "test = (x != 3)  # not equal\n",
    "print(test)"
   ],
   "outputs": [],
   "metadata": {}
  },
  {
   "cell_type": "code",
   "execution_count": null,
   "source": [
    "test = (x == 3)  # equal\n",
    "print(test)"
   ],
   "outputs": [],
   "metadata": {}
  },
  {
   "cell_type": "markdown",
   "source": [
    "## 7.2 Rules of Logic 1 - Set Theory Perspective\n",
    "\n",
    "### The rules of logic and set theory are important to understand in meaningfully evaluation logical statements. \n",
    "\n",
    "### We can view the array `x =[1 2 3 4 5]` as a **set**. This set defines a **space**, or universe.<br>\n",
    "\n",
    "### Any of the logical and comparison operations divides the space into two **subspaces**, one where the logical statement is **True**, and another where the logical statement is **False**.<br>  \n",
    "\n",
    "### **The most important thing to remember is that the True and False subsets must combine to the original set**"
   ],
   "metadata": {}
  },
  {
   "cell_type": "markdown",
   "source": [
    "### Example 3"
   ],
   "metadata": {}
  },
  {
   "cell_type": "code",
   "execution_count": null,
   "source": [
    "test1 = (x < 3)\n",
    "print('test1 = ',test1)\n",
    "test2 = (x > 3)\n",
    "print('test2 = ',test2)\n",
    "test3 = (x >= 3)\n",
    "print('test3 = ',test3)"
   ],
   "outputs": [],
   "metadata": {}
  },
  {
   "cell_type": "markdown",
   "source": [
    "### 7.2.1 Logical complement, or logical_not\n",
    "\n",
    "### The complement of a boolean variable is the opposite state.  The complement of **True** is **False** and the complement of **False** is **True** \n",
    "\n",
    "### There are two ways to take the complement of a Boolean array.  One is the numpy method `logical_not` or by using the operator `~`\n"
   ],
   "metadata": {}
  },
  {
   "cell_type": "code",
   "execution_count": null,
   "source": [
    "test4 = np.logical_not(test1)\n",
    "print('test4 = ',test4)\n",
    "test5 = ~test1\n",
    "print('test5 = ',test5)"
   ],
   "outputs": [],
   "metadata": {}
  },
  {
   "cell_type": "markdown",
   "source": [
    "## 7.3 Manual Entry of a  Boolean Array \n",
    "\n",
    "### Sometimes we need to manually create Boolean array.  There are two ways to do this shown below \n"
   ],
   "metadata": {}
  },
  {
   "cell_type": "code",
   "execution_count": null,
   "source": [
    "boolean_array1 = [True,False,False,True]\n",
    "print(boolean_array1)\n",
    "boolean_numpy_array1 = np.array(boolean_array1)\n",
    "print(boolean_numpy_array1)"
   ],
   "outputs": [],
   "metadata": {}
  },
  {
   "cell_type": "code",
   "execution_count": null,
   "source": [
    "boolean_array2 = [0,1,1,0]\n",
    "print(boolean_array2)"
   ],
   "outputs": [],
   "metadata": {}
  },
  {
   "cell_type": "code",
   "execution_count": null,
   "source": [
    "boolean_array3 = np.array([0,1,1,0],dtype=bool)  # force the data type to boolean \n",
    "print(boolean_array3)"
   ],
   "outputs": [],
   "metadata": {}
  },
  {
   "cell_type": "code",
   "execution_count": null,
   "source": [
    "boolean_array3 = ~boolean_array3\n",
    "print(boolean_array3)"
   ],
   "outputs": [],
   "metadata": {}
  },
  {
   "cell_type": "markdown",
   "source": [
    "## 7.4 Conversion to a Boolean Array - Can I turn anything into a boolean array. \n",
    "### What are the rules? \n",
    "\n",
    "### 0, None, False or empty strings ARE **False**\n",
    "\n",
    "### Values other than 0, None, False or empty strings ARE **True**."
   ],
   "metadata": {}
  },
  {
   "cell_type": "code",
   "execution_count": null,
   "source": [
    "strange_list = [1, 0.5, 0, 0.0, None, 'a', '', ' ',True, False]\n",
    "bool_arr = np.array(strange_list, dtype=bool)\n",
    "print(strange_list)\n",
    "print(bool_arr)"
   ],
   "outputs": [],
   "metadata": {}
  },
  {
   "cell_type": "markdown",
   "source": [
    "Interpreted languages like Python, Matlab, R are easy to use because you can be careless like this and things still kind of work.  \n",
    "\n",
    "**This is their strength AND their weakness**\n",
    "\n",
    "Its really easy to have a mistake in your code and have your code seem to work in these languages.  "
   ],
   "metadata": {}
  },
  {
   "cell_type": "markdown",
   "source": [
    "## 7.5 Comparison of Arrays\n",
    "\n",
    "### Logical Operators can be used to compare arrays.  Such comparisons proceed on an element by element basis "
   ],
   "metadata": {}
  },
  {
   "cell_type": "code",
   "execution_count": null,
   "source": [
    "rng = random.default_rng(seed = 21)\n",
    "array_a = rng.integers(0,10,8)\n",
    "array_b = rng.integers(0,10,8)"
   ],
   "outputs": [],
   "metadata": {}
  },
  {
   "cell_type": "code",
   "execution_count": null,
   "source": [
    "test = (array_a > array_b)\n",
    "print(array_a)\n",
    "print(array_b)\n",
    "print(test)"
   ],
   "outputs": [],
   "metadata": {}
  },
  {
   "cell_type": "code",
   "execution_count": null,
   "source": [
    "x = np.array([1,2,3,4,5])\n",
    "test = (2**x == x**2)\n",
    "print(test)"
   ],
   "outputs": [],
   "metadata": {}
  },
  {
   "cell_type": "markdown",
   "source": [
    "## 7.6 Working with Boolean Arrays\n",
    "\n",
    "### Why do we want to make use of Boolean arrays?  \n",
    "### Here I will show some useful operations that Boolean arrays will allow us to do.  And then, I will show an example of how we make use of Boolean to organize data.  "
   ],
   "metadata": {}
  },
  {
   "cell_type": "code",
   "execution_count": null,
   "source": [
    "x = rng.integers(0,9,(3,4))\n",
    "print(x)"
   ],
   "outputs": [],
   "metadata": {}
  },
  {
   "cell_type": "code",
   "execution_count": null,
   "source": [
    "x < 6"
   ],
   "outputs": [],
   "metadata": {}
  },
  {
   "cell_type": "markdown",
   "source": [
    "### 7.6.1 Counting entries\n",
    "\n",
    "### To count the number of ``True`` entries in a Boolean array, ``np.count_nonzero`` is useful:"
   ],
   "metadata": {}
  },
  {
   "cell_type": "code",
   "execution_count": null,
   "source": [
    "# how many values less than 6?\n",
    "np.count_nonzero(x < 6)"
   ],
   "outputs": [],
   "metadata": {}
  },
  {
   "cell_type": "markdown",
   "source": [
    "### We see that `count_nonzero` counted the number of entries that were `True` in the entire matrix. \n",
    "### Python interprets `True` as having the numeric value of 1, and `False` as zero.  "
   ],
   "metadata": {}
  },
  {
   "cell_type": "code",
   "execution_count": null,
   "source": [
    "#how many values in the 2nd row (index = 1) less than 6 \n",
    "count = np.count_nonzero(x[1,:] < 6) # count the row with index = 1 \n",
    "print(count)"
   ],
   "outputs": [],
   "metadata": {}
  },
  {
   "cell_type": "markdown",
   "source": [
    "### Another way to get at this information is to use ``np.sum``; in this case, ``False`` is interpreted as ``0``, and ``True`` is interpreted as ``1``:"
   ],
   "metadata": {}
  },
  {
   "cell_type": "code",
   "execution_count": null,
   "source": [
    "np.sum(x < 6)"
   ],
   "outputs": [],
   "metadata": {}
  },
  {
   "cell_type": "markdown",
   "source": [
    "### The benefit of ``sum`` is that like with other NumPy aggregation functions, this summation can be done along rows or columns as well:"
   ],
   "metadata": {}
  },
  {
   "cell_type": "code",
   "execution_count": null,
   "source": [
    "# how many values less than 6 in each row?\n",
    "np.sum(x < 6, axis=1)"
   ],
   "outputs": [],
   "metadata": {}
  },
  {
   "cell_type": "markdown",
   "source": [
    "### This counts the number of values less than 6 in each row of the matrix.\n",
    "\n",
    "### If we're interested in quickly checking whether any or all the values are true, we can use (you guessed it) ``np.any`` or ``np.all``:"
   ],
   "metadata": {}
  },
  {
   "cell_type": "code",
   "execution_count": null,
   "source": [
    "# are there any values greater than 8?\n",
    "np.any(x > 8)"
   ],
   "outputs": [],
   "metadata": {}
  },
  {
   "cell_type": "code",
   "execution_count": null,
   "source": [
    "# are there any values less than zero?\n",
    "np.any(x < 0)"
   ],
   "outputs": [],
   "metadata": {}
  },
  {
   "cell_type": "code",
   "execution_count": null,
   "source": [
    "# are all values less than 10?\n",
    "np.all(x < 10)"
   ],
   "outputs": [],
   "metadata": {}
  },
  {
   "cell_type": "code",
   "execution_count": null,
   "source": [
    "# are all values equal to 6?\n",
    "np.all(x == 6)"
   ],
   "outputs": [],
   "metadata": {}
  },
  {
   "cell_type": "markdown",
   "source": [
    "### ``all`` and ``any`` can be used along particular axes as well. For example:"
   ],
   "metadata": {}
  },
  {
   "cell_type": "code",
   "execution_count": null,
   "source": [
    "# are all values in each row less than 8?\n",
    "np.all(x < 8, axis=1)"
   ],
   "outputs": [],
   "metadata": {}
  },
  {
   "cell_type": "markdown",
   "source": [
    "### 7.7 Finding Entries - Boolean Indexing \n",
    "\n",
    "### We can make use of the Boolean variable that is the results of a logical statement as the **index** into a variable to extract the variables that meet the condition of the logical statement.   \n",
    "\n",
    "### We often will want to return the **index** into an array that meets a logical condition. \n",
    "\n",
    "### Here numpy's `where` method is useful, but has a slightly odd syntax due to the return of a list"
   ],
   "metadata": {}
  },
  {
   "cell_type": "code",
   "execution_count": null,
   "source": [
    "my_array = rng.integers(0,10,20)\n",
    "print(my_array)"
   ],
   "outputs": [],
   "metadata": {}
  },
  {
   "cell_type": "code",
   "execution_count": null,
   "source": [
    "#test if the array entries are bigger than 5\n",
    "test = (my_array > 5)\n",
    "print(test)"
   ],
   "outputs": [],
   "metadata": {}
  },
  {
   "cell_type": "code",
   "execution_count": null,
   "source": [
    "#how many values are there greater than 5 \n",
    "count = np.sum(test)\n",
    "print(count)"
   ],
   "outputs": [],
   "metadata": {}
  },
  {
   "cell_type": "code",
   "execution_count": null,
   "source": [
    "#Lets get the values in my_array that are larger than 5 \n",
    "my_greater_than_5_array = my_array[test]\n",
    "print(my_greater_than_5_array)"
   ],
   "outputs": [],
   "metadata": {}
  },
  {
   "cell_type": "code",
   "execution_count": null,
   "source": [
    "np.size(my_greater_than_5_array)"
   ],
   "outputs": [],
   "metadata": {}
  },
  {
   "cell_type": "code",
   "execution_count": null,
   "source": [
    "#find the indices where the array entries are bigger than 5 \n",
    "test_indices = np.where(my_array > 5)\n",
    "print(test_indices)"
   ],
   "outputs": [],
   "metadata": {}
  },
  {
   "cell_type": "markdown",
   "source": [
    "### in a deeply annoying way, np.where will return a tuple.  This can cause shape problems."
   ],
   "metadata": {}
  },
  {
   "cell_type": "code",
   "execution_count": null,
   "source": [
    "test_array = my_array[test_indices]"
   ],
   "outputs": [],
   "metadata": {}
  },
  {
   "cell_type": "code",
   "execution_count": null,
   "source": [
    "np.shape(test_array)"
   ],
   "outputs": [],
   "metadata": {}
  },
  {
   "cell_type": "markdown",
   "source": [
    "## 7.8 Organizing Data with Boolean Arrays "
   ],
   "metadata": {}
  },
  {
   "cell_type": "markdown",
   "source": [
    "### Data is rarely delivered to you in the organized in the manner that you want for data analysis. \n",
    "\n",
    "### For example,consider a behavioral experiment with *3* conditions.  In a typical experimental protocol, the subject will be presented a random condition on each trial. The subjects response will be recorded on each trial. \n",
    "\n",
    "### We might then at the end expect to have a data file, where the data has been recorded continuously in the experiment IN THE ORDER OF EXPERIMENT, not organized by condition.  "
   ],
   "metadata": {}
  },
  {
   "cell_type": "code",
   "execution_count": null,
   "source": [
    "rtdata = pd.read_excel('rtdata.xlsx')"
   ],
   "outputs": [],
   "metadata": {}
  },
  {
   "cell_type": "code",
   "execution_count": null,
   "source": [
    "rtdata.keys()"
   ],
   "outputs": [],
   "metadata": {}
  },
  {
   "cell_type": "code",
   "execution_count": null,
   "source": [
    "print(rtdata['trialnumber'])\n"
   ],
   "outputs": [],
   "metadata": {}
  },
  {
   "cell_type": "markdown",
   "source": [
    "### First thing to do when we load a data file, is to look at the keys "
   ],
   "metadata": {}
  },
  {
   "cell_type": "code",
   "execution_count": null,
   "source": [
    "print(rtdata['condition'])"
   ],
   "outputs": [],
   "metadata": {}
  },
  {
   "cell_type": "code",
   "execution_count": null,
   "source": [
    "print(rtdata['responsetime'])"
   ],
   "outputs": [],
   "metadata": {
    "scrolled": true
   }
  },
  {
   "cell_type": "markdown",
   "source": [
    "### Before we get started, lets copy the values from the DataFrame to variables \n",
    "### I always go ahead and convert them into numpy arrays "
   ],
   "metadata": {}
  },
  {
   "cell_type": "code",
   "execution_count": null,
   "source": [
    "trialnumber = np.array(rtdata['trialnumber'])\n",
    "condition = np.array(rtdata['condition'])\n",
    "responsetime = np.array(rtdata['responsetime'])\n"
   ],
   "outputs": [],
   "metadata": {}
  },
  {
   "cell_type": "markdown",
   "source": [
    "### 7.8.1 `unique` values\n",
    "\n",
    "### Now, it would be quite useful to know how many conditions there are.  From looking at this, you might think there are 3 - 1,2,3.  But only 10 values are displayed here.  \n",
    "\n",
    "### A really useful function in numpy is `unique`"
   ],
   "metadata": {}
  },
  {
   "cell_type": "code",
   "execution_count": null,
   "source": [
    "the_conditions = np.unique(condition)\n",
    "print(the_conditions)"
   ],
   "outputs": [],
   "metadata": {}
  },
  {
   "cell_type": "markdown",
   "source": [
    "### 7.8.2  TASK: Compute the mean, median, 25th percentile, and 75th percentile of response time for each condition.  \n",
    "\n",
    "### HINT: USE LOGICAL STATEMENTS TO CREATE BOOLEAN VARIABLES THAT IDENTIFY THE TRIALS CORRESPONDING TO EACH CONDITION.   "
   ],
   "metadata": {}
  },
  {
   "cell_type": "code",
   "execution_count": null,
   "source": [],
   "outputs": [],
   "metadata": {}
  },
  {
   "cell_type": "markdown",
   "source": [],
   "metadata": {}
  }
 ],
 "metadata": {
  "kernelspec": {
   "name": "python3",
   "display_name": "Python 3.8.8 64-bit ('base': conda)"
  },
  "language_info": {
   "codemirror_mode": {
    "name": "ipython",
    "version": 3
   },
   "file_extension": ".py",
   "mimetype": "text/x-python",
   "name": "python",
   "nbconvert_exporter": "python",
   "pygments_lexer": "ipython3",
   "version": "3.8.8"
  },
  "interpreter": {
   "hash": "fda1d92c402c9d5e0550eab7f590eb1c0582e487619314e6aa12d68c281f0580"
  }
 },
 "nbformat": 4,
 "nbformat_minor": 4
}