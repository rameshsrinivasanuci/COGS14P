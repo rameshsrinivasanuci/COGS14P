{
 "cells": [
  {
   "cell_type": "markdown",
   "source": [
    "# Homework 4\n",
    "\n",
    "## Please answer the questions below by entering and executing code in the box below each question.  Dont forget to run the code, so that the plots are visible.  \n",
    "\n",
    "## The goals of this assignment are to reinforce lessons about logical statements and plotting.  \n",
    "\n",
    "## This homework is due on Monday November 1 at 11:59 pm. "
   ],
   "metadata": {}
  },
  {
   "cell_type": "code",
   "execution_count": null,
   "source": [
    "# import the modules you will need to do this assignment.  \n",
    "from matplotlib import pyplot as plt\n",
    "import numpy as np\n",
    "import pandas as pd"
   ],
   "outputs": [],
   "metadata": {}
  },
  {
   "cell_type": "markdown",
   "source": [
    "## For this assignment you will organize some data and make some plots from an experiment on emotional priming. \n",
    "\n",
    "## This experiment replicates a well-known phenomenon of musical priming - the emotional valence of musical stimuli can influence the speed of information processing of words with the same emotional valence. \n",
    "\n",
    "### These studies have shown the presence of congruency effects—i.e., positive words are evaluated faster when preceded by positive music than negative music, and similarly for negative words and negative music.  \n",
    "\n",
    "### The purpose the data set collected here, was a COVID specific goal - to establish that this known effect could be measured through a crowd sourcing online platform, without needing for the subject to come in to the laboratory.  \n",
    "\n",
    "### Individuals listened to a 1 second clip of music that was independently rated as positive or negative.  They were then presented a word with either a positive or negative affect.  They had to response by classifying the word as positive or negative.  The dependent variable is the response time.  The prediction is that a negative affect music produces a faster response for negative words than positive words, while the positive affect music produces a faster response for positive words than negative words.  "
   ],
   "metadata": {}
  },
  {
   "cell_type": "code",
   "execution_count": null,
   "source": [
    "data = pd.read_excel('Emotional_Prime_Task_labeled.xlsx')"
   ],
   "outputs": [],
   "metadata": {}
  },
  {
   "cell_type": "code",
   "execution_count": null,
   "source": [
    "data.keys()"
   ],
   "outputs": [],
   "metadata": {}
  },
  {
   "cell_type": "markdown",
   "source": [
    "### The data file has several important pieces of information.  For todays homework we will only use some of the information. \n",
    "\n",
    "* ### prime_affect indicates what type of music was played - positive or negative. \n",
    "* ### word_affect indicates what type of word was presented - positive or negative.  \n",
    "* ### responsetime gives the response time for each trial.  "
   ],
   "metadata": {}
  },
  {
   "cell_type": "markdown",
   "source": [
    "### As a first step, copy the variables of interest into numpy arrays.  "
   ],
   "metadata": {}
  },
  {
   "cell_type": "code",
   "execution_count": null,
   "source": [
    "prime_affect = np.array(data['prime_affect'])\n",
    "word_affect = np.array(data['word_affect'])\n",
    "responsetime = np.array(data['responsetime'])"
   ],
   "outputs": [],
   "metadata": {}
  },
  {
   "cell_type": "markdown",
   "source": [
    "## Plot 1.  First, lets visualize if there is a general effect on response time of positive and negative music. Make a histogram that shows the distribution of response time for positive and negative music. The histogram should show two different colored histograms in the same plot, one for prime_affect that is positive and the other for prime_affect that is negative. \n",
    "\n",
    "### Hint:  Logical statements can be used with string variables.  Thus the statement, \n",
    "\n",
    "### `negativetrials = (prime_affect == 'negative')`\n",
    "\n",
    "### returns `True` when the prime_affect is 'negative' and `False` when prime_affect is 'positive'.  This boolean array can be used to index responsetime.  \n"
   ],
   "metadata": {}
  },
  {
   "cell_type": "code",
   "execution_count": null,
   "source": [
    "negativetrials = (prime_affect == 'negative')"
   ],
   "outputs": [],
   "metadata": {}
  },
  {
   "cell_type": "markdown",
   "source": [
    "## Plot 2. Make a plot with 2 subplots.  \n",
    "### In one subplot show a violin plot of the distribution of response time for positive and negative music.  On the violin plot, indicate the median for each type of music. \n",
    "### In the other subplot show a violin plot of the distribution of response time for positive and negative words.  On the violin plot, indicate the median for each type of word.  "
   ],
   "metadata": {}
  },
  {
   "cell_type": "code",
   "execution_count": null,
   "source": [],
   "outputs": [],
   "metadata": {}
  },
  {
   "cell_type": "markdown",
   "source": [
    "## Plot 3.  Make an errorbar plot that shows the mean and standard deviation of response time for each of the four conditions of the experiment: (1) positive music with positive words, (2) positive music with negative words, (3) negative music with positive words, and (4) negative music with negative words.   We expect the matched conditions to produce faster responses than the unmatched conditions. \n",
    "\n",
    "### Hint: You can use Boolean Operators to combine logical statements. Thus the statement, \n",
    "\n",
    "`pos_pos_trials = (prime_affect == 'positive') & (word_affect == 'positive')` \n",
    "\n",
    "indicates `True` for trials with 'positive' music prime and 'positive' word.  "
   ],
   "metadata": {}
  },
  {
   "cell_type": "code",
   "execution_count": null,
   "source": [
    "pos_pos_trials = (prime_affect == 'positive') & (word_affect == 'positive')"
   ],
   "outputs": [],
   "metadata": {}
  }
 ],
 "metadata": {
  "orig_nbformat": 4,
  "language_info": {
   "name": "python",
   "version": "3.8.8",
   "mimetype": "text/x-python",
   "codemirror_mode": {
    "name": "ipython",
    "version": 3
   },
   "pygments_lexer": "ipython3",
   "nbconvert_exporter": "python",
   "file_extension": ".py"
  },
  "kernelspec": {
   "name": "python3",
   "display_name": "Python 3.8.8 64-bit ('base': conda)"
  },
  "interpreter": {
   "hash": "fda1d92c402c9d5e0550eab7f590eb1c0582e487619314e6aa12d68c281f0580"
  }
 },
 "nbformat": 4,
 "nbformat_minor": 2
}