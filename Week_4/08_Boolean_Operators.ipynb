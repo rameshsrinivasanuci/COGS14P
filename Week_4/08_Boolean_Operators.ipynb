{
 "cells": [
  {
   "cell_type": "markdown",
   "source": [
    "# Lesson 8 Boolean Operators \n",
    "\n",
    "## We introduce the use of combinations of Logical Statements using **Boolean operators** to express more complex logical expressions. \n",
    "\n",
    "## We review the use of Logical Statements to create Boolean masks"
   ],
   "metadata": {}
  },
  {
   "cell_type": "code",
   "execution_count": null,
   "source": [
    "#let's load the modules we need today\n",
    "import numpy as np\n",
    "from numpy import random\n",
    "import pandas as pd\n",
    "from matplotlib import pyplot as plt"
   ],
   "outputs": [],
   "metadata": {}
  },
  {
   "cell_type": "code",
   "execution_count": null,
   "source": [
    "#Initialize random number generator\n",
    "rng = random.default_rng(seed = 1111)"
   ],
   "outputs": [],
   "metadata": {}
  },
  {
   "cell_type": "markdown",
   "source": [
    "## 8.1 Boolean Operators\n",
    "\n",
    "### Boolean Operators are operators that work on Boolean variables to create **compound** logical statements.  \n",
    "\n",
    "### This is equivalent to the idea arithmetic operators are operators that work on floating point numbers.  \n"
   ],
   "metadata": {}
  },
  {
   "cell_type": "markdown",
   "source": [
    "###  8.1.1 Not operator\n",
    "\n",
    "\n",
    "### We already introduced one Boolean operator with is ~ (NOT).  This Boolean operator flipped the value of the Boolean variable between True and False. \n"
   ],
   "metadata": {}
  },
  {
   "cell_type": "code",
   "execution_count": null,
   "source": [
    "bool_array1 = np.array([0,0,0,1,1,0,1,0],dtype=bool)\n",
    "print(bool_array1)"
   ],
   "outputs": [],
   "metadata": {}
  },
  {
   "cell_type": "code",
   "execution_count": null,
   "source": [
    "bool_array2 = ~bool_array1\n",
    "print(bool_array2)"
   ],
   "outputs": [],
   "metadata": {}
  },
  {
   "cell_type": "markdown",
   "source": [
    "### Table of Boolean Operators.\n",
    "\n",
    "### The following table summarizes the bitwise Boolean operators and their equivalent ufuncs:\n",
    "\n",
    "### There are 3 logical operators: `and`, `or`, `not` <br>\n",
    "\n",
    "<table><tbody><tr><th>Operator</th>\n",
    "\t\t\t<th>Meaning</th>\n",
    "\t\t\t<th>Example</th>\n",
    "\t\t</tr><tr><td>and</td>\n",
    "\t\t\t<td>True if both the operands are true</td>\n",
    "\t\t\t<td>x & y</td>\n",
    "\t\t</tr><tr><td>or </td>\n",
    "\t\t\t<td>True if either of the operands is true</td>\n",
    "\t\t\t<td>x | y</td>\n",
    "\t\t</tr><tr><td>not</td>\n",
    "\t\t\t<td>True if operand is false (complements the operand)</td>\n",
    "\t\t\t<td>~x</td>\n",
    "\t\t</tr></tbody></table>\n",
    "        \n",
    "<br>"
   ],
   "metadata": {}
  },
  {
   "cell_type": "markdown",
   "source": [
    "\n",
    "### Combining Boolean operators on arrays can lead to a wide range of efficient logical operations"
   ],
   "metadata": {}
  },
  {
   "cell_type": "markdown",
   "source": [
    "### Example 1 - & (AND)"
   ],
   "metadata": {}
  },
  {
   "cell_type": "code",
   "execution_count": null,
   "source": [
    "a = rng.integers(-9,10,12) #make integers from -9 to 9 \n",
    "print(a)"
   ],
   "outputs": [],
   "metadata": {}
  },
  {
   "cell_type": "code",
   "execution_count": null,
   "source": [
    "x = (a < 5) #find the integers less than 5\n",
    "print('x = ',x) #This is a Boolean which tells where in a I can find x\n",
    "y = (a > -5) #find the integers greater than -5\n",
    "print('y = ',y) #This is a Boolean which tells me where in a I can find y "
   ],
   "outputs": [],
   "metadata": {}
  },
  {
   "cell_type": "markdown",
   "source": [
    "### To find the integers between -5 and 5 we need to take the **intersection** \n",
    "### of the subset of a represented by x with the subset of a represented by y. \n",
    "\n",
    "### In math, we would write this is as $x \\cap y$\n",
    "\n",
    "### In logic, this is known as an **and** operation.\n",
    "\n",
    "### In python, we can carry this out with an `&` operator"
   ],
   "metadata": {}
  },
  {
   "cell_type": "code",
   "execution_count": null,
   "source": [
    "z1 = x & y #The & symbol requires that both conditional statements be true \n",
    "print(z1)"
   ],
   "outputs": [],
   "metadata": {}
  },
  {
   "cell_type": "markdown",
   "source": [
    "### Example 2 - | (OR)"
   ],
   "metadata": {}
  },
  {
   "cell_type": "code",
   "execution_count": null,
   "source": [
    "a = rng.integers(-9,10,12) #make integers from -9 to 9 \n",
    "print(a)"
   ],
   "outputs": [],
   "metadata": {}
  },
  {
   "cell_type": "code",
   "execution_count": null,
   "source": [
    "x = (a > 6) #find the integers greater than 6\n",
    "print('x = ',x) #This is a Boolean which tells where in a I can find x\n",
    "y = (a < -6) #find the integers less than -6\n",
    "print('y = ',y) #This is a Boolean which tells me where in a I can find y "
   ],
   "outputs": [],
   "metadata": {}
  },
  {
   "cell_type": "markdown",
   "source": [
    "### To find the integers *either* greater than 6 *or* less than -6 we need to take the **union** of the subset of a represented by x with the subset of a represented by y. \n",
    "\n",
    "### In math, we would write this is as $x \\cup y$\n",
    "\n",
    "### In logic, this is known as an **or** operation.\n",
    "\n",
    "### In python, we can carry this out with an `|` operator"
   ],
   "metadata": {}
  },
  {
   "cell_type": "code",
   "execution_count": null,
   "source": [
    "z1 = (x | y) #The | symbol requires that either one of the conditional statements be true \n",
    "print(z1)"
   ],
   "outputs": [],
   "metadata": {}
  },
  {
   "cell_type": "markdown",
   "source": [
    "#### Example 2 - ^ (XOR)"
   ],
   "metadata": {}
  }
 ],
 "metadata": {
  "kernelspec": {
   "display_name": "Python 3",
   "language": "python",
   "name": "python3"
  },
  "language_info": {
   "codemirror_mode": {
    "name": "ipython",
    "version": 3
   },
   "file_extension": ".py",
   "mimetype": "text/x-python",
   "name": "python",
   "nbconvert_exporter": "python",
   "pygments_lexer": "ipython3",
   "version": "3.8.5"
  }
 },
 "nbformat": 4,
 "nbformat_minor": 4
}