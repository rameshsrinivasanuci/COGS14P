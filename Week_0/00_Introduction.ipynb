{
 "cells": [
  {
   "cell_type": "markdown",
   "source": [
    "# This is a Python (Jupyter) Notebook"
   ],
   "metadata": {
    "slideshow": {
     "slide_type": "slide"
    }
   }
  },
  {
   "cell_type": "markdown",
   "source": [
    "## Cells\n",
    "\n",
    "### This is a cell.  \n",
    "### Cells are of different types as indicated by the word \"markdown\" on the right.\n",
    "### A markdown cell contains html code, and is where i was place instructional text in the Lectures and in the Tutorials.   \n",
    "### The next cell is labeled \"Python\" and contains a bit of python code you can run. \n",
    "### Click on the next cell, then click on the arrow to the right or type shift-enter to execute the code. "
   ],
   "metadata": {
    "slideshow": {
     "slide_type": "notes"
    }
   }
  },
  {
   "cell_type": "code",
   "execution_count": null,
   "source": [
    "variable_name = \"my_variable\"\n",
    "print(variable_name)"
   ],
   "outputs": [],
   "metadata": {
    "slideshow": {
     "slide_type": "fragment"
    }
   }
  },
  {
   "cell_type": "markdown",
   "source": [
    "### The next cell does a small calculation of adding 2 numbers.  The print command displays the output"
   ],
   "metadata": {
    "slideshow": {
     "slide_type": "notes"
    }
   }
  },
  {
   "cell_type": "code",
   "execution_count": null,
   "source": [
    "a = 1\n",
    "b = 2\n",
    "\n",
    "c = a + b\n",
    "\n",
    "print(c)"
   ],
   "outputs": [],
   "metadata": {
    "slideshow": {
     "slide_type": "fragment"
    }
   }
  },
  {
   "cell_type": "markdown",
   "source": [
    "### The next cell does not print. Try running it.  It will seem to do nothing.\n",
    "### You need a `print` command to see the output. \n",
    "### Notice I used a `#` symbol to indicate a comment and not code. \n",
    "### I wrote a comment inline to indicate what the operation was. \n",
    "### On the next line i put a comment in front of print(c).  This means this line is not being executed. \n",
    "### Next try removing the comment and running the cell again.  "
   ],
   "metadata": {
    "slideshow": {
     "slide_type": "notes"
    }
   }
  },
  {
   "cell_type": "code",
   "execution_count": null,
   "source": [
    "a = 5 \n",
    "b = 4\n",
    "\n",
    "c = a*b  #multiply\n",
    "#print(c)"
   ],
   "outputs": [],
   "metadata": {
    "slideshow": {
     "slide_type": "fragment"
    }
   }
  },
  {
   "cell_type": "markdown",
   "source": [
    "### Another way to examine the output is to directly look at the variables.\n",
    "### In the window below, you will see a tab JUPYTER:VARIABLES.  Click on it. \n",
    "### Each Variable Name, Type, and Value is given.  "
   ],
   "metadata": {}
  },
  {
   "cell_type": "markdown",
   "source": [
    "### In the next example I do a calculation but I do not set it equal to any variable.  Try running it. "
   ],
   "metadata": {
    "slideshow": {
     "slide_type": "notes"
    }
   }
  },
  {
   "cell_type": "code",
   "execution_count": null,
   "source": [
    "a = 5\n",
    "b = 4\n",
    "a/b #divide"
   ],
   "outputs": [],
   "metadata": {
    "slideshow": {
     "slide_type": "fragment"
    }
   }
  },
  {
   "cell_type": "markdown",
   "source": [
    "### When there was nowhere to put the output of the divide, it just output to the window. \n",
    "### Take a look at the JUPYTER:VARIABLES tab.  There is no variable with value 1.25"
   ],
   "metadata": {
    "slideshow": {
     "slide_type": "notes"
    }
   }
  },
  {
   "cell_type": "markdown",
   "source": [
    "### Let's create an empty cell and make a new example with a = 3 b = 2 and compute c = a-b and display the results.\n",
    "### Remember that the Cell Type should be \"Python\" in order to execute the cell. \n",
    "\n",
    "### There are two ways to add a cell. One is to click the ... menu on the right and insert cell below. \n",
    "### The other is to hover over the cell and click on the +CODE box or click on +CODE above. "
   ],
   "metadata": {
    "slideshow": {
     "slide_type": "notes"
    }
   }
  },
  {
   "cell_type": "markdown",
   "source": [
    "### Suppose its all gone horribly wrong and you just want to restart everything.  \n",
    "### You can reset the jupyter notebook using the Clear Output button on top of the page.  "
   ],
   "metadata": {}
  },
  {
   "cell_type": "markdown",
   "source": [
    "### Finally, test that you can save out the notebook with your work as a new file.  Choose File -> Save as\n",
    "### I choose the filename test and it created a new file called test.ipynb which was in the same directory\n",
    "### and opened it to make sure it had my changes. "
   ],
   "metadata": {}
  }
 ],
 "metadata": {
  "celltoolbar": "Slideshow",
  "kernelspec": {
   "name": "python3",
   "display_name": "Python 3.8.8 64-bit ('base': conda)"
  },
  "language_info": {
   "codemirror_mode": {
    "name": "ipython",
    "version": 3
   },
   "file_extension": ".py",
   "mimetype": "text/x-python",
   "name": "python",
   "nbconvert_exporter": "python",
   "pygments_lexer": "ipython3",
   "version": "3.8.8"
  },
  "rise": {
   "scroll": true
  },
  "interpreter": {
   "hash": "fda1d92c402c9d5e0550eab7f590eb1c0582e487619314e6aa12d68c281f0580"
  }
 },
 "nbformat": 4,
 "nbformat_minor": 2
}