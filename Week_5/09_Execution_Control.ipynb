{
 "cells": [
  {
   "cell_type": "markdown",
   "source": [
    "# Lesson 11 Execution Control\n",
    "\n",
    "## One of the fundamental aspects of a program is execution control.  By execution control we mean that the program can act in different ways depending on a **conditional statement**. "
   ],
   "metadata": {}
  },
  {
   "cell_type": "markdown",
   "source": [
    "## 11.1 Conditional Statements: `if`\n",
    "\n",
    "### Conditionals are statements that evaluate a **logical statement**, using the `if` statement, and then only execute a set of code if the condition evaluates as True. "
   ],
   "metadata": {}
  },
  {
   "cell_type": "code",
   "execution_count": null,
   "source": [
    "import numpy as np \n",
    "from numpy import random\n",
    "rng = random.default_rng(seed = 1121)"
   ],
   "outputs": [],
   "metadata": {}
  },
  {
   "cell_type": "markdown",
   "source": [
    "### 11.1.1 Example"
   ],
   "metadata": {}
  },
  {
   "cell_type": "code",
   "execution_count": null,
   "source": [
    "condition = True\n",
    "\n",
    "if condition:\n",
    "    print('This code executes if the condition evaluates as True.')"
   ],
   "outputs": [],
   "metadata": {}
  },
  {
   "cell_type": "code",
   "execution_count": null,
   "source": [
    "# equivalent to above\n",
    "if condition == True:\n",
    "    print('This code executes if the condition evaluates as True.')"
   ],
   "outputs": [],
   "metadata": {}
  },
  {
   "cell_type": "code",
   "execution_count": null,
   "source": [
    "n = 1 \n",
    "if n > 0:\n",
    "    sign = 'positive'\n",
    "print(sign)"
   ],
   "outputs": [],
   "metadata": {}
  },
  {
   "cell_type": "markdown",
   "source": [
    "### 11.1.2 Syntax notes `if`\n",
    "\n",
    "### There are important pieces to the synatax \n",
    "* ### the logical statement leads with an `if` statement \n",
    "* ### the logical statement is followed by a colon `:`\n",
    "* ### the code to be executed if the conditional statement is met is indented. \n",
    "\n",
    "### Indentation facilitates clearly understanding of the hierarchy of execution control. "
   ],
   "metadata": {}
  },
  {
   "cell_type": "markdown",
   "source": [
    "### 11.1.3 Table of Comparison Operations\n",
    "\n",
    "### A logical statement almost always involves comparisons. Examples of comparisons that come to mind might be \n",
    "* #### `==` - equal                    \n",
    "* #### `!=` - not equal                \n",
    "* #### `>`  - greater than             \n",
    "* #### `>=` - greater than or equal    \n",
    "* #### `<`  - less than                \n",
    "* #### `<=` - less than or equal       \n",
    "\n",
    "### 11.1.4 Logical Operators \n",
    "\n",
    "### The results of logical operations that can return a *single* value of **True** or **False** can also be used in execution control with an if statement.  ### Logical operations on arrays will often return Boolean arrays that contain the result of a comparison operator applied to each element of the array.   ### These can be combined in  execution control by \n",
    "\n",
    "* ### np.any - check if any of the of elements of an array are True \n",
    "* ### np.all - check if all of the elements of an array are True\n"
   ],
   "metadata": {}
  },
  {
   "cell_type": "markdown",
   "source": [
    "### 11.1.5 Example 2"
   ],
   "metadata": {}
  },
  {
   "cell_type": "code",
   "execution_count": null,
   "source": [
    "array_a = rng.integers(-10,10,20)\n",
    "if np.any(array_a < 0):\n",
    "    print('There were negative numbers')\n"
   ],
   "outputs": [],
   "metadata": {}
  },
  {
   "cell_type": "code",
   "execution_count": null,
   "source": [
    "#what happens when the logical statement is false.  \n",
    "array_a = rng.integers(-10,10,20)\n",
    "if np.all(array_a < 0):\n",
    "    print('All numbers were negative numbers')\n"
   ],
   "outputs": [],
   "metadata": {}
  },
  {
   "cell_type": "markdown",
   "source": [
    "## 11.2 Conditional statements: `else`\n",
    "\n",
    "### After an if, you can use an `else` that will run if the logical statement was **False** and the conditional statement was not met. \n",
    "\n",
    "### Only one of the code fragments will run.  The logical statement can only one of **True** or **False**"
   ],
   "metadata": {}
  },
  {
   "cell_type": "code",
   "execution_count": null,
   "source": [
    "condition = False\n",
    "\n",
    "if condition:\n",
    "    print('This code executes if the condition evaluates as True.')\n",
    "else: \n",
    "    print('This code executes if the condition evaluates as False')"
   ],
   "outputs": [],
   "metadata": {}
  },
  {
   "cell_type": "markdown",
   "source": [
    "### 11.2.1 Example 3"
   ],
   "metadata": {}
  },
  {
   "cell_type": "code",
   "execution_count": null,
   "source": [
    "array_a = rng.integers(-10,10,20)\n",
    "if np.all(array_a < 0):\n",
    "    print('All numbers were negative numbers')\n",
    "else:\n",
    "    print('At least one number was a positive number')\n",
    "    "
   ],
   "outputs": [],
   "metadata": {}
  },
  {
   "cell_type": "code",
   "execution_count": null,
   "source": [
    "array_a = rng.integers(-10,10,20)\n",
    "if np.all(array_a < 0):\n",
    "    print('All numbers were negative numbers')\n",
    "else:\n",
    "    print('At least one number was zero or a positive number')\n",
    "    n_notnegative = np.sum(array_a >= 0)\n",
    "    print('Not negative: ', n_notnegative)"
   ],
   "outputs": [],
   "metadata": {}
  },
  {
   "cell_type": "markdown",
   "source": [
    "### 11.2.2 Syntax notes `else`\n",
    "\n",
    "### Notice that the `else` statement is itself a conditional statement.  Thus, it is completed with a colon `:`\n",
    "\n",
    "### Notice also, that the structure of an if-else statement can have multiple lines of code under each conditional statement \n",
    "\n",
    "    if logical statement: \n",
    "        do this  #CODE BLOCK EXECUTES ONLY IF LOGICAL STATEMENT IS TRUE \n",
    "        and this \n",
    "        and this \n",
    "    else:\n",
    "        do this  #CODE BLOCK EXECUTES ONLY IF LOGICAL STATEMENT IS FALSE\n",
    "        and this\n",
    "        and this\n",
    "\n"
   ],
   "metadata": {}
  },
  {
   "cell_type": "markdown",
   "source": [
    "## 11.3 Conditional Statements: `elif`\n",
    "\n",
    "### Multiple **non-overlapping** conditional statements can be organized together using an `elif` statement.\n",
    "\n",
    "`elif` combines else and if into one statement. "
   ],
   "metadata": {}
  },
  {
   "cell_type": "code",
   "execution_count": null,
   "source": [
    "condition_1 = False\n",
    "condition_2 = True\n",
    "\n",
    "if condition_1:\n",
    "    print('This code executes if condition_1 evaluates as True.')\n",
    "elif condition_2:\n",
    "    print('This code executes if condition_1 did not evaluate as True, but condition_2 does.')\n",
    "else: \n",
    "    print('This code executes if both condition_1 and condition_2 evaluate as False')"
   ],
   "outputs": [],
   "metadata": {}
  },
  {
   "cell_type": "markdown",
   "source": [
    "### `elif` without an `else`\n",
    "\n",
    "### An `else` statement is not required, but if both the `if` and the `elif` condtions are not met (both evaluate as **False**), then nothing is returned.\n"
   ],
   "metadata": {}
  },
  {
   "cell_type": "code",
   "execution_count": null,
   "source": [
    "condition_1 = True\n",
    "condition_2 = False\n",
    "\n",
    "if condition_1:\n",
    "    print('This code executes if condition_1 evaluates as True.')\n",
    "elif condition_2:\n",
    "    print('This code executes if condition_1 did not evaluate as True, but condition_2 does.')"
   ],
   "outputs": [],
   "metadata": {}
  },
  {
   "cell_type": "markdown",
   "source": [
    "### `elif` after an `else` does not make sense\n",
    "\n",
    "### The order will always be `if-elif-else`...with only the `if` being required. If the `elif` is at the end...it will never be tested, as the else will have already returned a value once reached (and thus Python will throw an error).\n"
   ],
   "metadata": {}
  },
  {
   "cell_type": "code",
   "execution_count": null,
   "source": [
    "## THIS CODE WILL PRODUCE AN ERROR\n",
    "condition_1 = False\n",
    "condition_2 = False\n",
    "\n",
    "if condition_1:\n",
    "    print('This code executes if condition_1 evaluates as True.')\n",
    "else: \n",
    "    print('This code executes if both condition_1 and condition_2 evaluate as False')\n",
    "elif condition_2:\n",
    "    print('This code executes if condition_1 did not evaluate as True, but condition_2 does.')"
   ],
   "outputs": [],
   "metadata": {}
  },
  {
   "cell_type": "markdown",
   "source": [
    "### But Python will not always produce an error and will allow you to write nonsense. "
   ],
   "metadata": {}
  },
  {
   "cell_type": "code",
   "execution_count": null,
   "source": [
    "if 1 + 1 == 2:\n",
    "    print(\"I did Math\")\n",
    "elif 1/0:\n",
    "    print(\"I broke Math\")\n",
    "else:\n",
    "    print(\"I didn't do math\")"
   ],
   "outputs": [],
   "metadata": {
    "scrolled": true
   }
  },
  {
   "cell_type": "markdown",
   "source": [
    "### Python is an interpreted language.  it is not testing all your code before executing.  It is interpeting it line by line while executing it.  "
   ],
   "metadata": {}
  },
  {
   "cell_type": "markdown",
   "source": [
    "### 11.3.1 Syntax notes `elif`\n",
    "\n",
    "    if logical statement 1: \n",
    "        do this  #CODE BLOCK EXECUTES ONLY IF LOGICAL STATEMENT 1 IS TRUE \n",
    "        and this \n",
    "        and this \n",
    "    elif logical statement 2: \n",
    "        do this  #CODE BLOCK EXECUTES ONLY IF LOGICAL STATMENT 2 is TRUE\n",
    "        and this\n",
    "        and this\n",
    "    else:\n",
    "        do this  #CODE BLOCK EXECUTES ONLY IF LOGICAL STATEMENT IS FALSE\n",
    "        and this\n",
    "        and this\n",
    "\n",
    "### An important implication of using the `if-elif-else` for execution control is to have a clear understanding of  the relationship between logical statement 1 and logical statement 2.   \n",
    "\n",
    "### You should think about this in terms of sets and subsets.  There is a subset that meets the conditions of logical statement 1.  If that is **True** , *logical statement 2 is never evaluated* \n",
    "\n",
    "### Thus *implicitly* in the above bit of code, the `elif` statement should be read as \n",
    "\n",
    "    elif (logical statement 2) & ~ (logical statement 1) "
   ],
   "metadata": {}
  },
  {
   "cell_type": "code",
   "execution_count": null,
   "source": [
    "#This is a logically screwed up set of statements. DONT DO THIS! \n",
    "n = 6\n",
    "if n < 10:\n",
    "    print('single digit')\n",
    "elif n > 5:\n",
    "    print('greater than 5')\n",
    "else:\n",
    "    print('double digit number')"
   ],
   "outputs": [],
   "metadata": {}
  },
  {
   "cell_type": "markdown",
   "source": [
    "### The problem with the above block of code is that the subsets of the space of integers that meet the criterion overlap.  \n",
    "* ### if n is 6,7,8,9 it meets two criteria, and only the first one executes. \n",
    "* ### if n >= 10 it meets two criteria and only the first one executes. "
   ],
   "metadata": {}
  },
  {
   "cell_type": "markdown",
   "source": [
    "## 11.4 Properties of conditionals\n",
    "\n",
    "- ### All conditionals start with an `if`, can have an optional and variable number of `elif`'s and an optional `else` statement\n",
    "- ### Conditionals can take any expression that can be evaluated as `True` or `False`. \n",
    "- ### At most one component (`if` / `elif` / `else`) of a conditional will run\n",
    "- ### The order of conditional blocks is always `if` then `elif`(s) then `else`\n",
    "- ### Code is only ever executed if the condition is met\n",
    "- ### The first condition met is executed.  Other condiitons will not be evaluated. "
   ],
   "metadata": {}
  },
  {
   "cell_type": "markdown",
   "source": [
    "## 11.5 Compound conditional statements \n",
    "\n",
    "### The only requirement on the logical statement that makes the conditional `if` statement is that can return either **True** or **False**.  We can make compound conditional statements using Boolean Operators `&` (and) `|` (or)"
   ],
   "metadata": {}
  },
  {
   "cell_type": "code",
   "execution_count": null,
   "source": [
    "n = 8 \n",
    "if (n%2 == 1) | (n > 10):\n",
    "    print('Either odd or Larger than 10')\n",
    "else:\n",
    "    print('Even and less than or equal to 10')\n",
    "    \n",
    "#Note that the opposite of an OR (|) conditional boolean operator in an AND.     "
   ],
   "outputs": [],
   "metadata": {}
  },
  {
   "cell_type": "code",
   "execution_count": null,
   "source": [
    "n = 17 \n",
    "if (n%2 == 0) & (n > 10):\n",
    "    print('Even and Larger than 10')\n",
    "else:\n",
    "    print('Either odd or less than or equal to 10')\n",
    "    \n",
    "#Note that the opposite of an AND (&) conditional boolean operator in an OR.    "
   ],
   "outputs": [],
   "metadata": {}
  },
  {
   "cell_type": "markdown",
   "source": [
    "## 11.6 Nested conditional statements \n",
    "\n",
    "### Another option for execution control with combined conditions is to nest `if-elif-else` statements. \n",
    "\n",
    "### This structure allows for more flexible options in the output than the compound conditional statement. \n",
    "\n",
    "### It can also be easier when you write code. "
   ],
   "metadata": {}
  },
  {
   "cell_type": "code",
   "execution_count": null,
   "source": [
    "n = 17 \n",
    "if n%2 == 0:   #Everything inside here is even\n",
    "    if n > 10:\n",
    "        print('Even and larger than 10')\n",
    "    else:\n",
    "        print('Even and smaller than or equal to 10')\n",
    "else:         #Everything inside here is not even, i.e., odd.  \n",
    "    if n > 10:\n",
    "        print('Odd and larger than 10')\n",
    "    else:\n",
    "        print('Odd and smaller than or equal to 10')\n"
   ],
   "outputs": [],
   "metadata": {}
  },
  {
   "cell_type": "markdown",
   "source": [
    "### 11.6.1 Syntax notes - nested conditional statements\n",
    "\n",
    "### Notice that if you nest conditional statements you have to be careful about indentation.  Indentation determines which conditional statement is associated with the code block. \n",
    "\n",
    "    if logical statement 1: \n",
    "        if logical statement 2: #CODE BLOCK EXECUTES ONLY IF LOGICAL STATEMENT 1 AND LOGICAL STATEMENT 2 IS TRUE \n",
    "            do this  \n",
    "            and this \n",
    "            and this\n",
    "        else: #CODE BLOCK EXECUTES ONLY IF LOGICAL STATEMENT 1 IS TRUE AND LOGICAL STATEMENT 2 IS FALSE\n",
    "            do this\n",
    "            and this \n",
    "            and this \n",
    "    else:\n",
    "        if logical statement 2: #CODE BLOCK EXECUTES ONLY IF LOGICAL STATEMENT 1 IS FALSE AND LOGICAL STATEMENT 2 IS TRUE \n",
    "            do this  \n",
    "            and this \n",
    "            and this\n",
    "        else: #CODE BLOCK EXECUTES ONLY IF LOGICAL STATEMENT 1 IS FALSE AND LOGICAL STATEMENT 2 IS FALSE\n",
    "            do this\n",
    "            and this \n",
    "            and this \n"
   ],
   "metadata": {}
  },
  {
   "cell_type": "markdown",
   "source": [
    "## When do I need to use execution control?\n",
    "\n",
    "### It is rare to need to use execution control in data analysis or visualization, but is very common in programs that control experiments, particularly experiments where the subject's response is used to adapt the experiment.  We will discuss an example of this later in the quarter.  "
   ],
   "metadata": {}
  },
  {
   "cell_type": "markdown",
   "source": [
    "### Let's make a grading example.  Suppose I want to write a bit of code to assign a letter grade.  \n",
    "### grades between  90 and 100 are A\n",
    "###                 80 and 89 are B\n",
    "###                 70 and 79 are C"
   ],
   "metadata": {}
  },
  {
   "cell_type": "code",
   "execution_count": null,
   "source": [
    "grade = 85\n"
   ],
   "outputs": [],
   "metadata": {}
  }
 ],
 "metadata": {
  "kernelspec": {
   "name": "python3",
   "display_name": "Python 3.8.8 64-bit ('base': conda)"
  },
  "language_info": {
   "codemirror_mode": {
    "name": "ipython",
    "version": 3
   },
   "file_extension": ".py",
   "mimetype": "text/x-python",
   "name": "python",
   "nbconvert_exporter": "python",
   "pygments_lexer": "ipython3",
   "version": "3.8.8"
  },
  "interpreter": {
   "hash": "fda1d92c402c9d5e0550eab7f590eb1c0582e487619314e6aa12d68c281f0580"
  }
 },
 "nbformat": 4,
 "nbformat_minor": 4
}