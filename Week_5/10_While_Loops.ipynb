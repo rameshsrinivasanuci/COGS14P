{
 "cells": [
  {
   "cell_type": "markdown",
   "source": [
    "# Lesson 10 Execution Control with `While` Loops\n",
    "\n",
    "## Loops are a fundamental construct of execution control. Loops are a way of controlling repetition of code, i.e., allow the same piece of code to run multiple times. \n",
    "\n",
    "## Two repetion structures in Python are `for` loops and `while` loops. \n",
    "\n",
    "## `for` loops run a set number of times.  In a typical application, a block of code needs to be applied to the elements of a list or an array or list one at a time.    The number of repetitions of the code is determined in advance. \n",
    "\n",
    "## `while` loops run as long as a specific logical condition is true. The key difference between `while` and `for` loops is that *the number of repetitions in a while loop is unknown* \n",
    "\n",
    "## While loops make it easy to make code blocks repeat and will be the focus of the lesson today "
   ],
   "metadata": {}
  },
  {
   "cell_type": "code",
   "execution_count": null,
   "source": [
    "import numpy as np \n",
    "from numpy import random\n",
    "from matplotlib import pyplot as plt\n",
    "#Lets start the random number generator\n",
    "rng = random.default_rng(seed = 9876)\n"
   ],
   "outputs": [],
   "metadata": {}
  },
  {
   "cell_type": "markdown",
   "source": [
    "## 10.1 While Loops\n",
    "\n",
    "### A `while` loop is a type of loop that runs as long as a *logical condition* is **True**. When the logical condition becomes **False**, the loop stops running. The general form of a while loop in Python is below:\n",
    "\n",
    "    while logical_statement: \n",
    "        do this\n",
    "        and that\n",
    "        and that \n",
    "        AND DO SOMETHING THAT POSSIBLY CHANGES THE STATE OF THE LOGICAL STATEMENT\n",
    "\n"
   ],
   "metadata": {}
  },
  {
   "cell_type": "markdown",
   "source": [
    "### 10.1.1 Example 1"
   ],
   "metadata": {}
  },
  {
   "cell_type": "code",
   "execution_count": null,
   "source": [
    "i = 0   #since i is in the logical statement, it must be set to an initial value \n",
    "while i<4:  # this is the conditional statement which controls execution\n",
    "    print(i)\n",
    "    i = i+1 #this is a critical line, as it updates the value of i\n"
   ],
   "outputs": [],
   "metadata": {
    "scrolled": true
   }
  },
  {
   "cell_type": "markdown",
   "source": [
    "### 10.2 CRITICAL STEP IN WHILE LOOPS\n",
    "\n",
    "### There are three critical pieces to the while loop.  \n",
    "* ### First, the variable(s) that will be used in the logical statement must be initialized to some value.  \n",
    "* ### Second, a while statement performs execution control based on a logical statement being true.  \n",
    "* ### Third, inside the while loop, the variable(s) used in the logical statement must be updated to new values \n",
    "\n",
    "### When making use of a `while` loop it is critical that there always be a line inside the while loop that updates whatever is being tested by the logical statement. \n",
    "\n",
    "### If that line is missing, the while loop will become an **infinite** loop and the code will only stop by an act of ***VIOLENCE*** by you against either your jupyter notebook server, or in a worst case, against your computer (hard reboot).  "
   ],
   "metadata": {}
  },
  {
   "cell_type": "markdown",
   "source": [
    "### 10.2.1 Example 2\n",
    "\n",
    "### Sometimes, its easy to just use a Boolean Indicator variable to control the while loop. \n",
    "\n",
    "### This can be useful if the conditions that end the while loop are complex. \n",
    "\n",
    "### Here I rewrite the loop above with an indicator variable. "
   ],
   "metadata": {}
  },
  {
   "cell_type": "code",
   "execution_count": null,
   "source": [
    "i = 0\n",
    "keep_looping = True\n",
    "while keep_looping:\n",
    "    print(i)\n",
    "    i = i+1\n",
    "    if i >= 4:\n",
    "        keep_looping = False\n"
   ],
   "outputs": [],
   "metadata": {}
  },
  {
   "cell_type": "markdown",
   "source": [
    "### 10.2.3 Example 3.  When will I have a thousand dollars? \n",
    "\n",
    "### Suppose you have 100 dollars.  You put in the bank, and each year they give you 2.5% interest (compounded annually).  How many years will it take for you to have more than 1000 dollars. \n",
    "\n",
    "### Disclaimer: I am fully aware of the compound interest formula.  Just bear with me here.  "
   ],
   "metadata": {}
  },
  {
   "cell_type": "code",
   "execution_count": null,
   "source": [],
   "outputs": [],
   "metadata": {}
  },
  {
   "cell_type": "markdown",
   "source": [
    "### What is the answer to the question? In terms of the code? "
   ],
   "metadata": {}
  },
  {
   "cell_type": "markdown",
   "source": [
    "### years! "
   ],
   "metadata": {}
  },
  {
   "cell_type": "markdown",
   "source": [
    "### 10.Example 4.  Sum of Random Numbers to a Limit. \n",
    "\n",
    "### This example shows a classical type of problem we might solve with a while loop where we are adding values to a counter to a limit.  \n",
    "\n",
    "\n",
    "\n",
    "\n",
    "\n"
   ],
   "metadata": {}
  },
  {
   "cell_type": "code",
   "execution_count": null,
   "source": [
    "limit = 100  #set the limit \n",
    "total = 0  #start at 0\n",
    "nsamples = 0 #start a counter to keep track of the number of samples\n",
    "while total < limit:\n",
    "    sample = rng.integers(0,10) #get one random number from a normal distribution\n",
    "    total = total + sample  # this updates the value of total \n",
    "    nsamples = nsamples + 1 # this keeps track of the number of samples taken\n",
    "print('total = ',total)\n",
    "print('nsamples = ',nsamples)\n"
   ],
   "outputs": [],
   "metadata": {}
  },
  {
   "cell_type": "markdown",
   "source": [
    "### I could save a bit more information from this loop, by actually saving out the running values of total on each step.  "
   ],
   "metadata": {}
  },
  {
   "cell_type": "code",
   "execution_count": null,
   "source": [
    "limit = 50  #set the limit \n",
    "total = 0  #start at 0\n",
    "totallist = list()\n",
    "nsamples = 0 #start a counter to keep track of the number of samples\n",
    "while total < limit:\n",
    "    sample = rng.integers(0,10) #get one random number from a normal distribution\n",
    "    total = total + sample  # this updates the value of total \n",
    "    nsamples = nsamples + 1 # this keeps track of the number of samples taken\n",
    "    totallist.append(total) # I append the current value of total to the list.  \n",
    "print('total = ',total)\n",
    "print('nsamples = ',nsamples)\n",
    "print('totallist = ', totallist)"
   ],
   "outputs": [],
   "metadata": {}
  },
  {
   "cell_type": "code",
   "execution_count": null,
   "source": [
    "totallist = np.array(totallist)  #clean it up into a numpy array\n",
    "print(totallist)"
   ],
   "outputs": [],
   "metadata": {}
  },
  {
   "cell_type": "code",
   "execution_count": null,
   "source": [
    "fig = plt.figure(figsize = (4,3)) # I selected the figure dimension here \n",
    "ax = fig.add_axes([0,0,1,1])\n",
    "ax.plot(totallist)  # i use the quick an dirty way to make a plot here\n",
    "ax.set_xlabel('number of samples',fontsize = 14)\n",
    "ax.set_ylabel('Total Value',fontsize = 14)\n",
    "plt.grid(True)\n",
    "plt.show()\n"
   ],
   "outputs": [],
   "metadata": {}
  },
  {
   "cell_type": "code",
   "execution_count": null,
   "source": [
    "nsample_list = np.arange(1,nsamples+1,1) # i made a numpy array from 1 to nsamples in steps of 1\n",
    "fig = plt.figure(figsize = (4,3)) # I selected the figure dimension here \n",
    "ax = fig.add_axes([0,0,1,1])\n",
    "ax.plot(nsample_list,totallist)  # i use the quick an dirty way to make a plot here\n",
    "ax.set_xlabel('number of samples',fontsize = 14)\n",
    "ax.set_ylabel('Total Value',fontsize = 14)\n",
    "plt.grid(True)\n",
    "plt.show()\n",
    "\n"
   ],
   "outputs": [],
   "metadata": {}
  }
 ],
 "metadata": {
  "kernelspec": {
   "name": "python3",
   "display_name": "Python 3.8.8 64-bit ('base': conda)"
  },
  "language_info": {
   "codemirror_mode": {
    "name": "ipython",
    "version": 3
   },
   "file_extension": ".py",
   "mimetype": "text/x-python",
   "name": "python",
   "nbconvert_exporter": "python",
   "pygments_lexer": "ipython3",
   "version": "3.8.8"
  },
  "interpreter": {
   "hash": "fda1d92c402c9d5e0550eab7f590eb1c0582e487619314e6aa12d68c281f0580"
  }
 },
 "nbformat": 4,
 "nbformat_minor": 4
}