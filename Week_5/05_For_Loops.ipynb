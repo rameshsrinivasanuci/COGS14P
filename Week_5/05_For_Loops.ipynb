{
 "cells": [
  {
   "cell_type": "markdown",
   "source": [
    "# Tutorial 5 Execution Control with For Loops\n",
    "\n",
    "Loops are a fundamental construct of execution control. Loops are a way of controlling repetition of code, \n",
    "\n",
    "Two repetion structures in Python are `for` loops and `while` loops. We discussed a while loop in class, here we introduce a `for` loop.  \n",
    "\n",
    "`for` loops run a set number of times.  In a typical application, a block of code needs to be applied to the elements of a list or an array or list one at a time.    The number of repetitions of the code is determined in advance. \n",
    "\n",
    " "
   ],
   "metadata": {}
  },
  {
   "cell_type": "markdown",
   "source": [
    "## 5.1 For Loop \n",
    "\n",
    "A `for` loop is a repetition structure where a code block runs a specified number of times.\n",
    "\n",
    "    for var in the_range_of_var:\n",
    "        do this\n",
    "        and this \n",
    "        and this \n",
    "    \n",
    "the_range_of_var can be given in many forms.  The most common way is the `range` command, but it can also be a **list** or a numpy **array** or even a **string**.\n",
    "\n",
    "The most important difference between a for loop and while loop is that a for loop **automatically increments the value of var to the next element in therange** in each repetition of the code block\n",
    "\n",
    "As we will see in the examples below var is often used as an index variable that indexes into arrays sequentially. "
   ],
   "metadata": {}
  },
  {
   "cell_type": "code",
   "execution_count": null,
   "source": [
    "import numpy as np\n",
    "from matplotlib import pyplot as plt"
   ],
   "outputs": [],
   "metadata": {}
  },
  {
   "cell_type": "markdown",
   "source": [
    "### 5.1.1 Example 1  Using the Range Function"
   ],
   "metadata": {}
  },
  {
   "cell_type": "code",
   "execution_count": null,
   "source": [
    "for i in range(3):\n",
    "    print(i)"
   ],
   "outputs": [],
   "metadata": {}
  },
  {
   "cell_type": "markdown",
   "source": [
    "### 5.1.2 Range function \n",
    "\n",
    "### Python's `range` function can be customized by supplying up to three arguments. The general format of the range function is below:\n",
    "\n",
    "    range(start,stop,step)\n",
    "    \n",
    "### *start*, *stop*, *step* must be **integers**\n"
   ],
   "metadata": {}
  },
  {
   "cell_type": "code",
   "execution_count": null,
   "source": [
    "print(range(0,6,2))"
   ],
   "outputs": [],
   "metadata": {
    "scrolled": true
   }
  },
  {
   "cell_type": "markdown",
   "source": [
    "### That was kind of dissatisfying.  Range is apparently a type of variable. "
   ],
   "metadata": {}
  },
  {
   "cell_type": "code",
   "execution_count": null,
   "source": [
    "list(range(0,6,2))"
   ],
   "outputs": [],
   "metadata": {}
  },
  {
   "cell_type": "markdown",
   "source": [
    "### That's better.  We can turn into a list.  Or as shown next, a numpy array"
   ],
   "metadata": {}
  },
  {
   "cell_type": "code",
   "execution_count": null,
   "source": [
    "np.array(range(0,6,2))"
   ],
   "outputs": [],
   "metadata": {}
  },
  {
   "cell_type": "code",
   "execution_count": null,
   "source": [
    "for i in range(0,6,2):\n",
    "    print(i)"
   ],
   "outputs": [],
   "metadata": {}
  },
  {
   "cell_type": "markdown",
   "source": [
    "### Can I use numpy's arange instead of range?  Yes! "
   ],
   "metadata": {}
  },
  {
   "cell_type": "code",
   "execution_count": null,
   "source": [
    "for i in np.arange(0,6,2):\n",
    "    print(i)"
   ],
   "outputs": [],
   "metadata": {
    "scrolled": false
   }
  },
  {
   "cell_type": "markdown",
   "source": [
    "### Keep this in mind if you need to step in fractions. But usually we will work with range.  "
   ],
   "metadata": {}
  },
  {
   "cell_type": "code",
   "execution_count": null,
   "source": [
    "for i in np.arange(0,2,0.25):\n",
    "    print(i)"
   ],
   "outputs": [],
   "metadata": {}
  },
  {
   "cell_type": "markdown",
   "source": [
    "## 5.2 Organizing input and output arrays with a for loop. \n",
    "\n",
    "## In this section we will discuss how indexing in a loop can be used ot interact with the looping variable of an for loop in very useful ways.  "
   ],
   "metadata": {}
  },
  {
   "cell_type": "markdown",
   "source": [
    "### 5.2.1 Example 5 Projecting your bank account in 5 years \n",
    "\n",
    "### Suppose you have $500 in your bank account and interest rate is 6.0\\% compounded annually. Write a for loop that will compute how much you will have in 5 years. "
   ],
   "metadata": {}
  },
  {
   "cell_type": "code",
   "execution_count": null,
   "source": [
    "n = 5 # number of years\n",
    "interest = 0.06 # interest rate \n",
    "balance = 500 # starting balance\n",
    "for year in range(n):\n",
    "    balance = balance+interest*balance\n",
    "print('Balance of ', balance, 'after ', n, 'years')\n",
    "    "
   ],
   "outputs": [],
   "metadata": {}
  },
  {
   "cell_type": "markdown",
   "source": [
    "### Suppose I wanted to save the output for each year, to make a graph. \n",
    "### Since I know the loop has 5 iterations corresponding to the 5 years, the best thing to do is to\n",
    "### **create a blank numpy array to save the output**\n",
    "### This can create some tricky handling of indices. "
   ],
   "metadata": {}
  },
  {
   "cell_type": "code",
   "execution_count": null,
   "source": [
    "n = 5 # number of years\n",
    "balance = np.zeros(n+1) #notice I do n+1 here.  This is because year 0 is the first value and then \n",
    "                        # I want to interate n more years. \n",
    "interest = 0.06 # interest rate \n",
    "balance[0] = 500 # starting balance at year 0\n",
    "for year in range(1,n+1):  #notice i go to n+1 so i can include n\n",
    "    balance[year] = balance[year-1]+interest*balance[year-1]\n",
    "print('balance = ', balance)"
   ],
   "outputs": [],
   "metadata": {}
  },
  {
   "cell_type": "markdown",
   "source": [
    "### Let's make a nice plot of it.  "
   ],
   "metadata": {}
  },
  {
   "cell_type": "code",
   "execution_count": null,
   "source": [
    "fig = plt.figure()\n",
    "a = fig.add_axes([0,0,1,1])\n",
    "a.bar(np.arange(0,6,1),balance) # notice I control the x axis variable here using np.arange to go from 0 to 5\n",
    "a.set_xlabel('Year',fontsize = 20)\n",
    "a.set_ylabel('Balance ($)',fontsize=20)"
   ],
   "outputs": [],
   "metadata": {}
  },
  {
   "cell_type": "markdown",
   "source": [
    "### What if interest rate varies over the five years? So that the interest rate for each of the five years is is [6\\%, 5\\%,4\\%,4\\%,5\\%]"
   ],
   "metadata": {}
  },
  {
   "cell_type": "code",
   "execution_count": null,
   "source": [
    "#n = 5 # number of years\n",
    "interest = np.array([0.06,0.05,0.04,0.04,0.05]) # interest rate \n",
    "n = np.size(interest) # I determined the number of years from the lenght of interest using the size function\n",
    "balance = np.zeros(n+1)\n",
    "balance[0] = 500 # starting balance\n",
    "for year in range(1,n+1):\n",
    "    balance[year] = balance[year-1]+interest[year-1]*balance[year-1] #notice that I use year here as an index into interest\n",
    "                                                                   #and into balance \n",
    "    "
   ],
   "outputs": [],
   "metadata": {}
  },
  {
   "cell_type": "markdown",
   "source": [
    "### Let's make a graph again "
   ],
   "metadata": {}
  },
  {
   "cell_type": "code",
   "execution_count": null,
   "source": [
    "fig = plt.figure()\n",
    "a = fig.add_axes([0,0,1,1])\n",
    "a.bar(np.arange(0,6,1),balance) # notice I control the x axis variable here using np.arange to go from 0 to 5\n",
    "a.set_xlabel('Year',fontsize = 20)\n",
    "a.set_ylabel('Balance ($)',fontsize=20)"
   ],
   "outputs": [],
   "metadata": {}
  }
 ],
 "metadata": {
  "kernelspec": {
   "name": "python3",
   "display_name": "Python 3.8.8 64-bit ('base': conda)"
  },
  "language_info": {
   "codemirror_mode": {
    "name": "ipython",
    "version": 3
   },
   "file_extension": ".py",
   "mimetype": "text/x-python",
   "name": "python",
   "nbconvert_exporter": "python",
   "pygments_lexer": "ipython3",
   "version": "3.8.8"
  },
  "interpreter": {
   "hash": "fda1d92c402c9d5e0550eab7f590eb1c0582e487619314e6aa12d68c281f0580"
  }
 },
 "nbformat": 4,
 "nbformat_minor": 4
}