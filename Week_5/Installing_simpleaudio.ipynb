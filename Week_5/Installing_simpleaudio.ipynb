{
 "cells": [
  {
   "cell_type": "markdown",
   "source": [
    "# Software installation and Testing for SimpleAudio\n",
    "\n",
    "## All of the commands below require use of terminal. \n",
    "\n",
    "## On a Mac just open your **Terminal** application. You can click the small magnifying glass icon in your menu bar at the right corner of your monitor (or press Command+Space) and type \"terminal.\"\n",
    "\n",
    "## In Windows, in the Anaconda Folder, you should find a program called **Anaconda Prompt**. \n",
    "\n",
    "#### Click the Windows Icon (lower left) and start typing \"Anaconda\". There should show up **Anaconda Prompt**. Click it to launch.\n",
    "\n",
    "## In Windows or Apporto, launch **Anaconda Navigotor** select **Powershell Prompt** \n",
    "\n",
    "## In Linux, open a terminal\n",
    "\n",
    "## pip is a package installer for Python. It is already installed if you are using Anaconda Python \n",
    "\n",
    "## On a Mac in terminal type\n",
    "\n",
    "## `python -m pip install simpleaudio` \n",
    "\n",
    "## In Windows/Linux/Apporto type\n",
    "\n",
    "## `pip install simpleaudio`\n",
    "\n",
    "## It should install simpleaudio. \n",
    "\n",
    "## If it fails please contact me (Apporto/Windows/Linux) or the TAs (Mac/Windows/Linux)"
   ],
   "metadata": {}
  },
  {
   "cell_type": "markdown",
   "source": [
    "### 1. Testing SimpleAudio\n",
    "#### Import Modules"
   ],
   "metadata": {}
  },
  {
   "cell_type": "code",
   "execution_count": 1,
   "source": [
    "import numpy as np\n",
    "import simpleaudio as sa"
   ],
   "outputs": [],
   "metadata": {}
  },
  {
   "cell_type": "markdown",
   "source": [
    "#### Playing a single sinusoidal note using a numpy array"
   ],
   "metadata": {}
  },
  {
   "cell_type": "code",
   "execution_count": 3,
   "source": [
    "# create a sinusoidal sound wave\n",
    "sr = 44100     # how many samples per second \n",
    "time = 0.5     # duration\n",
    "time_vec = np.linspace(0, time, int(time*sr))\n",
    "test_note = np.sin(300 * time_vec  * 2 * np.pi)\n",
    "\n",
    "# the sample amplitude values must consequently fall in the range of -32768 to 32767. \n",
    "# they must also have a signed 16-bit integer dtype (=2 bytes) and \n",
    "test_note  *= 32767 / np.max(np.abs(test_note))  \n",
    "test_note  = test_note.astype(np.int16)\n",
    "sa.play_buffer(test_note , 1, 2, sr) "
   ],
   "outputs": [
    {
     "output_type": "execute_result",
     "data": {
      "text/plain": [
       "<simpleaudio.shiny.PlayObject at 0x28d16b5c130>"
      ]
     },
     "metadata": {},
     "execution_count": 3
    }
   ],
   "metadata": {}
  },
  {
   "cell_type": "markdown",
   "source": [
    "#### Playing three sinusoidal "
   ],
   "metadata": {}
  },
  {
   "cell_type": "code",
   "execution_count": 4,
   "source": [
    "# calculate note frequencies\n",
    "A_freq = 440\n",
    "Csh_freq = A_freq * 2 ** (4 / 12)\n",
    "E_freq = A_freq * 2 ** (7 / 12)\n",
    "\n",
    "# get timesteps for each sample, T is note duration in seconds\n",
    "sample_rate = 44100\n",
    "T = 0.5\n",
    "t = np.linspace(0, T, int(T * sample_rate), False)\n",
    "# t = np.linspace(0, T, T * sample_rate, False) # a bug on their tutorial\n",
    "\n",
    "\n",
    "# generate sine wave notes\n",
    "A_note = np.sin(A_freq * t * 2 * np.pi)\n",
    "Csh_note = np.sin(Csh_freq * t * 2 * np.pi)\n",
    "E_note = np.sin(E_freq * t * 2 * np.pi)\n",
    "\n",
    "# concatenate notes\n",
    "audio = np.hstack((A_note, Csh_note, E_note))\n",
    "# normalize to 16-bit range\n",
    "audio *= 32767 / np.max(np.abs(audio))\n",
    "# convert to 16-bit data\n",
    "audio = audio.astype(np.int16)\n",
    "\n",
    "# start playback\n",
    "play_obj = sa.play_buffer(audio, 1, 2, sample_rate)\n",
    "\n",
    "# wait for playback to finish before exiting\n",
    "# for example, if you loop this script for 5 times this will make sure they dont overlap each time\n",
    "play_obj.wait_done()"
   ],
   "outputs": [],
   "metadata": {}
  },
  {
   "cell_type": "code",
   "execution_count": null,
   "source": [],
   "outputs": [],
   "metadata": {}
  },
  {
   "cell_type": "code",
   "execution_count": null,
   "source": [],
   "outputs": [],
   "metadata": {}
  }
 ],
 "metadata": {
  "interpreter": {
   "hash": "51cde194c893df21495e66371119e21293632b5506774909f7a0625f7dc4fddc"
  },
  "kernelspec": {
   "display_name": "Python 3.8.8 64-bit ('base': conda)",
   "name": "python3"
  },
  "language_info": {
   "codemirror_mode": {
    "name": "ipython",
    "version": 3
   },
   "file_extension": ".py",
   "mimetype": "text/x-python",
   "name": "python",
   "nbconvert_exporter": "python",
   "pygments_lexer": "ipython3",
   "version": "3.8.8"
  }
 },
 "nbformat": 4,
 "nbformat_minor": 5
}