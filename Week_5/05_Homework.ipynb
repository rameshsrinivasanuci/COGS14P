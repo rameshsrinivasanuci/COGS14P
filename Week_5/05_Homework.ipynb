{
 "cells": [
  {
   "cell_type": "markdown",
   "source": [
    "## Homework 5\n",
    "\n",
    "Please answer the questions below by entering and executing code in the box below each question.  Dont forget to use a print statement so your output is visible too! \n",
    "\n",
    "The goals of this assignment are to reinforce lessons about `if` statements `while` and `for` loops.  \n",
    "\n",
    "This homework is due on Monday Nov 5 11:59 pm.  "
   ],
   "metadata": {}
  },
  {
   "cell_type": "markdown",
   "source": [
    "## 1. Import the modules that you need and initialize the random number generator "
   ],
   "metadata": {}
  },
  {
   "cell_type": "code",
   "execution_count": null,
   "source": [
    "import numpy as np\n",
    "from numpy import random \n",
    "from matplotlib import pyplot as plt\n",
    "rng = random.default_rng(seed = 1111)"
   ],
   "outputs": [],
   "metadata": {}
  },
  {
   "cell_type": "markdown",
   "source": [
    "## 2. GEOMETRIC SERIES  1\n",
    "\n",
    "### $\\sum{\\frac{1}{2^n}} = \\frac{1}{2} + \\frac{1}{4} + \\frac{1}{8} + \\frac{1}{16} + ..... = 1$\n",
    "\n",
    "### is a **geometric** series, that sums to 1 as **n** approaches infinity. \n",
    "\n",
    "### Write a `for` loop that will sum this series to a fix number of terms (**n**), and then measure the **error** (the correct value of the sum should be 1 if n is infinity) or difference between the sum at n terms and 1.  For example, if you choose n = 5 you will get a larger error than n = 10.  As n gets larger the sum will be closer to 1.  \n",
    "\n",
    "### Warning: remember, python's `range` function starts counting at 0.  \n"
   ],
   "metadata": {}
  },
  {
   "cell_type": "code",
   "execution_count": null,
   "source": [],
   "outputs": [],
   "metadata": {}
  },
  {
   "cell_type": "markdown",
   "source": [
    "## 3.  cumsum \n",
    "### Search the internet to read up on the function `cumsum` in numpy.  Write some code using this function to solve problem #2 without a for loop "
   ],
   "metadata": {}
  },
  {
   "cell_type": "code",
   "execution_count": null,
   "source": [],
   "outputs": [],
   "metadata": {}
  },
  {
   "cell_type": "markdown",
   "source": [
    "## 4. GEOMETRIC SERIES 2\n",
    "\n",
    "### $\\sum{\\frac{1}{2^n}} = \\frac{1}{2} + \\frac{1}{4} + \\frac{1}{8} + \\frac{1}{16} + .....$\n",
    "\n",
    "### is a geometric series, that sums to 1 as **n** approaches infinity. \n",
    "\n",
    "### Write a `while` loop that will keep adding terms to the sum (i.e., increasing **n**) until the error (difference between the sum and 1) is smaller than a predetermined value (**tol**).  tol is a very small number, e.g., 0.001, which is how much error you can tolerate.  When we compute on a computer there is always error and many python functions require that you specify the amount of error you can tolerate.  \n",
    "\n",
    "### Then code should return the number of terms **n** in the sum.  "
   ],
   "metadata": {}
  },
  {
   "cell_type": "code",
   "execution_count": null,
   "source": [],
   "outputs": [],
   "metadata": {}
  },
  {
   "cell_type": "markdown",
   "source": [
    "## 5. COLLATZ CONJECTURE\n",
    "\n",
    "### This is one of these weird things with numbers that remains unproven, but always works. Collatz had this insight in 1939, but could not prove it, hence it is a conjecture. \n",
    "\n",
    "### Start with any positive integer.  Follow this rule. \n",
    "\n",
    "### (1) if the integer is even, the next integer is one half of the current integer. \n",
    "\n",
    "### (2) if the integer is odd, the next integer is 3 times the integer plus one. \n",
    "\n",
    "### Eventually the sequence of integers will reach 1. This always works! \n",
    "\n",
    "### Write some python code that generates such a sequence, and terminates at 1. Some hints. \n",
    "\n",
    "### (1) A while loop should test if the current state of the integer, and exit if the integer has reached 1. \n",
    "\n",
    "### (2) Remember that the conditional statement n%2 == 0 will return **True** if n is even and **False** if n is odd. \n",
    "\n",
    "### You code should save the sequence of integers and print it out at the end. \n",
    "\n",
    " \n",
    "\n",
    "\n"
   ],
   "metadata": {}
  },
  {
   "cell_type": "code",
   "execution_count": null,
   "source": [],
   "outputs": [],
   "metadata": {}
  }
 ],
 "metadata": {
  "kernelspec": {
   "name": "python3",
   "display_name": "Python 3.8.8 64-bit ('base': conda)"
  },
  "language_info": {
   "codemirror_mode": {
    "name": "ipython",
    "version": 3
   },
   "file_extension": ".py",
   "mimetype": "text/x-python",
   "name": "python",
   "nbconvert_exporter": "python",
   "pygments_lexer": "ipython3",
   "version": "3.8.8"
  },
  "interpreter": {
   "hash": "fda1d92c402c9d5e0550eab7f590eb1c0582e487619314e6aa12d68c281f0580"
  }
 },
 "nbformat": 4,
 "nbformat_minor": 4
}