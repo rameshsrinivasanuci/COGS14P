{
 "cells": [
  {
   "cell_type": "markdown",
   "source": [
    "# Homework 3\n",
    "\n",
    "## Please answer the questions below by entering and executing code in the box below each question.  Dont forget to run the code, so that the plots are visible.  \n",
    "\n",
    "## The goals of this assignment are to reinforce lessons about plottinh.  \n",
    "\n",
    "## This homework is due on Monday October 25 at 11:59 pm.  "
   ],
   "metadata": {}
  },
  {
   "cell_type": "code",
   "execution_count": null,
   "source": [
    "# import the modules you will need to do this assignment.  \n",
    "from matplotlib import pyplot as plt\n",
    "import numpy as np\n",
    "import pandas as pd\n"
   ],
   "outputs": [],
   "metadata": {}
  },
  {
   "cell_type": "markdown",
   "source": [
    "### This assignment makes use of data on marraiges and divorces in the United States. \n",
    "### The data is contained in a csv file, 'us-marriages-divorces-1867-2014-final.csv'"
   ],
   "metadata": {}
  },
  {
   "cell_type": "code",
   "execution_count": null,
   "source": [
    "# load the data into a pandas data frame\n",
    "data = pd.read_csv('us-marriages-divorces-1867-2014-final.csv')"
   ],
   "outputs": [],
   "metadata": {}
  },
  {
   "cell_type": "markdown",
   "source": [
    "## Plot 1 \n",
    "### Make a plot shows the number of marriages and number of divorces versus year (x-axis) using two different color lines and line styles.  The axes should be labelled and the plot should have a legend. \n"
   ],
   "metadata": {}
  },
  {
   "cell_type": "code",
   "execution_count": null,
   "source": [],
   "outputs": [],
   "metadata": {}
  },
  {
   "cell_type": "markdown",
   "source": [
    "## Plot 2 \n",
    "### Make a plot with 2 subplots. \n",
    "### One subplot should show divorces (y-axis) plotted against marriages(x-axis) with each point indicated by a colored symbol like a circle or diamond. \n",
    "### The other subplot should again show divorces plotted against marriages with each value indicated by a DIFFERENT colored symbol like a circle or diamond. \n",
    "### In this plot, explore using logarithmic scales for the x and y axis to make the data look as \"linear\" as possible.  \n",
    "### For both plots, the axes of each graph should be labeled.\n"
   ],
   "metadata": {}
  },
  {
   "cell_type": "code",
   "execution_count": null,
   "source": [],
   "outputs": [],
   "metadata": {}
  },
  {
   "cell_type": "markdown",
   "source": [
    "## Plot 3 \n",
    "\n",
    "### Make a plot with 2 subplots. \n",
    "### One subplot should show divorce per 1000 (y-axis) versus marriage per 1000 (x-axis) with each value indicated by a colored symbol.  \n",
    "### The other subplot should show a line plot of the *ratio* of divorces to marriages (y-axis) versus year (x-axis). The axes of each graph should be labeled.\n"
   ],
   "metadata": {}
  },
  {
   "cell_type": "code",
   "execution_count": null,
   "source": [],
   "outputs": [],
   "metadata": {}
  }
 ],
 "metadata": {
  "orig_nbformat": 4,
  "language_info": {
   "name": "python",
   "version": "3.8.8"
  },
  "kernelspec": {
   "name": "python3",
   "display_name": "Python 3.8.8 64-bit ('base': conda)"
  },
  "interpreter": {
   "hash": "fda1d92c402c9d5e0550eab7f590eb1c0582e487619314e6aa12d68c281f0580"
  }
 },
 "nbformat": 4,
 "nbformat_minor": 2
}