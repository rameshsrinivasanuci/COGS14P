{
 "cells": [
  {
   "cell_type": "markdown",
   "source": [
    "# Lesson 6 Dictionaries and DataFrames\n",
    "\n",
    "## This lesson will provide a brief introduction to two of the basic ways to organize information in python. \n",
    "\n",
    "## **Dictionaries** are a built in method in Python\n",
    "\n",
    "## **DataFrames** are a part of the `pandas` module.  They are very similar to dictionaries, but have become widely used because of the ease of importing and exporting data.  "
   ],
   "metadata": {}
  },
  {
   "cell_type": "code",
   "execution_count": null,
   "source": [
    "import numpy as np \n",
    "from matplotlib import pyplot as plt"
   ],
   "outputs": [],
   "metadata": {}
  },
  {
   "cell_type": "code",
   "execution_count": null,
   "source": [
    "import pandas as pd"
   ],
   "outputs": [],
   "metadata": {}
  },
  {
   "cell_type": "markdown",
   "source": [
    "## 6.1 Dictionaries"
   ],
   "metadata": {}
  },
  {
   "cell_type": "markdown",
   "source": [
    "### Let's recall how lists work.  "
   ],
   "metadata": {}
  },
  {
   "cell_type": "code",
   "execution_count": null,
   "source": [
    "my_kawhi_list = ['Kawhi','Leonard','June',29,1991,79.0]\n",
    "points = 26.0\n",
    "rebounds = 6.6\n",
    "assists = 5.0\n",
    "steals = 1.7\n",
    "blocks = 0.4\n",
    "#lets add these numbers to the list \n",
    "my_kawhi_list.append(points)\n",
    "my_kawhi_list.append(rebounds)\n",
    "my_kawhi_list.append(assists)\n",
    "my_kawhi_list.append(steals)\n",
    "my_kawhi_list.append(blocks)"
   ],
   "outputs": [],
   "metadata": {}
  },
  {
   "cell_type": "markdown",
   "source": [
    "### What do you see as potential problems with organizing my data on NBA players in this manner?"
   ],
   "metadata": {}
  },
  {
   "cell_type": "markdown",
   "source": [
    "### 6.1.1 Creating a Dictionary "
   ],
   "metadata": {}
  },
  {
   "cell_type": "code",
   "execution_count": null,
   "source": [
    "Player = dict() #create an empty dictionary \n",
    "Player['First Name'] = 'Kahwi'  #This is known as a 'key':value pair.  The 'key' is first name and the value in 'Kawhi'\n",
    "Player['Last Name'] = 'Leonard'\n",
    "Player['Height'] = 79.0 # The value can be a float, integer, string, list, array, or even another dictionary.  "
   ],
   "outputs": [],
   "metadata": {}
  },
  {
   "cell_type": "code",
   "execution_count": null,
   "source": [
    "#You could also have created the dictionary this way but I disapprove. \n",
    "#Player = {'First Name':'Kawhi','Last Name':'Leonard','Height':79.0}\n"
   ],
   "outputs": [],
   "metadata": {}
  },
  {
   "cell_type": "markdown",
   "source": [
    "### We can add modify and remove Dictionary entries.  "
   ],
   "metadata": {}
  },
  {
   "cell_type": "code",
   "execution_count": null,
   "source": [
    "#%% Adding, Modifying, Removing Dictionary entries -Slide 17\n",
    "points = 26.0\n",
    "rebounds = 6.6\n",
    "assists = 5.0\n",
    "steals = 1.7\n",
    "blocks = 0.4\n",
    "#Add items to the dictionary\n",
    "Player['Points'] = points \n",
    "Player['Rebounds'] = rebounds\n",
    "stats = np.array([points,rebounds,assists,steals,blocks])\n",
    "Player['Stats'] = stats\n",
    "#Remove items from the dictionary \n",
    "del Player['Height']\n",
    "#modify items in dictionary \n",
    "Player['First Name'] = 'Kawhi'"
   ],
   "outputs": [],
   "metadata": {}
  },
  {
   "cell_type": "markdown",
   "source": [
    "### So why do I love dictionaries.   Because I don't have to remember whats in them."
   ],
   "metadata": {}
  },
  {
   "cell_type": "code",
   "execution_count": null,
   "source": [
    "Player.keys()"
   ],
   "outputs": [],
   "metadata": {}
  },
  {
   "cell_type": "markdown",
   "source": [
    "### Everything contained in a dictionary can be made very explicit by the appropriate choice of keys. "
   ],
   "metadata": {}
  },
  {
   "cell_type": "markdown",
   "source": [
    "### The information in a dictionary retains its data type "
   ],
   "metadata": {}
  },
  {
   "cell_type": "code",
   "execution_count": null,
   "source": [
    "kawhi_stats = Player['Stats']"
   ],
   "outputs": [],
   "metadata": {}
  },
  {
   "cell_type": "markdown",
   "source": [
    "## 6.2 Pandas DataFrames\n",
    "\n",
    "### `pandas` is a file i/o and data organization module that is widely used in python programming. \n",
    "\n",
    "### One of the best things about `pandas` is that is can read in two of the most common data file types, \n",
    "* csv  - comma separated values\n",
    "* xls or xlsx - Microsoft Excel files.  \n",
    "\n",
    "### In this example I am going to load a csv file, *candy-data.csv* which contains data from a well-know study of candy preferences. "
   ],
   "metadata": {}
  },
  {
   "cell_type": "code",
   "execution_count": null,
   "source": [
    "candy_data = pd.read_csv('candy-data.csv')"
   ],
   "outputs": [],
   "metadata": {}
  },
  {
   "cell_type": "markdown",
   "source": [
    "### Like a Dictionary, a DataFrame has keys  "
   ],
   "metadata": {}
  },
  {
   "cell_type": "code",
   "execution_count": null,
   "source": [
    "print(candy_data.keys())"
   ],
   "outputs": [],
   "metadata": {}
  },
  {
   "cell_type": "markdown",
   "source": [
    "### Let's examine some the entries.  "
   ],
   "metadata": {}
  },
  {
   "cell_type": "code",
   "execution_count": null,
   "source": [
    "candyname = candy_data['competitorname']\n",
    "is_choco = candy_data['chocolate']\n",
    "win_percent = 100*candy_data['winpercent']\n",
    "sugar_percent = 100*candy_data['sugarpercent']"
   ],
   "outputs": [],
   "metadata": {}
  },
  {
   "cell_type": "markdown",
   "source": [
    "### The datatype here is a **Series**.  Let's see what we can do with it. "
   ],
   "metadata": {}
  },
  {
   "cell_type": "code",
   "execution_count": null,
   "source": [
    "meansugar = np.mean(sugar_percent)"
   ],
   "outputs": [],
   "metadata": {}
  },
  {
   "cell_type": "markdown",
   "source": [
    "### Look's like we can apply numpy functions to it. But I have sometimes run into trouble with it, especially with plotting.  You can always do this: "
   ],
   "metadata": {}
  },
  {
   "cell_type": "code",
   "execution_count": null,
   "source": [
    "sugar_percent = np.array(sugar_percent)"
   ],
   "outputs": [],
   "metadata": {}
  },
  {
   "cell_type": "markdown",
   "source": [
    "### `array` is your friend!"
   ],
   "metadata": {}
  },
  {
   "cell_type": "markdown",
   "source": [
    "### Lets end this on a note of talking about plots!"
   ],
   "metadata": {}
  },
  {
   "cell_type": "code",
   "execution_count": null,
   "source": [
    "fig = plt.figure(figsize = (4,4))   #creates a blank canvas \n",
    "ax = fig.add_axes([0,0,1,1]) #creates an axes - (starting pt x, starting pt y, fractional size x, fractional size y)\n",
    "ax.plot(sugar_percent,win_percent,'ro')\n",
    "ax.set_xlabel('Sugar Percent')\n",
    "ax.set_ylabel('Win Percent')\n",
    "#ax.set_xlim([0,100])\n",
    "#ax.set_ylim([0,100])"
   ],
   "outputs": [],
   "metadata": {}
  }
 ],
 "metadata": {
  "orig_nbformat": 4,
  "language_info": {
   "name": "python",
   "version": "3.8.8",
   "mimetype": "text/x-python",
   "codemirror_mode": {
    "name": "ipython",
    "version": 3
   },
   "pygments_lexer": "ipython3",
   "nbconvert_exporter": "python",
   "file_extension": ".py"
  },
  "kernelspec": {
   "name": "python3",
   "display_name": "Python 3.8.8 64-bit ('base': conda)"
  },
  "interpreter": {
   "hash": "fda1d92c402c9d5e0550eab7f590eb1c0582e487619314e6aa12d68c281f0580"
  }
 },
 "nbformat": 4,
 "nbformat_minor": 2
}