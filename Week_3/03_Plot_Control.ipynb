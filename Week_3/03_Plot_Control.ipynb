{
 "cells": [
  {
   "cell_type": "markdown",
   "source": [
    "# Tutorial 3 Plot Control \n",
    "\n",
    "## In this tutorial, we go over some of the aspects of controlling plots. \n",
    "\n",
    "## This includes\n",
    "* How to create different sized figures\n",
    "* How to control the line style and marker type\n",
    "* How to use subplots \n",
    "* How to use subplot grids\n",
    "* How to inset plots\n",
    "* How to use a logarithmic scale on the x and y axis"
   ],
   "metadata": {}
  },
  {
   "cell_type": "code",
   "execution_count": null,
   "source": [
    "import numpy as np\n",
    "from matplotlib import pyplot as plt"
   ],
   "outputs": [],
   "metadata": {}
  },
  {
   "cell_type": "markdown",
   "source": [],
   "metadata": {}
  },
  {
   "cell_type": "markdown",
   "source": [
    "## 3.1 Control of the Figure\n",
    "\n",
    "In this first section, we will manipulate the figure size, and the resolution (dots per inch)"
   ],
   "metadata": {}
  },
  {
   "cell_type": "code",
   "execution_count": null,
   "source": [
    "x = np.linspace(-2,2,10)\n",
    "y_pos = np.exp(x)  # exponential growth, I will label this \"positive\"\n",
    "y_neg = np.exp(-x) # exponential decay, I will label this \"negative\""
   ],
   "outputs": [],
   "metadata": {}
  },
  {
   "cell_type": "code",
   "execution_count": null,
   "source": [
    "fig = plt.figure(figsize=(6,4), dpi=72)  #here i specify the size of figure, (6,4) which is the default.  \n",
    "                                        # and the resolution (dots per inch -dpi)\n",
    "                                        #on-screen figures have typical dpi of 72 which is default \n",
    "                                        # to make a nice print out use a dpi of 300.     \n",
    "ax = fig.add_axes([0.0,0.0,1.0,1.0])\n",
    "ax.plot(x,y_pos,'ys-',label = 'Positive') # solid line with yellow colour and square marker\n",
    "ax.plot(x,y_neg,'gD--',label = 'Negative') # dash line with green colour and diamond marker\n",
    "ax.legend() # legend placed at the default location\n",
    "ax.set_title(\"Exponentials\")\n",
    "ax.set_xlabel('x')\n",
    "ax.set_ylabel('y')\n",
    "plt.show()"
   ],
   "outputs": [],
   "metadata": {}
  },
  {
   "cell_type": "markdown",
   "source": [
    "### To understand how the different controls work, please try each of the following changes to the code above, and see what happens.   "
   ],
   "metadata": {}
  },
  {
   "cell_type": "markdown",
   "source": [
    "### 3.1.1 Save the figure\n",
    "\n",
    "### The figure window has a size and a resolution, which was set in the call \n",
    "\n",
    "### `fig = plt.figure(figsize=(6,4), dpi=72)`\n",
    "\n",
    "### The figsize parameter determines the size of the figure. matplotlib default is (6,4) which is (width,height)\n",
    "\n",
    "### The resolution is in units of dots per inch or dpi.  matplotlib default is 72 - the only time you would change this (increasing to 300) is if you want to print out a figure.   \n",
    "\n",
    "### That can be a little hard to appreciate in a python notebook.  \n",
    "\n",
    "### In the upper right corner of the figure window, is a floppy drive symbol.  if you hover over it, the words `save as` will appear. \n",
    "\n",
    "### if you click on it, you can save the image to a .png file.  (the default name is output.png) Go ahead and save it to a file, in the same directory as the code.  \n",
    "\n",
    "### In the explorer view on the left, the file should appear.  if you double click on it, the file will display showing just the figure.  "
   ],
   "metadata": {}
  },
  {
   "cell_type": "markdown",
   "source": [
    "### 3.1.2  Change the figure size \n",
    "\n",
    "### I'm going to make the same figure, and change the figure size. "
   ],
   "metadata": {}
  },
  {
   "cell_type": "code",
   "execution_count": null,
   "source": [
    "fig = plt.figure(figsize=(4,6),dpi=72)  # I made the figure narrower and taller. \n",
    "ax = fig.add_axes([0.0,0.0,1.0,1.0])\n",
    "ax.plot(x,y_pos,'ys-',label = 'Positive') # solid line with yellow colour and square marker\n",
    "ax.plot(x,y_neg,'gD--',label = 'Negative') # dash line with green colour and diamond marker\n",
    "ax.legend() # legend placed at the default location\n",
    "ax.set_title(\"Exponentials\")\n",
    "ax.set_xlabel('x')\n",
    "ax.set_ylabel('y')\n",
    "plt.show()"
   ],
   "outputs": [],
   "metadata": {}
  },
  {
   "cell_type": "markdown",
   "source": [
    "### 3.1.2  Legend location\n",
    "\n",
    "### If we compare the two graphs, the first graph did a great job in locating the legend, but the 2nd graph did a terrible job. \n",
    "\n",
    "### We can take manual control of the legend location if necessary \n",
    "\n",
    "### `ax.legend(loc = 'best')` \n",
    "\n",
    "### This is equivalent to the default which is to find the best location, which doesnt always work. \n",
    "\n",
    "### Other choices are\n",
    "\n",
    "* best\n",
    "* upper right\n",
    "* upper left\n",
    "* lower left\n",
    "* lower right\n",
    "* right\n",
    "* center left\n",
    "* center right\n",
    "* lower center\n",
    "* upper center\n",
    "* center\n",
    "\n",
    "### Let's move the legend to the upper center.   "
   ],
   "metadata": {}
  },
  {
   "cell_type": "code",
   "execution_count": null,
   "source": [
    "fig = plt.figure(figsize=(4,6),dpi=72)  # I made the figure narrower and taller. \n",
    "ax = fig.add_axes([0.0,0.0,1.0,1.0])\n",
    "ax.plot(x,y_pos,'ys-',label = 'Positive') # solid line with yellow colour and square marker\n",
    "ax.plot(x,y_neg,'gD--',label = 'Negative') # dash line with green colour and diamond marker\n",
    "ax.legend(loc = 'upper center') # legend placed at the upper center\n",
    "ax.set_title(\"Exponentials\")\n",
    "ax.set_xlabel('x')\n",
    "ax.set_ylabel('y')\n",
    "plt.show()"
   ],
   "outputs": [],
   "metadata": {}
  },
  {
   "cell_type": "markdown",
   "source": [
    "### 3.1.3 Controlling Font Size \n",
    "\n",
    "### Its relatively easy to control the font size of the xlabel, ylabel, and title, as each of these commands take a parameter \n",
    "\n",
    "### `fontsize = 20`\n",
    "\n",
    "### To manipulate the fontsize of the tick labels. "
   ],
   "metadata": {}
  },
  {
   "cell_type": "code",
   "execution_count": null,
   "source": [
    "fig = plt.figure(figsize=(4,6),dpi=72)  # I made the figure narrower and taller. \n",
    "ax = fig.add_axes([0.0,0.0,1.0,1.0])\n",
    "ax.plot(x,y_pos,'ys-',label = 'Positive') # solid line with yellow colour and square marker\n",
    "ax.plot(x,y_neg,'gD--',label = 'Negative') # dash line with green colour and diamond marker\n",
    "ax.legend(loc = 'upper center',fontsize = 16) # legend placed at the upper center, control fontsize\n",
    "ax.set_title(\"Exponentials\",fontsize = 20) #set fontsize\n",
    "ax.set_xlabel('x',fontsize = 16) #set fontsize\n",
    "ax.set_ylabel('y', fontsize = 16) # set fontsize\n",
    "ax.tick_params(axis = 'x',labelsize = 14) # set fontsize of x ticks.  \n",
    "ax.tick_params(axis = 'y',labelsize = 14) # set fontsize of y ticks. \n",
    "plt.show()"
   ],
   "outputs": [],
   "metadata": {}
  },
  {
   "cell_type": "markdown",
   "source": [
    "### 3.1.4 Controlling x and y tick locations and values \n",
    "\n",
    "### The xtick and y tick location and values can be controlled with \n",
    "\n",
    "### `ax.set_xticks(xtick_locations)`\n",
    "\n",
    "### `ax.set_yticks(ytick_locations)`"
   ],
   "metadata": {}
  },
  {
   "cell_type": "code",
   "execution_count": null,
   "source": [
    "fig = plt.figure(figsize=(4,6),dpi=72)  # I made the figure narrower and taller. \n",
    "ax = fig.add_axes([0.0,0.0,1.0,1.0])\n",
    "ax.plot(x,y_pos,'ys-',label = 'Positive') # solid line with yellow colour and square marker\n",
    "ax.plot(x,y_neg,'gD--',label = 'Negative') # dash line with green colour and diamond marker\n",
    "ax.legend(loc = 'upper center',fontsize = 16) # legend placed at the upper center, control fontsize\n",
    "ax.set_title(\"Exponentials\",fontsize = 20) #set fontsize\n",
    "ax.set_xlabel('x',fontsize = 16) #set fontsize\n",
    "ax.set_ylabel('y', fontsize = 16) # set fontsize\n",
    "#I am going to set the ticks in two different ways for x and y axis. \n",
    "xtick_locations = [-2,-1.5,-1,-0.5,0,0.5,1,1.5,2] # I just made a list.  \n",
    "ytick_locations = np.linspace(0,8,9) #Here i used linspace. \n",
    "ax.set_xticks(xtick_locations)\n",
    "ax.set_yticks(ytick_locations)\n",
    "ax.tick_params(axis = 'x',labelsize = 14) # set fontsize of x ticks.  \n",
    "ax.tick_params(axis = 'y',labelsize = 14) # set fontsize of y ticks."
   ],
   "outputs": [],
   "metadata": {}
  },
  {
   "cell_type": "markdown",
   "source": [
    "### 3.1.5 Controlling Line Style and Color and Width and/or Marker Type and Color and Size\n",
    "\n",
    "####  There is a lot of control available here.  \n",
    "\n",
    "### Colors - \n",
    "* blue - 'b',\n",
    "* green - 'g',\n",
    "* red - 'r',\n",
    "* cyan - 'c',\n",
    "* magenta - 'm',\n",
    "* yellow - 'y',\n",
    "* black - 'k',\n",
    "* white - w' <br>\n",
    "\n",
    "### Line styles \n",
    "\n",
    "* '-' solid line \n",
    "* '--' dahsed line\n",
    "* '-.\" dash dot line\n",
    "* ':'  dotted line <br>\n",
    "\n",
    "### Line width\n",
    "\n",
    "### `linewidth = 2`\n",
    "\n",
    "### Marker shapes \n",
    "* '.'- point\n",
    "* 'o' - circle\n",
    "* 'x' - x marker \n",
    "* 'D' = diamond marker\n",
    "* 'H' - hexagon marker \n",
    "* 's' - square marker\n",
    "* '+' plus marker \n",
    "\n",
    "### Marker size\n",
    "\n",
    "### `markersize = 12`"
   ],
   "metadata": {}
  },
  {
   "cell_type": "markdown",
   "source": [
    "### In the next code block, attempt to change the line styles in a number of ways to get a feel for this. "
   ],
   "metadata": {}
  },
  {
   "cell_type": "code",
   "execution_count": null,
   "source": [
    "fig = plt.figure(figsize=(4,6),dpi=72)  # I made the figure narrower and taller. \n",
    "ax = fig.add_axes([0.0,0.0,1.0,1.0])\n",
    "ax.plot(x,y_pos,'mH-',label = 'Positive', linewidth = 2, markersize = 12) \n",
    "# solid line with magenta colour and hexagon marker controlling linewidth and marker size\n",
    "ax.plot(x,y_neg,'cx:',label = 'Negative', linewidth = 2, markersize = 12) \n",
    "# dotted line with cyan colour and x marker controlling linewidth and marker size\n",
    "ax.legend(loc = 'upper center',fontsize = 16) # legend placed at the upper center, control fontsize\n",
    "ax.set_title(\"Exponentials\",fontsize = 20) #set fontsize\n",
    "ax.set_xlabel('x',fontsize = 16) #set fontsize\n",
    "ax.set_ylabel('y', fontsize = 16) # set fontsize\n",
    "#I am going to set the ticks in two different ways for x and y axis. \n",
    "xtick_locations = [-2,-1.5,-1,-0.5,0,0.5,1,1.5,2] # I just made a list.  \n",
    "ytick_locations = np.linspace(0,8,9) #Here I used linspace\n",
    "ax.set_xticks(xtick_locations)\n",
    "ax.set_yticks(ytick_locations)\n",
    "ax.tick_params(axis = 'x',labelsize = 14) # set fontsize of x ticks.  \n",
    "ax.tick_params(axis = 'y',labelsize = 14) # set fontsize of y ticks."
   ],
   "outputs": [],
   "metadata": {}
  },
  {
   "cell_type": "markdown",
   "source": [
    "## 3.2 Subplots\n",
    "\n",
    "### In this section we go over the use of subplots, including subplots of different sizes.  "
   ],
   "metadata": {}
  },
  {
   "cell_type": "code",
   "execution_count": null,
   "source": [
    "# Just making some functions to plot.  \n",
    "x = np.arange(1,10)\n",
    "y1 = x**2\n",
    "y2 = np.sqrt(x)\n",
    "y3 = np.exp(x)\n",
    "y4 = np.log(x)"
   ],
   "outputs": [],
   "metadata": {}
  },
  {
   "cell_type": "markdown",
   "source": [
    "### 3.2.1 Subplot with equal sized plots"
   ],
   "metadata": {}
  },
  {
   "cell_type": "code",
   "execution_count": null,
   "source": [
    "fig,a = plt.subplots(2,2, figsize = (8,8))  \n",
    "#note that all of the options in the figure command can be used here. \n",
    "#I made a square figure window, because doing so made all my plots into nice squares.  \n",
    "a[0][0].plot(x,y1,'ro-')\n",
    "a[0][0].set_title('square')\n",
    "a[0][1].plot(x,y2,'bs-')\n",
    "a[0][1].set_title('square root')\n",
    "a[1][0].plot(x,y3,'gH-')\n",
    "a[1][0].set_title('exponential')\n",
    "a[1][1].plot(x,y4,'kD-')\n",
    "a[1][1].set_title('log')\n",
    "plt.tight_layout()\n",
    "plt.show()"
   ],
   "outputs": [],
   "metadata": {}
  },
  {
   "cell_type": "markdown",
   "source": [
    "### 3.2.2 Subplot with unequal sized plots\n",
    "\n",
    "### subplot2grid allows you to vary the plot shapes.  It can be tricky to use, but I include it for completeness.  "
   ],
   "metadata": {}
  },
  {
   "cell_type": "code",
   "execution_count": null,
   "source": [
    "a1 = plt.subplot2grid((3,3),(0,0),colspan = 2) # Here I am using the (0,0) position in a (3,3) grid, but I want to use 2 columns\n",
    "a2 = plt.subplot2grid((3,3),(0,2), rowspan = 3) # Here i am using the (0,2) position in a (3,3) grid but I am using 3 rows. \n",
    "a3 = plt.subplot2grid((3,3),(1,0),rowspan = 2, colspan = 2) # Here I start at the (1,0) position and use 2 rows and 2 columns\n",
    "a1.plot(x, y3,'bs-')\n",
    "a1.set_title('exp')\n",
    "a2.plot(x, y1,'ro-')\n",
    "a2.set_title('square')\n",
    "a3.plot(x, y4,'kD-')\n",
    "a3.set_title('log')\n",
    "plt.tight_layout()\n",
    "plt.show()"
   ],
   "outputs": [],
   "metadata": {}
  },
  {
   "cell_type": "markdown",
   "source": [
    "### 3.2.3 Plot with inset plot\n",
    "\n",
    "### This is one of my **favorite** plot tricks! "
   ],
   "metadata": {}
  },
  {
   "cell_type": "code",
   "execution_count": null,
   "source": [
    "fig=plt.figure(figsize = (6,6))\n",
    "axes1 = fig.add_axes([0.1, 0.1, 0.8, 0.8]) # main axes\n",
    "axes2 = fig.add_axes([0.55, 0.2, 0.3, 0.4]) # inset axes\n",
    "axes1.plot(x,y4, 'bs-')\n",
    "axes2.plot(x,y3,'rD-')\n",
    "axes1.set_title('log', fontsize = 20)\n",
    "axes1.set_xlabel('x', fontsize = 14)\n",
    "axes1.set_ylabel('y', fontsize = 14)\n",
    "axes2.set_title(\"exponential\", fontsize = 16)\n",
    "axes2.set_xlabel('x', fontsize = 10)\n",
    "axes2.set_ylabel('y',fontsize = 10)\n",
    "plt.show()"
   ],
   "outputs": [],
   "metadata": {}
  },
  {
   "cell_type": "markdown",
   "source": [
    "### 3.3 Custom Grid Lines  "
   ],
   "metadata": {}
  },
  {
   "cell_type": "code",
   "execution_count": null,
   "source": [
    "fig, axes = plt.subplots(1,3, figsize = (12,4))\n",
    "\n",
    "axes[0].plot(x, y1, 'go-',linewidth=2)\n",
    "axes[0].grid(True)\n",
    "axes[0].set_title('default grid')\n",
    "axes[1].plot(x, y1, 'rs-', linewidth = 2)\n",
    "axes[1].grid(color='b', ls = '--', lw = 0.25)\n",
    "axes[1].set_title('custom grid 1')\n",
    "axes[2].plot(x,y1,'kD-',linewidth=2)\n",
    "axes[2].set_title('custom grid 2')\n",
    "axes[2].grid(color='m', ls = '--', axis = 'x')\n",
    "fig.tight_layout()\n",
    "plt.show()"
   ],
   "outputs": [],
   "metadata": {}
  },
  {
   "cell_type": "markdown",
   "source": [
    "## 3.4 Logarithmic Scales \n",
    "\n",
    "### ** THIS MAY BE THE MOST IMPORTANT PART OF THE TUTORIAL!**\n",
    "\n",
    "We can "
   ],
   "metadata": {}
  },
  {
   "cell_type": "code",
   "execution_count": null,
   "source": [
    "# Logarithmic scale \n",
    "\n",
    "x = np.arange(1,10,1)\n",
    "z1 = 10**x\n",
    "\n",
    "fig, axes = plt.subplots(1, 2, figsize=(12,6))\n",
    "xtickvals = np.linspace(1,9,9)\n",
    "axes[0].plot(x,z1,'bs',label = 'powers of 10')\n",
    "axes[0].set_title(\"Normal scale\")\n",
    "axes[1].plot(x,z1,'rs',label = 'powers of 10')\n",
    "axes[1].set_title(\"Logarithmic scale - yaxis\")\n",
    "axes[1].set_yscale(\"log\")  # Here I set the y axis to a logarithmic scale \n",
    "axes[0].set_xlabel(\"x axis\")\n",
    "axes[0].set_ylabel(\"y axis\")\n",
    "axes[1].set_xlabel(\"x axis\")\n",
    "axes[1].set_ylabel(\"y axis\")\n",
    "\n",
    "axes[0].set_xticks(xtickvals)\n",
    "axes[1].set_xticks(xtickvals)\n",
    "axes[0].legend()\n",
    "axes[1].legend()\n",
    "plt.show()"
   ],
   "outputs": [],
   "metadata": {}
  },
  {
   "cell_type": "markdown",
   "source": [
    "### The plot on the left seems \"wrong\" but is in fact correct.  Although the y axis is labeled 0 to 1 on top of the y axis is the value 1e9.  this is to indicate that 1 corresponds to 1e9\n",
    "\n",
    "### The plot on the right is much better and easier to understand.  The y axis has been placed on a logarithmic scale such that \n",
    "### each tick mark corresponds to an increase by a **multiplicative** factor of 100.  The exponential function now looks linear. \n",
    "\n",
    "### This makes sense, because every increase in the x axis is **multiplying** the y axis by a factor of 10. "
   ],
   "metadata": {}
  },
  {
   "cell_type": "code",
   "execution_count": null,
   "source": [
    "y = np.array([0.001, 0.01, 0.1, 1, 10, 100, 1000])  # Each element is a factor of 10 larger than the previous element.  \n",
    "z2 = np.log10(y)\n",
    "fig, axes = plt.subplots(1, 2, figsize=(12,6))\n",
    "axes[0].plot( y, z2,'bs-',label = 'Logarithm base 10')\n",
    "axes[1].plot(y,z2,'rs-',label = 'Logarithm base 10')\n",
    "axes[1].set_xscale(\"log\") # Here I set the x axis to a logarithmic scale.  \n",
    "axes[0].set_title(\"Normal Scale\")\n",
    "axes[1].set_title(\"Logarithmic scale (y)\")\n",
    "axes[0].set_xlabel(\"x axis\")\n",
    "axes[0].set_ylabel(\"y axis\")\n",
    "axes[1].set_xlabel(\"x axis\")\n",
    "axes[1].set_ylabel(\"y axis\")\n",
    "\n",
    "plt.show()"
   ],
   "outputs": [],
   "metadata": {}
  },
  {
   "cell_type": "markdown",
   "source": [
    "### The plot on the right is much better and easier to understand.  The x axis has been placed on a logarithmic scale such that each tick mark corresponds to an increase by a **multiplicative** factor of 10.  The logarithmic function now looks linear. \n",
    "\n",
    "### This makes sense, because every increase in the y axis requires that we **multiply** the x axis by a factor of 10. \n",
    "\n",
    "## It is extremely useful when looking at data to manipulate the x and y axis scales to see if we can make the data **look** linear by using logarithmic scales on the axis.  That tells us something useful about the relationship between the variables. When exploring data, we often make one or both of the axis logarithmic.   "
   ],
   "metadata": {}
  }
 ],
 "metadata": {
  "orig_nbformat": 4,
  "language_info": {
   "name": "python",
   "version": "3.8.8",
   "mimetype": "text/x-python",
   "codemirror_mode": {
    "name": "ipython",
    "version": 3
   },
   "pygments_lexer": "ipython3",
   "nbconvert_exporter": "python",
   "file_extension": ".py"
  },
  "kernelspec": {
   "name": "python3",
   "display_name": "Python 3.8.8 64-bit ('base': conda)"
  },
  "interpreter": {
   "hash": "fda1d92c402c9d5e0550eab7f590eb1c0582e487619314e6aa12d68c281f0580"
  }
 },
 "nbformat": 4,
 "nbformat_minor": 2
}