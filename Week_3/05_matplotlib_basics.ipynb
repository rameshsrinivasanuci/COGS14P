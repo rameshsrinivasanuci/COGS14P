{
 "cells": [
  {
   "cell_type": "markdown",
   "source": [
    "# Lesson 5 Matplotlib Basics - tools for visualizing data"
   ],
   "metadata": {}
  },
  {
   "cell_type": "markdown",
   "source": [
    "## Introduction"
   ],
   "metadata": {}
  },
  {
   "cell_type": "markdown",
   "source": [
    "### The `matplotlib` **module** is used the basic module for data visualization using Python. \n",
    "\n",
    "### Other modules have been developed, e.g., seaborn, https://seaborn.pydata.org/, but these are (almost) always built on top of `matplotlib`\n",
    "\n",
    "### The vast majority of the data visualization make use of a single submodule called `pyplot` \n"
   ],
   "metadata": {}
  },
  {
   "cell_type": "markdown",
   "source": [
    "## 5.1 Import the pyplot submodule\n",
    "\n",
    "### Its common practice to import pyplot as plt"
   ],
   "metadata": {}
  },
  {
   "cell_type": "code",
   "execution_count": null,
   "source": [
    "from matplotlib import pyplot as plt"
   ],
   "outputs": [],
   "metadata": {}
  },
  {
   "cell_type": "markdown",
   "source": [
    "### The above line imports the pylot submodule of matplotlib and gives it the short name plt\n",
    "\n",
    "### And as always, I'm going to import numpy"
   ],
   "metadata": {}
  },
  {
   "cell_type": "code",
   "execution_count": null,
   "source": [
    "import numpy as np"
   ],
   "outputs": [],
   "metadata": {}
  },
  {
   "cell_type": "markdown",
   "source": [
    "### For the sake of todays exercise, I am going to make a sine and a cosine function "
   ],
   "metadata": {}
  },
  {
   "cell_type": "code",
   "execution_count": null,
   "source": [
    "angle = np.linspace(0,2*np.pi,100) #I make 100 evenly spaces values going from 0 to 2*pi\n",
    "C = np.cos(angle) #cosine function \n",
    "S = np.sin(angle) #sine function"
   ],
   "outputs": [],
   "metadata": {}
  },
  {
   "cell_type": "markdown",
   "source": [
    "## 5.2 Simple Line Plots"
   ],
   "metadata": {}
  },
  {
   "cell_type": "markdown",
   "source": [
    "Perhaps not so surprisingly, the simplest command to make a plot in pyplt is called `plot`.  Here is a simple example. "
   ],
   "metadata": {}
  },
  {
   "cell_type": "code",
   "execution_count": null,
   "source": [
    "plt.plot(angle,S)\n",
    "plt.show() # this makes a clean display of the plot.   "
   ],
   "outputs": [],
   "metadata": {
    "scrolled": true
   }
  },
  {
   "cell_type": "markdown",
   "source": [
    "### This is the simplest, easiest way to invoke a plot in python.  And when you just want a quick plot, this is the way to do it. \n",
    "\n",
    "### However, when you want to make a high quality plot, you want to make use of a different interface to pyplot.  Today's lesson will make use of that interface which is often referred to as the **object oriented** interface.  "
   ],
   "metadata": {}
  },
  {
   "cell_type": "code",
   "execution_count": null,
   "source": [
    "#object-oriented interface\n",
    "fig = plt.figure()   #creates a blank canvas \n",
    "ax = fig.add_axes([0,0,1,1]) #creates an axes - (starting pt x, starting pt y, fractional size x, fractional size y)\n",
    "ax.plot(angle,S) #add a plot to the axes.  \n",
    "plt.show()"
   ],
   "outputs": [],
   "metadata": {}
  },
  {
   "cell_type": "markdown",
   "source": [
    "### The code above had 3 parts to it. <br>\n",
    "* We created a figure *object* named **fig**.  This object has properties which control the figure. <br>\n",
    "* We created an axes *object* named **ax**.  This object has properties which control the axis. <br>\n",
    "* We added a plot to the axes **ax**  <br>\n",
    "\n",
    "### When we use `plot` we are in fact invoking a figure and an axes, then adding a plot.  But, by using `plot` we are making use of the default values. \n",
    "\n",
    "### We can add a second line to the same plot, by calling plot again.  \n",
    "\n"
   ],
   "metadata": {}
  },
  {
   "cell_type": "code",
   "execution_count": null,
   "source": [
    "fig = plt.figure()   #creates a blank canvas \n",
    "ax = fig.add_axes([0,0,1,1]) #creates an axes - (starting pt x, starting pt y, fractional size x, fractional size y)\n",
    "ax.plot(angle,S) #add a plot to the axes.  \n",
    "ax.plot(angle,C) #add a plot to the axes.  \n",
    "plt.show()"
   ],
   "outputs": [],
   "metadata": {}
  },
  {
   "cell_type": "markdown",
   "source": [
    "## 5.3 Labeling the plot. \n",
    "\n",
    "### What's wrong with that plot?   Its missing information to be able to interpret the plot.  \n",
    "\n",
    "* Axes labels  - What is the x axis, what is the y axis? \n",
    "* Line labels  - which one is sine, and which one is cosine? \n",
    "* Title (optional) - maybe I need a title. "
   ],
   "metadata": {}
  },
  {
   "cell_type": "code",
   "execution_count": null,
   "source": [
    "fig = plt.figure()   #creates a blank canvas \n",
    "ax = fig.add_axes([0,0,1,1]) #creates an axes - (starting pt x, starting pt y, fractional size x, fractional size y)\n",
    "ax.plot(angle,S,label ='sine')  #add a plot to the axes.\n",
    "                                #I also gave the line a label. \n",
    "ax.plot(angle,C,label = 'cosine' ) #add a plot to the axes.\n",
    "                                #I also gave the line a label.  \n",
    "ax.set_xlabel('Angle(radians)') #I added a x axis label \n",
    "ax.set_ylabel('Function value') #I added a y axis label\n",
    "ax.legend() #I gave the figure a legend.  \n",
    "ax.set_title('Trignometric Functions') # Let's give the figure a title.                              \n",
    "plt.show() "
   ],
   "outputs": [],
   "metadata": {
    "scrolled": false
   }
  },
  {
   "cell_type": "markdown",
   "source": [
    "## 5.4 Improving the communication of plots.  \n",
    "\n",
    "### Scientifically, one might argue that we are done now, and all necessary information to understand the plot is given, but it still *sucks*. \n",
    "\n",
    "### Why?  \n",
    "\n",
    "### 5.4.1.  UNITS"
   ],
   "metadata": {}
  },
  {
   "cell_type": "code",
   "execution_count": null,
   "source": [
    "angle = np.linspace(0,2*np.pi,100) #I make 100 evenly spaces values going from 0 to 2*pi\n",
    "C = np.cos(angle) #cosine function \n",
    "S = np.sin(angle) #sine function\n",
    "angle_in_degrees = angle*180/np.pi"
   ],
   "outputs": [],
   "metadata": {}
  },
  {
   "cell_type": "code",
   "execution_count": null,
   "source": [
    "fig = plt.figure()   #creates a blank canvas \n",
    "ax = fig.add_axes([0,0,1,1]) #creates an axes - (starting pt x, starting pt y, fractional size x, fractional size y)\n",
    "ax.plot(angle_in_degrees,S,label ='sine')  #add a plot to the axes.\n",
    "                                #I also gave the line a label. \n",
    "ax.plot(angle_in_degrees,C,label = 'cosine' ) #add a plot to the axes.\n",
    "                                #I also gave the line a label.  \n",
    "ax.set_xlabel('Angle(Degrees)') #I added a x axis label \n",
    "ax.set_ylabel('Function value') #I added a y axis label\n",
    "ax.legend() #I gave the figure a legend.  \n",
    "ax.set_title('Trignometric Functions') # Let's give the figure a title.                              \n",
    "plt.show() "
   ],
   "outputs": [],
   "metadata": {
    "scrolled": true
   }
  },
  {
   "cell_type": "markdown",
   "source": [
    "### 5.4.2 READING GRAPHS  \n",
    "### We're almost there, but I'm still not happy. \n",
    "### When I look at a plot, I want to be able to *easily read out features of the data*.  \n",
    "### I also want to be able to easily understand the domain and range of the the data and find the minimum and maximum.  \n",
    "### Here the domain is 0 to 360 and the range is -1 to 1. \n",
    "### The features of the data are clear maxima and minima at function values -1 and 1 of the curves plotted but its not that easy to read out at values of angle at which the maxima occur.  \n",
    "### The solution is to take control of the x and/or y axis values."
   ],
   "metadata": {}
  },
  {
   "cell_type": "code",
   "execution_count": null,
   "source": [
    "fig = plt.figure()   #creates a blank canvas \n",
    "ax = fig.add_axes([0,0,1,1]) #creates an axes - (starting pt x, starting pt y, fractional size x, fractional size y)\n",
    "ax.plot(angle_in_degrees,S,label ='sine')  #add a plot to the axes.\n",
    "                                #I also gave the line a label. \n",
    "ax.plot(angle_in_degrees,C,label = 'cosine' ) #add a plot to the axes.\n",
    "                                #I also gave the line a label.  \n",
    "ax.set_xlabel('Angle(Degrees)') #I added a x axis label \n",
    "ax.set_ylabel('Function value') #I added a y axis label\n",
    "ax.legend() #I gave the figure a legend.  \n",
    "ax.set_title('Trignometric Functions') # Let's give the figure a title. \n",
    "xticklocations = np.linspace(0,360,9) # I am going to determine to have 9 ticks on the x axis between 0 and 360(inclusive)\n",
    "ax.set_xticks(xticklocations)\n",
    "#Note I could make a similar set of calls to `set_yticks` but I am happy with the default.  \n",
    "plt.show()"
   ],
   "outputs": [],
   "metadata": {
    "scrolled": true
   }
  },
  {
   "cell_type": "markdown",
   "source": [
    "### **OK I'm feeling better**  \n",
    "### But, a plot can always be improved. How about this. "
   ],
   "metadata": {}
  },
  {
   "cell_type": "code",
   "execution_count": null,
   "source": [
    "fig = plt.figure()   #creates a blank canvas \n",
    "ax = fig.add_axes([0,0,1,1]) #creates an axes - (starting pt x, starting pt y, fractional size x, fractional size y)\n",
    "ax.plot(angle_in_degrees,S,label ='sine')  #add a plot to the axes.\n",
    "                                #I also gave the line a label. \n",
    "ax.plot(angle_in_degrees,C,label = 'cosine' ) #add a plot to the axes.\n",
    "                                #I also gave the line a label.  \n",
    "ax.set_xlabel('Angle(Degrees)') #I added a x axis label \n",
    "ax.set_ylabel('Function value') #I added a y axis label\n",
    "ax.legend() #I gave the figure a legend.  \n",
    "ax.set_title('Trignometric Functions') # Let's give the figure a title. \n",
    "xticklocations = np.linspace(0,360,9) # I am going to determine to have 9 ticks on the x axis between 0 and 360(inclusive)\n",
    "ax.set_xticks(xticklocations)\n",
    "#Note I could make a similar set of calls to `set_yticks` but I am happy with the default.  \n",
    "plt.grid(True)  #Here I turned on grid lines, to improve readability.  \n",
    "plt.show()"
   ],
   "outputs": [],
   "metadata": {
    "scrolled": true
   }
  },
  {
   "cell_type": "markdown",
   "source": [
    "### Now we can start thinking about aesthetics.  I like the default blue, orange lines, but others may disagree.  \n",
    "### Try this. "
   ],
   "metadata": {}
  },
  {
   "cell_type": "code",
   "execution_count": null,
   "source": [
    "fig = plt.figure()   #creates a blank canvas \n",
    "ax = fig.add_axes([0,0,1,1]) #creates an axes - (starting pt x, starting pt y, fractional size x, fractional size y)\n",
    "ax.plot(angle_in_degrees,S,'r-', linewidth = 2, label ='sine')  #add a plot to the axes.\n",
    "                                #I also gave the line a label.\n",
    "                                # I selected the color red and a solid line\n",
    "                                # I set the linewidth to 2, default is 1.   \n",
    "ax.plot(angle_in_degrees,C,'g--', linewidth = 2, label = 'cosine' ) #add a plot to the axes.\n",
    "                                #I also gave the line a label.  \n",
    "                                # I selected the color green and a dashed line\n",
    "                                # I set the linewidth to 2, default is 1.  \n",
    "ax.set_xlabel('Angle(Degrees)') #I added a x axis label \n",
    "ax.set_ylabel('Function value') #I added a y axis label\n",
    "ax.legend() #I gave the figure a legend.  \n",
    "ax.set_title('Trignometric Functions') # Let's give the figure a title. \n",
    "xticklocations = np.linspace(0,360,13) # I am going to determine to have 13 ticks on the x axis between 0 and 360(inclusive)\n",
    "ax.set_xticks(xticklocations)\n",
    "#Note I could make a similar set of calls to `set_yticks` but I am happy with the default.  \n",
    "plt.grid(True)  #Here I turned on grid lines, to improve readability.  \n",
    "plt.show()"
   ],
   "outputs": [],
   "metadata": {
    "scrolled": false
   }
  },
  {
   "cell_type": "markdown",
   "source": [
    "### Lets try to code something together now.  \n",
    "### Make a plot that shows \n",
    "\n",
    "* $y = x$ , labeled 'linear'\n",
    "* $y = x^2$, labeled 'quadratic'\n",
    "* $y = x^3$, labeled 'cubic\n",
    "\n",
    "### over the interval from x = -2 to x = 2 \n",
    "\n",
    "### label the axes 'x' and 'y'\n",
    "\n",
    "### use a different color for each line that you choose. "
   ],
   "metadata": {}
  },
  {
   "cell_type": "code",
   "execution_count": null,
   "source": [],
   "outputs": [],
   "metadata": {}
  },
  {
   "cell_type": "markdown",
   "source": [
    "## 5.5 Bar plots"
   ],
   "metadata": {}
  },
  {
   "cell_type": "markdown",
   "source": [
    "### It makes sense to use a line plot when your domain (x-axis) is a continuous variable.  But it does not make sense to do this when your domain is a categorical variable.  \n"
   ],
   "metadata": {}
  },
  {
   "cell_type": "code",
   "execution_count": null,
   "source": [
    "fruitnames = ['apple','pear','mango','rambutan'] #This is a list\n",
    "fruitnumber = np.array([7,6,2,3]) #I converted a list of fruit counts into a numpy array. Actually not needed.\n"
   ],
   "outputs": [],
   "metadata": {}
  },
  {
   "cell_type": "code",
   "execution_count": null,
   "source": [
    "fig = plt.figure()   #creates a blank canvas \n",
    "ax = fig.add_axes([0,0,1,1]) #creates an axes - (starting pt x, starting pt y, fractional size x, fractional size y)\n",
    "ax.plot(fruitnames,fruitnumber)\n",
    "ax.set_xlabel('Fruit')\n",
    "ax.set_ylabel('Number')\n",
    "plt.show()"
   ],
   "outputs": [],
   "metadata": {}
  },
  {
   "cell_type": "code",
   "execution_count": null,
   "source": [
    "fig = plt.figure()   #creates a blank canvas \n",
    "ax = fig.add_axes([0,0,1,1]) #creates an axes - (starting pt x, starting pt y, fractional size x, fractional size y)\n",
    "ax.plot(fruitnames,fruitnumber,'bo') #Here I forced it to use a blue circle for each data point \n",
    "ax.set_xlabel('Fruit')\n",
    "ax.set_ylabel('Number')\n",
    "plt.show()"
   ],
   "outputs": [],
   "metadata": {}
  },
  {
   "cell_type": "markdown",
   "source": [
    "### Clearly, the plot below is superior to the plot above.  Drawing a continuous line between categorical variables doesnt make sense because there really isnt a value in between orange and dragon fruit.  \n",
    "\n",
    "### But the best solution would be a `bar` graph.  \n"
   ],
   "metadata": {}
  },
  {
   "cell_type": "code",
   "execution_count": null,
   "source": [
    "fig = plt.figure()   #creates a blank canvas \n",
    "ax = fig.add_axes([0,0,1,1]) #creates an axes - (starting pt x, starting pt y, fractional size x, fractional size y)\n",
    "ax.bar(fruitnames,fruitnumber) #Here I forced it to use a blue circle for each data point \n",
    "ax.set_xlabel('Fruit')\n",
    "ax.set_ylabel('Number')\n",
    "plt.show()"
   ],
   "outputs": [],
   "metadata": {}
  },
  {
   "cell_type": "code",
   "execution_count": null,
   "source": [
    "fig = plt.figure()   #creates a blank canvas \n",
    "ax = fig.add_axes([0,0,1,1]) #creates an axes - (starting pt x, starting pt y, fractional size x, fractional size y)\n",
    "ax.bar(fruitnames,fruitnumber) #Here I forced it to use a blue circle for each data point \n",
    "ax.set_xlabel('Fruit')\n",
    "ax.set_ylabel('Number')\n",
    "ax.grid(True,axis='y') #I added a grid and specified it should only be for the y axis \n",
    "plt.show()"
   ],
   "outputs": [],
   "metadata": {}
  },
  {
   "cell_type": "code",
   "execution_count": null,
   "source": [
    "fig = plt.figure()   #creates a blank canvas \n",
    "ax = fig.add_axes([0,0,1,1]) #creates an axes - (starting pt x, starting pt y, fractional size x, fractional size y)\n",
    "ax.bar(fruitnames,fruitnumber) #Here I forced it to use a blue circle for each data point \n",
    "ax.set_xlabel('Fruit')\n",
    "ax.set_ylabel('Number')\n",
    "ax.grid(True,axis='y',color='r')#I added a grid and specified it should only be for the y axis and set its color to red\n",
    "plt.show()"
   ],
   "outputs": [],
   "metadata": {}
  },
  {
   "cell_type": "markdown",
   "source": [
    "## 5.6 Subplot\n"
   ],
   "metadata": {}
  },
  {
   "cell_type": "markdown",
   "source": [
    "### Sometimes we want to put more than one graph in a figure.  In this case, we can divide the figure into multiple plots. \n",
    "\n",
    "### The syntax `subplot(n,m)`  when I create the figure tells python I want a figure with with n row and m columns each of which can contain a figure  "
   ],
   "metadata": {}
  },
  {
   "cell_type": "code",
   "execution_count": null,
   "source": [
    "#Create some data for four plots\n",
    "x = np.arange(1,10) \n",
    "y1 = x**2   \n",
    "y2 = np.sqrt(x)\n",
    "y3 = np.exp(x)\n",
    "y4 = np.log(x)"
   ],
   "outputs": [],
   "metadata": {}
  },
  {
   "cell_type": "code",
   "execution_count": null,
   "source": [
    "fig,a = plt.subplots(2,2)  #Here i create both the figure (fig) and the axes (a) in a single step.  \n",
    "                           #Any options that you would send into the figure call, you can send to subplots.  \n",
    "                           # I've asked for 4 subplots in a 2 x 2 grid.   \n",
    "\n",
    "a[0][0].plot(x,y1)   #notice the syntax in dealing with the axis. The axes have a row index and a column index. \n",
    "a[0][0].set_title('square')\n",
    "a[0][1].plot(x,y2)\n",
    "a[0][1].set_title('square root')\n",
    "a[1][0].plot(x,y3)\n",
    "a[1][0].set_title('exponential')\n",
    "a[1][1].plot(x,y4)\n",
    "a[1][1].set_title('log')\n",
    "\n",
    "#fig.tight_layout()  #this is really cool and fixes many problems! "
   ],
   "outputs": [],
   "metadata": {}
  },
  {
   "cell_type": "markdown",
   "source": [
    "### Lets place these plots in the 4 corners of a 3 x 3 grid. "
   ],
   "metadata": {}
  },
  {
   "cell_type": "code",
   "execution_count": null,
   "source": [],
   "outputs": [],
   "metadata": {
    "scrolled": false
   }
  }
 ],
 "metadata": {
  "kernelspec": {
   "name": "python3",
   "display_name": "Python 3.8.8 64-bit ('base': conda)"
  },
  "language_info": {
   "codemirror_mode": {
    "name": "ipython",
    "version": 3
   },
   "file_extension": ".py",
   "mimetype": "text/x-python",
   "name": "python",
   "nbconvert_exporter": "python",
   "pygments_lexer": "ipython3",
   "version": "3.8.8"
  },
  "interpreter": {
   "hash": "fda1d92c402c9d5e0550eab7f590eb1c0582e487619314e6aa12d68c281f0580"
  }
 },
 "nbformat": 4,
 "nbformat_minor": 1
}