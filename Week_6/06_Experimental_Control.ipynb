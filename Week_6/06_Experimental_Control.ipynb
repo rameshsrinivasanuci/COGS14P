{
 "cells": [
  {
   "cell_type": "markdown",
   "source": [
    "# Tutorial 6 Experimental Control \n",
    "\n",
    "## This lesson will review some of the fundamental programming methods required to develop a controlled experiment for Psychological/Neuroscience research\n",
    "\n",
    "## We will use an auditory experiment as an example but the fundamental methods discussed of controlling the experiment and managing the data explained here will apply to any kind of experiment\n",
    "\n",
    "## Any experiment has two properties. \n",
    "* ### There are some experimental **conditions** that have different stimuli (and/or task instructions) presented\n",
    "* ### There is a **response** obtained from the subject.  \n",
    "\n",
    "## The main issues discussed here are:\n",
    "* ### randomization\n",
    "* ### obtaining responses from a participant\n",
    "* ### organizing behavioral data using Pandas DataFrames\n",
    "* ### saving the data to a file \n",
    "\n",
    "## The Tutorial ends by pointing you to an experiment that I provide in a separate file, A_B_task.py.  I will ask you to run that experiment on yourself and then modify it for Homework 6. "
   ],
   "metadata": {}
  },
  {
   "cell_type": "code",
   "execution_count": 1,
   "source": [
    "import numpy as np\n",
    "from matplotlib import pyplot as plt\n",
    "import pandas as pd\n",
    "import simpleaudio as sa"
   ],
   "outputs": [],
   "metadata": {}
  },
  {
   "cell_type": "markdown",
   "source": [
    "## For the purpose of experimental control, we need to start the random number generator. \n",
    "## the seed of the random number generator is very important here. \n",
    "## If we never change the seed we will always run the same experiment on every participant. \n",
    "## We should always use a different seed on different participants.  "
   ],
   "metadata": {}
  },
  {
   "cell_type": "code",
   "execution_count": 2,
   "source": [
    "from numpy import random \n",
    "rng = random.default_rng(seed = 21)"
   ],
   "outputs": [],
   "metadata": {}
  },
  {
   "cell_type": "markdown",
   "source": [
    "## For simplicity, I am going to fix certain facts about the auditory examples I am going to use in this tutorial.  "
   ],
   "metadata": {}
  },
  {
   "cell_type": "code",
   "execution_count": 3,
   "source": [
    "# fixed facts about the sine functions\n",
    "sr = 44100     # how many samples per second \n",
    "duration = 0.5 # length of the sound in seconds. \n",
    "volume = 0.25   # DO NOT MAKE VOLUME LARGER THAN 0.5 \n",
    "number_of_samples = duration*sr # since there are sr samples in each second, there are sr*duration samples in the sounds we are playing \n",
    "number_of_samples = int(number_of_samples) #converts into an integer if necessary.  \n",
    "time_vec = np.linspace(0, duration, number_of_samples) # This makes a vector of the time step starting from 0 to duration"
   ],
   "outputs": [],
   "metadata": {}
  },
  {
   "cell_type": "markdown",
   "source": [
    "### Let's consider a task where the subject has to identify a note played as A (440 Hz) or B (494 Hz).  On each trial, we will present one of the notes, and the subject's task is to respond with A or B on the keyboard. \n",
    "### I will implement this task in two different ways here. \n",
    "\n",
    "### First let's make the two notes "
   ],
   "metadata": {}
  },
  {
   "cell_type": "code",
   "execution_count": 4,
   "source": [
    "fA = 440 \n",
    "A_note = np.sin(fA * time_vec * 2 * np.pi)\n",
    "fB = 494\n",
    "B_note = np.sin(fB * time_vec * 2 * np.pi)\n",
    "# the sample amplitude values must consequently fall in the range of -32768 to 32767.\n",
    "# To do that I multiply by 32767 and divide by the largest value in A_note or B_note \n",
    "A_note  = volume*A_note*32767 / np.max(np.abs(A_note))  #I multiply by volume to control the volume \n",
    "B_note  = volume*B_note*32767 / np.max(np.abs(B_note)) \n",
    "#Convert to numpy 16 bit integers \n",
    "A_note = A_note.astype(np.int16)\n",
    "B_note = B_note.astype(np.int16)"
   ],
   "outputs": [],
   "metadata": {}
  },
  {
   "cell_type": "markdown",
   "source": [
    "## 6.1 Randomization  \n",
    "\n",
    "### To make an experiment that is well balanced, psychologists make use of randomization. \n",
    "### For example, if we want to carry out an experiment with different types of emotional stimuli (sounds and words), we usually want to present a **condition** chosen at random on each trial of the experiment \n",
    "### As discussed below, there are two ways of doing this - \n",
    "* ### selecting a condition at random using a random number generator \n",
    "* ### selecting a random order of the stimuli  \n",
    "\n"
   ],
   "metadata": {}
  },
  {
   "cell_type": "markdown",
   "source": [
    "### 6.1.1 Random Sample\n",
    "\n",
    "### In this implementation, I am going to make an experiment that has the number of trials set by the variable ntrials.  \n",
    "### On each trial, I am going to use rng.integers to randomly select the A or B to play. \n",
    "### I am going to assign the integer 1 to A, and the integer 2 to B.  \n",
    "### First lets consider the logic of randomly selecting A or B "
   ],
   "metadata": {}
  },
  {
   "cell_type": "code",
   "execution_count": 12,
   "source": [
    "trial_type  = rng.integers(1,3) # This will randomly select a 1 or 2 \n",
    "print(trial_type)\n",
    "if trial_type == 1:  # if trial_type is 1 we are going to play A \n",
    "    play_obj = sa.play_buffer(A_note , 1, 2, sr) # i created an object here. \n",
    "    play_obj.wait_done() # tells python to wait for the sound to finish before going any further.\n",
    "    print('A')\n",
    "else:\n",
    "    play_obj = sa.play_buffer(B_note , 1, 2, sr) # i created an object here. \n",
    "    play_obj.wait_done() # tells python to wait for the sound to finish before going any further.\n",
    "    print('B')"
   ],
   "outputs": [
    {
     "output_type": "stream",
     "name": "stdout",
     "text": [
      "1\n",
      "A\n"
     ]
    }
   ],
   "metadata": {}
  },
  {
   "cell_type": "markdown",
   "source": [
    "### Run the code block above a few times.  We should see that each time we run it, we select a note at random.  \n",
    "\n",
    "### We could put that block of code in a for loop and repeat for a certain number of **trials**.  I will set the variable ntrials to determine the number of trials.  "
   ],
   "metadata": {}
  },
  {
   "cell_type": "code",
   "execution_count": 14,
   "source": [
    "ntrials = 6\n",
    "for j in range(ntrials):\n",
    "    trial_type  = rng.integers(1,3) # This will randomly select a 1 or 2 \n",
    "    print(trial_type)\n",
    "    if trial_type == 1:  # if trial_type is 1 we are going to play A \n",
    "        play_obj = sa.play_buffer(A_note , 1, 2, sr) # i created an object here. \n",
    "        play_obj.wait_done() # tells python to wait for the sound to finish before going any further.\n",
    "        print('A')\n",
    "    else:\n",
    "        play_obj = sa.play_buffer(B_note , 1, 2, sr) # i created an object here. \n",
    "        play_obj.wait_done() # tells python to wait for the sound to finish before going any further.\n",
    "        print('B')"
   ],
   "outputs": [
    {
     "output_type": "stream",
     "name": "stdout",
     "text": [
      "2\n",
      "B\n",
      "1\n",
      "A\n",
      "2\n",
      "B\n",
      "2\n",
      "B\n",
      "2\n",
      "B\n",
      "2\n",
      "B\n"
     ]
    }
   ],
   "metadata": {}
  },
  {
   "cell_type": "markdown",
   "source": [
    "### In principle we could make a small task now, where we play a random note and ask the subject to identify it as A or B.  This type of task is known as a **Two-Alternative Forced Choice** task \n",
    "### We just have to collect the responses which we discuss in the next section.  "
   ],
   "metadata": {}
  },
  {
   "cell_type": "markdown",
   "source": [
    "### 6.1.2 Random permutation\n",
    "\n",
    "### One limitation of the randomization approach presented in the previous section is that we dont have control over the number of trials presented in each condition of the experiment.  \n",
    "\n",
    "### That is, we will have a different number of A and B notes.   \n",
    "\n",
    "### In many situations, we want to make sure the number of trials per condition is equal.  In that case, we have to use random **permutation** instead of random sample as our approach.  \n",
    "\n",
    "### First consider the following code "
   ],
   "metadata": {}
  },
  {
   "cell_type": "code",
   "execution_count": 15,
   "source": [
    "trial_1 = np.ones(3) # an array with 3 ones\n",
    "trial_2 = 2*np.ones(3) # an array with 3 twos\n",
    "trial_order = np.concatenate((trial_1,trial_2)) # concatenate the array\n",
    "ntrials = np.size(trial_order) #get the length of trial_order\n",
    "\n",
    "for j in range(ntrials):\n",
    "    if trial_order[j] == 1:\n",
    "        play_obj = sa.play_buffer(A_note , 1, 2, sr) # i created an object here. \n",
    "        play_obj.wait_done() # tells python to wait for the sound to finish before going any further.\n",
    "        print('A')\n",
    "    else:\n",
    "        play_obj = sa.play_buffer(B_note , 1, 2, sr) # i created an object here. \n",
    "        play_obj.wait_done() # tells python to wait for the sound to finish before going any further.\n",
    "        print('B')"
   ],
   "outputs": [
    {
     "output_type": "stream",
     "name": "stdout",
     "text": [
      "A\n",
      "A\n",
      "A\n",
      "B\n",
      "B\n",
      "B\n"
     ]
    }
   ],
   "metadata": {}
  },
  {
   "cell_type": "markdown",
   "source": [
    "### That block of code plays the note A three times and then the note B three times.  The order of trials is controlled by the variable trial_order"
   ],
   "metadata": {}
  },
  {
   "cell_type": "code",
   "execution_count": 16,
   "source": [
    "print(trial_order)"
   ],
   "outputs": [
    {
     "output_type": "stream",
     "name": "stdout",
     "text": [
      "[1. 1. 1. 2. 2. 2.]\n"
     ]
    }
   ],
   "metadata": {}
  },
  {
   "cell_type": "markdown",
   "source": [
    "### In order to **randomize** the order of presentation, I need to shuffle the entriels of trial_order in a random way. \n",
    "### The numpy function, `random.permutation` can enable us to do this.  \n",
    "### The number of trials here is 6 which is contained in the variable ntrials. "
   ],
   "metadata": {}
  },
  {
   "cell_type": "code",
   "execution_count": 21,
   "source": [
    "shuffle = random.permutation(ntrials)\n",
    "print(shuffle)"
   ],
   "outputs": [
    {
     "output_type": "stream",
     "name": "stdout",
     "text": [
      "[3 0 5 2 1 4]\n"
     ]
    }
   ],
   "metadata": {}
  },
  {
   "cell_type": "markdown",
   "source": [
    "### `random.permutation` will create a random list of indices starting at zero up to the value entered (not inclusive).  Here ntrials is 6 so we get a random list from 0 to 5\n",
    "### Try it again and you will get a new list. \n",
    "\n",
    "### If we enter shuffle as the indices into **trial_order** we will randomize the trial order"
   ],
   "metadata": {}
  },
  {
   "cell_type": "code",
   "execution_count": 27,
   "source": [
    "shuffle = random.permutation(ntrials)\n",
    "new_order = trial_order[shuffle]\n",
    "print(new_order)"
   ],
   "outputs": [
    {
     "output_type": "stream",
     "name": "stdout",
     "text": [
      "[1. 2. 2. 1. 1. 2.]\n"
     ]
    }
   ],
   "metadata": {}
  },
  {
   "cell_type": "markdown",
   "source": [
    "### If you run that repeatedly you will get a new order of trials.  \n",
    "\n",
    "### Consider this new block of code.  "
   ],
   "metadata": {}
  },
  {
   "cell_type": "code",
   "execution_count": 28,
   "source": [
    "ntrials_per_condition = 3\n",
    "trial_1 = np.ones(ntrials_per_condition) # an array with 3 ones\n",
    "trial_2 = 2*np.ones(ntrials_per_condition) # an array with 3 twos\n",
    "trial_order = np.concatenate((trial_1,trial_2)) # concatenate the array\n",
    "ntrials = np.size(trial_order) #get the length of trial_order\n",
    "shuffle = random.permutation(ntrials) # get a random order of trials\n",
    "trial_order = trial_order[shuffle] # permute trial order \n",
    "\n",
    "for j in range(ntrials):\n",
    "    if trial_order[j] == 1:\n",
    "        play_obj = sa.play_buffer(A_note , 1, 2, sr) # i created an object here. \n",
    "        play_obj.wait_done() # tells python to wait for the sound to finish before going any further.\n",
    "        print('A')\n",
    "    else:\n",
    "        play_obj = sa.play_buffer(B_note , 1, 2, sr) # i created an object here. \n",
    "        play_obj.wait_done() # tells python to wait for the sound to finish before going any further.\n",
    "        print('B')"
   ],
   "outputs": [
    {
     "output_type": "stream",
     "name": "stdout",
     "text": [
      "B\n",
      "A\n",
      "A\n",
      "B\n",
      "A\n",
      "B\n"
     ]
    }
   ],
   "metadata": {}
  },
  {
   "cell_type": "markdown",
   "source": [
    "### The advantage of this logic is that we can control the number of trials per condition and equate them.  "
   ],
   "metadata": {}
  },
  {
   "cell_type": "markdown",
   "source": [
    "## 6.2 Responses from the Keyboard - `input`\n",
    "\n",
    "### We can obtain responses from the keyboard using the `input` command\n",
    "\n",
    "### When you run the next cell, be sure to hit any letter, then the enter key "
   ],
   "metadata": {}
  },
  {
   "cell_type": "markdown",
   "source": [
    "### The input command will continue to run until the enter key is pressed.  "
   ],
   "metadata": {}
  },
  {
   "cell_type": "code",
   "execution_count": 33,
   "source": [
    "a = input()"
   ],
   "outputs": [],
   "metadata": {}
  },
  {
   "cell_type": "code",
   "execution_count": 34,
   "source": [
    "print(a)"
   ],
   "outputs": [
    {
     "output_type": "stream",
     "name": "stdout",
     "text": [
      "\n"
     ]
    }
   ],
   "metadata": {}
  },
  {
   "cell_type": "markdown",
   "source": [
    "### This is less than ideal for a number of reasons.  For one thing, if you type two letters, it will take them both in.  \n",
    "\n",
    "### Or if you hit enter before a letter, it will proceed to take an empty response. \n",
    "\n",
    "### Nevertheless, for many purposes, it works fine to use the keyboard to collect response information.  \n",
    "\n",
    "### It can sometimes be useful to control the accepted responses.  \n",
    "\n",
    "### For example, in the simple experiment above, we may only accept a response of a or b. \n",
    "\n",
    "### We could collect a response like this. \n",
    "\n",
    "### Try responding a couple of times with a letter other than a or b, then respond with an a or b"
   ],
   "metadata": {}
  },
  {
   "cell_type": "code",
   "execution_count": 35,
   "source": [
    "response_check = False   # I set the response_check to false.  I will only change response_check if i get a valid response \n",
    "while response_check == False:  # This while loop runs until I get a valid response \n",
    "    response = input()  #Get a keyboard input\n",
    "    if (response =='a') | (response == 'b'): #check if its an a or b \n",
    "        response_check = True  # if it is update response_check to true \n",
    "        print(response)  # print the response \n",
    "    else:\n",
    "        print('Invalid Response Try Again')  # ask the participant to enter a new response \n"
   ],
   "outputs": [
    {
     "output_type": "stream",
     "name": "stdout",
     "text": [
      "Invalid Response Try Again\n",
      "Invalid Response Try Again\n",
      "b\n"
     ]
    }
   ],
   "metadata": {}
  },
  {
   "cell_type": "markdown",
   "source": [
    "### Let's put it together with the A/B note experiment "
   ],
   "metadata": {}
  },
  {
   "cell_type": "code",
   "execution_count": 36,
   "source": [
    "ntrials_per_condition = 3\n",
    "trial_1 = np.ones(ntrials_per_condition) # an array with 3 ones\n",
    "trial_2 = 2*np.ones(ntrials_per_condition) # an array with 3 twos\n",
    "trial_order = np.concatenate((trial_1,trial_2)) # concatenate the array\n",
    "ntrials = np.size(trial_order) #get the length of trial_order\n",
    "shuffle = random.permutation(ntrials) # get a random order of trials\n",
    "trial_order = trial_order[shuffle] # permute trial order \n",
    "\n",
    "for j in range(ntrials):\n",
    "    if trial_order[j] == 1:\n",
    "        play_obj = sa.play_buffer(A_note , 1, 2, sr) # i created an object here. \n",
    "        play_obj.wait_done() # tells python to wait for the sound to finish before going any further.\n",
    "        print('A')\n",
    "    else:\n",
    "        play_obj = sa.play_buffer(B_note , 1, 2, sr) # i created an object here. \n",
    "        play_obj.wait_done() # tells python to wait for the sound to finish before going any further.\n",
    "        print('B')\n",
    "    response_check = False # I set the response_check to false.  I will only change response_check if i get a valid response \n",
    "    while response_check == False: # This while loop runs until I get a valid response \n",
    "        response = input() #Get a keyboard input\n",
    "        if (response =='a') | (response == 'b'): #check if its an a or b \n",
    "            response_check = True # if it is update response_check to true \n",
    "            print(response)  # print the response \n",
    "        else:\n",
    "            print('Invalid Response Try Again')  # ask the participant to enter a new response \n",
    "print('DONE!')"
   ],
   "outputs": [
    {
     "output_type": "stream",
     "name": "stdout",
     "text": [
      "B\n",
      "a\n",
      "B\n",
      "b\n",
      "A\n",
      "a\n",
      "A\n",
      "b\n",
      "A\n",
      "a\n",
      "B\n",
      "b\n",
      "DONE!\n"
     ]
    }
   ],
   "metadata": {}
  },
  {
   "cell_type": "markdown",
   "source": [
    "## 6.3 Documenting an experiment using Pandas Data frames "
   ],
   "metadata": {}
  },
  {
   "cell_type": "markdown",
   "source": [
    "### What do we need to save in our hypothetical experiment? \n",
    "### On each trial, we need to know the condition (i.e., the note that was played) and the response (i.e., the note that was identified)\n",
    "### the array **trial_order** has the condition information, so we just need to make an array to hold the response \n",
    "### it should be of the same size as trial_order.  I am going to call it **trial_response**"
   ],
   "metadata": {}
  },
  {
   "cell_type": "code",
   "execution_count": 37,
   "source": [
    "ntrials_per_condition = 3\n",
    "trial_1 = np.ones(ntrials_per_condition) # an array with 3 ones\n",
    "trial_2 = 2*np.ones(ntrials_per_condition) # an array with 3 twos\n",
    "trial_order = np.concatenate((trial_1,trial_2)) # concatenate the array\n",
    "ntrials = np.size(trial_order) #get the length of trial_order\n",
    "shuffle = random.permutation(ntrials) # get a random order of trials\n",
    "trial_order = trial_order[shuffle] # permute trial order \n",
    "trial_response = np.array(np.zeros(ntrials),dtype = 'str') #empty array to hold the responses \n",
    "for j in range(ntrials):\n",
    "    if trial_order[j] == 1:\n",
    "        play_obj = sa.play_buffer(A_note , 1, 2, sr) # i created an object here. \n",
    "        play_obj.wait_done() # tells python to wait for the sound to finish before going any further.\n",
    "    else:\n",
    "        play_obj = sa.play_buffer(B_note , 1, 2, sr) # i created an object here. \n",
    "        play_obj.wait_done() # tells python to wait for the sound to finish before going any further.\n",
    "    response_check = False # I set the response_check to false.  I will only change response_check if i get a valid response \n",
    "    while response_check == False: # This while loop runs until I get a valid response\n",
    "        response = input()  #Get a keyboard input\n",
    "        if (response =='a') | (response == 'b'): #check if its an a or b \n",
    "            response_check = True # if it is update response_check to true \n",
    "            print(response)  # print the response\n",
    "            trial_response[j] = response # the jth trial response is response\n",
    "        else:\n",
    "            print('Invalid Response Try Again') # ask the participant to enter a new response \n",
    "print('DONE!')"
   ],
   "outputs": [
    {
     "output_type": "stream",
     "name": "stdout",
     "text": [
      "a\n",
      "b\n",
      "a\n",
      "b\n",
      "a\n",
      "b\n",
      "DONE!\n"
     ]
    }
   ],
   "metadata": {}
  },
  {
   "cell_type": "markdown",
   "source": [
    "### Let's take a look at the results "
   ],
   "metadata": {}
  },
  {
   "cell_type": "code",
   "execution_count": 38,
   "source": [
    "print(trial_order)\n",
    "print(trial_response)"
   ],
   "outputs": [
    {
     "output_type": "stream",
     "name": "stdout",
     "text": [
      "[1. 1. 2. 1. 2. 2.]\n",
      "['a' 'b' 'a' 'b' 'a' 'b']\n"
     ]
    }
   ],
   "metadata": {}
  },
  {
   "cell_type": "markdown",
   "source": [
    "### We can store them in a pandas DataFrame, and write to a csv or xlsx file.  "
   ],
   "metadata": {}
  },
  {
   "cell_type": "code",
   "execution_count": null,
   "source": [
    "data = pd.DataFrame(columns = ['Condition','Response']) #create a data frame\n",
    "data['Condition'] = trial_order #save trial order\n",
    "data['Response'] = trial_response  #save response \n",
    "#Do one of these\n",
    "#data.to_csv('A_B.csv')\n",
    "data.to_excel('A_B.xlsx')"
   ],
   "outputs": [],
   "metadata": {}
  },
  {
   "cell_type": "markdown",
   "source": [
    "## We are getting to the limit of where a notebook is an advantage, so I have reorganized this program in a new **python** file A_B_task.py"
   ],
   "metadata": {}
  }
 ],
 "metadata": {
  "interpreter": {
   "hash": "1496c8bf519633e54bdb81b17c8ff700fb81fb762c02229761f49663b7460c71"
  },
  "kernelspec": {
   "name": "python3",
   "display_name": "Python 3.8.8 64-bit ('audio': conda)"
  },
  "language_info": {
   "codemirror_mode": {
    "name": "ipython",
    "version": 3
   },
   "file_extension": ".py",
   "mimetype": "text/x-python",
   "name": "python",
   "nbconvert_exporter": "python",
   "pygments_lexer": "ipython3",
   "version": "3.8.8"
  },
  "orig_nbformat": 4
 },
 "nbformat": 4,
 "nbformat_minor": 2
}