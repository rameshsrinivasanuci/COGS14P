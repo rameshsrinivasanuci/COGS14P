{
 "cells": [
  {
   "cell_type": "markdown",
   "source": [
    "# Lesson 12 Working with SOUND in Python \n",
    "\n",
    "## In order to perform experiments, we have to deliver stimuli and collect responses from the subjects. \n",
    "## In this section we will learn how make use of python to deliver an auditory stimulus using the \n",
    "## **simpleaudio** module.  \n",
    "## For simplicity, in this class, we will collect behavioral responses using the keyboard.  Please note that this \n",
    "## is perfectly fine **only** if you do not want to make use of very high accuracy *response time* information. "
   ],
   "metadata": {}
  },
  {
   "cell_type": "code",
   "execution_count": null,
   "source": [
    "import numpy as np \n",
    "from numpy import random \n",
    "import simpleaudio as sa\n",
    "from matplotlib import pyplot as plt\n",
    "rng = random.default_rng(seed = 1111)"
   ],
   "outputs": [],
   "metadata": {}
  },
  {
   "cell_type": "markdown",
   "source": [
    "## 12.1 Pure Tones\n",
    "\n",
    "### The simplest auditory stimuli is a pure tone.  A pure tone is a sine wave of a particular frequency. \n",
    "### It is perceived as having a particular pitch, which you may identify as a musical note. "
   ],
   "metadata": {}
  },
  {
   "cell_type": "code",
   "execution_count": null,
   "source": [
    "# create a sinusoidal sound wave\n",
    "sr = 44100     # how many samples per second \n",
    "               #This is the optimal choice for modern sound cards \n",
    "time = 0.5     # duration\n",
    "volume = 0.25   # DO NOT EXCEED 0.5\n",
    "\n",
    "frequency = 440 # cycles per second \n",
    "time_vec = np.linspace(0, time, int(time*sr)) \n",
    "test_note = np.sin(frequency * time_vec  * 2 * np.pi)\n",
    "\n",
    "# the sample amplitude values must consequently fall in the range of -32768 to 32767. \n",
    "test_note  = volume*test_note*32767 / np.max(np.abs(test_note))  \n",
    "# FOR SAFETY.  PLEASE LIMIT THE MAXIMUM VOLUME!\n",
    "\n",
    "# they must also have a signed 16-bit integer dtype (=2 bytes) and \n",
    "test_note  = test_note.astype(np.int16)\n",
    "\n",
    "sa.play_buffer(test_note , 1, 2, sr) \n",
    "#the parameters here are\n",
    "#sa.play_buffer(sound_array,numberofchannels,bytes_per_sample,sample_rate)"
   ],
   "outputs": [],
   "metadata": {}
  },
  {
   "cell_type": "markdown",
   "source": [
    "12.1.1 Quick review of sine functions"
   ],
   "metadata": {}
  },
  {
   "cell_type": "code",
   "execution_count": null,
   "source": [
    "angle_vec = np.linspace(0,2*np.pi,50)\n",
    "sinefunction = np.sin(angle_vec)\n",
    "fig = plt.figure()\n",
    "ax = fig.add_axes([0,0,1,1])\n",
    "ax.plot(angle_vec,sinefunction)\n",
    "ax.set_xlabel('Angle (radians)',fontsize = 16)\n",
    "ax.set_ylabel('Value',fontsize = 16)\n",
    "plt.show()\n"
   ],
   "outputs": [],
   "metadata": {}
  },
  {
   "cell_type": "code",
   "execution_count": null,
   "source": [
    "angle_vec = np.linspace(0,2*np.pi,50)\n",
    "fig = plt.figure()\n",
    "ax = fig.add_axes([0,0,1,1])\n",
    "ax.set_xlabel('Angle (radians)',fontsize = 16)\n",
    "ax.set_ylabel('Value',fontsize = 16)\n",
    "for j in range(3):\n",
    "    sinefunction = np.sin((j+1)*angle_vec)\n",
    "    ax.plot(angle_vec,sinefunction,label = str(j+1))\n",
    "ax.legend(fontsize = 16)    \n",
    "ax.set_title('Different Frequencies',fontsize = 20)\n",
    "plt.show()"
   ],
   "outputs": [],
   "metadata": {
    "scrolled": false
   }
  },
  {
   "cell_type": "markdown",
   "source": [
    "### $x = sin(j*\\theta)$ where $\\theta$ ranges from 0 to $2*\\pi$\n"
   ],
   "metadata": {}
  },
  {
   "cell_type": "markdown",
   "source": [
    "## 12.1.2 Sound unfolds over time. \n",
    "\n",
    "## Sounds are pressure waves unfolding over time.  If we want to make use of our sinusoid as sound stimuli, we need to think about them as a function of time. "
   ],
   "metadata": {}
  },
  {
   "cell_type": "code",
   "execution_count": null,
   "source": [
    "duration = 1 # seconds \n",
    "timesteps = np.linspace(0,duration,100)\n",
    "anglesteps = timesteps*2*np.pi  # This is a mapping between time and angle.  In this line of code\n",
    "                                # I am mapping 1 second of time to the the interval 0 to 2 pi \n",
    "print(timesteps)\n",
    "print(anglesteps)\n",
    "frequency = 1\n",
    "sinefunction = np.sin(frequency*anglesteps)\n",
    "fig = plt.figure()\n",
    "ax = fig.add_axes([0,0,1,1])\n",
    "ax.plot(timesteps,sinefunction)\n",
    "ax.set_xlabel('Time(sec)',fontsize = 16)\n",
    "ax.set_ylabel('Value',fontsize = 16)\n",
    "plt.show()\n"
   ],
   "outputs": [],
   "metadata": {}
  },
  {
   "cell_type": "code",
   "execution_count": null,
   "source": [
    "duration = 1\n",
    "timesteps = np.linspace(0,duration,100)\n",
    "anglesteps = timesteps*2*np.pi\n",
    "fig = plt.figure(figsize=(6,4))\n",
    "ax = fig.add_axes([0,0,1,1])\n",
    "for j in range(3):\n",
    "    frequency = j+1\n",
    "    sinefunction = np.sin(frequency*anglesteps)\n",
    "    ax.plot(timesteps,sinefunction,label=str(j+1)+' Hz')\n",
    "ax.set_xlabel('Time(sec)',fontsize = 16)\n",
    "ax.set_ylabel('Amplitude',fontsize = 16)\n",
    "ax.legend(fontsize = 16)\n",
    "plt.show()"
   ],
   "outputs": [],
   "metadata": {}
  },
  {
   "cell_type": "markdown",
   "source": [
    "## 12.2 Units in Sound \n",
    "\n",
    "### There are several quantities relevant to describing sound\n",
    "* ### frequency.  The frequency of sound is described in units of Hz or cycles per second. \n",
    "* ### Amplitude.  The Amplitude of the sound is the size of the wave. The units here (for programming purposes) are arbitrary, since the true amplitude also depends on your sound card, the controls on your computer, etc. "
   ],
   "metadata": {}
  },
  {
   "cell_type": "code",
   "execution_count": null,
   "source": [
    "duration = 1\n",
    "timesteps = np.linspace(0,duration,100)\n",
    "anglesteps = timesteps*2*np.pi\n",
    "frequency = 1\n",
    "fig = plt.figure()\n",
    "ax = fig.add_axes([0,0,1,1])\n",
    "for j in range(3):\n",
    "    sinefunction = (j+1)*np.sin(frequency*anglesteps)\n",
    "    ax.plot(timesteps,sinefunction,label='Amplitude = ' + str(j+1))\n",
    "ax.set_xlabel('Time(sec)',fontsize =16)\n",
    "ax.set_ylabel('Amplitude',fontsize =16)\n",
    "ax.legend(fontsize=16)\n",
    "plt.show()"
   ],
   "outputs": [],
   "metadata": {}
  },
  {
   "cell_type": "markdown",
   "source": [
    "## $x = A*sin(2*\\pi*f*t))$  where f is frequency and A is amplitude and t is time"
   ],
   "metadata": {}
  },
  {
   "cell_type": "markdown",
   "source": [
    "## 12.3 Sampling Rate\n",
    "\n",
    "### When we make sound with a musical instrument or your voice it is an analog signal that is continuous in time. \n",
    "\n",
    "### When specifying sound on a computer, we have represent it as a discrete set of numbers. (For comparison, a musical instrument makes a continuous sound.) \n",
    "\n",
    "### Thus, we have to make a sound with a particular **sampling rate** or number of samples per second. Notice this unit is also Hz.  \n",
    "\n",
    "### In the examples above, the sampling rate was 100 samples/second or 100 Hz. \n",
    "\n",
    "### The sampling rate you need depends largely on the type of frequencies you need to represent. \n",
    "\n",
    "### Human beings can hear sounds from 20 Hz up to 20,000 Hz.  (really 15,000 Hz, and as you get older that gets lower). \n",
    "\n",
    "### To allow us to play all of these sounds, sound card use a standard sampling rate of 44,100.   \n"
   ],
   "metadata": {}
  },
  {
   "cell_type": "code",
   "execution_count": null,
   "source": [
    "# create a sinusoidal sound wave\n",
    "sr = 44100     # how many samples per second \n",
    "duration = 0.5 # length of the sound in seconds. \n",
    "frequency = 300        # frequency of the sinewave in Hz\n",
    "volume = 0.25   # DO NOT MAKE VOLUME LARGER THAN 0.5 \n",
    "time_vec = np.linspace(0, duration, int(duration*sr)) # The number of samples is the length of time X sampling rate. \n",
    "test_note = np.sin(frequency * time_vec  * 2 * np.pi) # instead of creating a vector angles, just multiply by 2pi \n",
    "                                                      #inside the call to the sin function.  \n",
    "# A sin function will always return values between -1 and 1\n",
    "# the sample amplitude values must consequently fall in the range of -32768 to 32767. \n",
    "# they must also have a signed 16-bit integer dtype (=2 bytes) and \n",
    "#test_note  = test_note*32767 / np.max(np.abs(test_note)) forces the values to scale so that the \n",
    "#it fills the range from -32768 to 32767\n",
    "# NEVER DO THIS! THIS IS DANGEROUS TO YOUR EARS!!!.\n",
    "# ALWAYS MULTIPLE BY VOLUME!!!!  \n",
    "test_note  = volume*test_note*32768 / np.max(np.abs(test_note)) # FOR SAFETY.  PLEASE LIMIT THE MAXIMIM VOLUME! \n",
    "test_note  = test_note.astype(np.int16) # convert to 16 bit integers\n",
    "sa.play_buffer(test_note , 1, 2, sr) \n",
    "#there are 4 required paramters here.\n",
    "#  audio_data - the numpy array or wav object you want to play \n",
    "#  num_channels - number of channels.  Defaults to num_channels=2 for stereo (here we do 1 channel mono, which plays the same sound to both ears) \n",
    "#  bytes_per_sample - what type of integer.  A 16 bit integer has 2 bytes per sample, Defaults to bytes_per_sample=2\n",
    "#  sample_rate= sampling rate, or samples per second, default to 44100 (its good practice to specify this)\n",
    "fig = plt.figure()\n",
    "ax = fig.add_axes([0,0,1,1])\n",
    "ax.plot(time_vec,test_note)\n",
    "ax.set_xlabel('Time(sec)',fontsize=16)\n",
    "ax.set_ylabel('Amplitude',fontsize=16)\n",
    "plt.show()\n",
    "fig = plt.figure()\n",
    "ax = fig.add_axes([0,0,1,1])\n",
    "ax.plot(time_vec[0:441],test_note[0:441])\n",
    "ax.set_xlabel('Time(sec)',fontsize=16)\n",
    "ax.set_ylabel('Amplitude',fontsize=16)\n",
    "plt.show()\n",
    "\n"
   ],
   "outputs": [],
   "metadata": {}
  },
  {
   "cell_type": "markdown",
   "source": [
    "## $ tone = A* sin(2*\\pi*f*time)$"
   ],
   "metadata": {}
  },
  {
   "cell_type": "markdown",
   "source": [
    "## 12.4 Musical Scale (Western - 12 tone equal temperament)\n",
    "\n",
    "### Musical notes correspond to different frequencies of sound. \n",
    "\n",
    "### A can have frequencies 440, 880, 1760, 3520, ....  \n",
    "\n",
    "### These frequencies are the start of an octave that contains 12 different notes. \n",
    "\n",
    "### For example:\n",
    "* ### A = 440\n",
    "* ### Bb = 466 (B flat)\n",
    "* ### B = 494\n",
    "* ### C = 523\n",
    "* ### C# = 554 (C sharp)\n",
    "* ### D = 587\n",
    "* ### Eb = 622 (E flat)\n",
    "* ### E = 659\n",
    "* ### F = 698\n",
    "* ### F# = 740 (F sharp)\n",
    "* ### G = 784\n",
    "* ### Ab = 831 (A flat)\n",
    "-----\n",
    "* ### A = 880\n",
    ".\n",
    ".\n",
    ".\n",
    "\n",
    "### We can produce each of these frequencies within an octave by the formula \n",
    "\n",
    "### $f = 440*2^{\\frac{n}{12}}$  where $ n = 0,1,2,.... 11$ \n",
    "\n",
    "### or in python we would write \n",
    "\n",
    "    f = 440*2**(n/12)\n",
    "\n",
    "### Of course, we don't have to start at 440, we could start an octave at 880. \n",
    "### The formula above still works, with $n = 12,13,14,.... 23$  \n",
    "\n",
    "### But to make it easier to understand, lets make it so that there are two parameters, one for the octave, $noctave = 1,2,3.....$\n",
    "### and one for the note,  $ n = 0,1,2,.... 11$ \n",
    "\n",
    "    f = noctave*440*2**(n/12)"
   ],
   "metadata": {}
  },
  {
   "cell_type": "code",
   "execution_count": null,
   "source": [
    "sr = 44100     # how many samples per second \n",
    "duration = 0.5 # length of the sound. \n",
    "f = 440        # base frequency of the sinewave in Hz corresponding to the lowest A\n",
    "noctave = 1   # this sets the octave\n",
    "starting_freq = f*noctave # sets the frequency of A \n",
    "volume = 0.25  # we are controlling the volume \n",
    "time_vec = np.linspace(0, duration, int(duration*sr)) # The number of samples is the length of time X sampling rate. \n",
    "for j in range(12):\n",
    "    f = starting_freq*2**(j/12) # this is the frequency \n",
    "    test_note = np.sin(f * time_vec  * 2 * np.pi)\n",
    "    test_note  = volume*test_note*32768 / np.max(np.abs(test_note)) # FOR SAFETY.  PLEASE LIMIT THE MAXIMIM VOLUME! \n",
    "    test_note  = test_note.astype(np.int16) # convert to 16 bit integers. \n",
    "    play_obj = sa.play_buffer(test_note , 1, 2, sr) # i created an object here. \n",
    "    play_obj.wait_done() # tells python to wait for the sound to finish before going any further. "
   ],
   "outputs": [],
   "metadata": {}
  },
  {
   "cell_type": "code",
   "execution_count": null,
   "source": [
    "sr = 44100     # how many samples per second \n",
    "duration = 0.5 # length of the sound. \n",
    "f = 440        # base frequency of the sinewave in Hz\n",
    "noctave = 1   # this sets the octave. \n",
    "volume = 0.25  # we are controlling the volume \n",
    "starting_freq = f*noctave # sets the frequency of A \n",
    "time_vec = np.linspace(0, duration, int(duration*sr)) # The number of samples is the length of time X sampling rate. \n",
    "test_note = np.sin(starting_freq * time_vec  * 2 * np.pi) #This is the A \n",
    "scale = test_note #initialize with the A \n",
    "for j in range(1,12,1):  #now loop through the rest of the notes.  I start at 1 instead of 0 now.    \n",
    "    f = starting_freq*2**(j/12) # this is the frequency \n",
    "    test_note = np.sin(f * time_vec  * 2 * np.pi)\n",
    "    scale = np.concatenate((scale,test_note))  # concatenate joins together numpy arrays. \n",
    "\n",
    "scale  = volume*scale*32768 / np.max(np.abs(scale)) # FOR SAFETY.  PLEASE LIMIT THE MAXIMIM VOLUME! \n",
    "scale = scale.astype(np.int16)\n",
    "play_obj = sa.play_buffer(scale , 1, 2, sr) # i created an object here. \n",
    "play_obj.wait_done() # tells python to wait for the sound to finish before going any further. "
   ],
   "outputs": [],
   "metadata": {}
  },
  {
   "cell_type": "markdown",
   "source": [
    "## 12.5 SILENCE\n",
    "\n",
    "### Silence is simply zeros.  Suppose we wanted to add a pause of 0.25 seconds between the notes. \n",
    "### We would create a  numpy array containing zeros and concatenate with the tone. \n"
   ],
   "metadata": {}
  },
  {
   "cell_type": "code",
   "execution_count": null,
   "source": [
    "sr = 44100     # how many samples per second \n",
    "duration = 0.5 # length of the sound. \n",
    "silent_interval = 0.25  # how much silence do i want in seconds\n",
    "f = 440        # base frequency of the sinewave in Hz\n",
    "noctave = 2   # this sets the octave. \n",
    "starting_freq = f*noctave # sets the frequency of A \n",
    "volume = 0.25  # we are controlling the volume \n",
    "time_vec = np.linspace(0, duration, int(duration*sr)) # The number of samples is the length of time X sampling rate. \n",
    "silence = np.zeros(int(silent_interval*sr)) #I created an array of zeros, to be silence\n",
    "test_note = np.sin(starting_freq * time_vec  * 2 * np.pi) #This is the A \n",
    "scale = np.concatenate((test_note,silence)) #initialize with the A concatenated with silence \n",
    "for j in range(1,12,1):\n",
    "    f = starting_freq*2**(j/12) # this is the frequency \n",
    "    test_note = np.sin(f * time_vec  * 2 * np.pi) # this is the note \n",
    "    test_note_silence = np.concatenate((test_note,silence))\n",
    "    scale = np.concatenate((scale,test_note_silence))  # concatenate joins together numpy arrays. \n",
    "\n",
    "scale  = volume*scale*32768 / np.max(np.abs(scale)) # FOR SAFETY.  PLEASE LIMIT THE MAXIMIM VOLUME! \n",
    "scale = scale.astype(np.int16)\n",
    "play_obj = sa.play_buffer(scale , 1, 2, sr) # i created an object here. \n",
    "play_obj.wait_done() # tells python to wait for the sound to finish before going any further. \n"
   ],
   "outputs": [],
   "metadata": {}
  },
  {
   "cell_type": "markdown",
   "source": [
    "## 12.6 Why is there an ANNOYING pop in the sound I am playing? "
   ],
   "metadata": {}
  },
  {
   "cell_type": "code",
   "execution_count": null,
   "source": [
    "fig = plt.figure()\n",
    "ax = fig.add_axes([0,0,1,1])\n",
    "ax.plot(time_vec,test_note)\n",
    "ax.set_xlabel('Time(sec)',fontsize=16)\n",
    "ax.set_ylabel('Amplitude',fontsize=16)\n",
    "plt.show()\n",
    "fig = plt.figure()\n",
    "ax = fig.add_axes([0,0,1,1])\n",
    "ax.plot(time_vec[0:441],test_note[0:441])\n",
    "ax.set_xlabel('Time(sec)',fontsize=16)\n",
    "ax.set_ylabel('Amplitude',fontsize=16)\n",
    "plt.show()\n",
    "fig = plt.figure()\n",
    "ax = fig.add_axes([0,0,1,1])\n",
    "ax.plot(time_vec[-441:],test_note[-441:])\n",
    "ax.set_xlabel('Time(sec)',fontsize=16)\n",
    "ax.set_ylabel('Amplitude',fontsize=16)\n",
    "plt.show()"
   ],
   "outputs": [],
   "metadata": {}
  },
  {
   "cell_type": "markdown",
   "source": [
    "### 12.6.1  Ramp on and Ramp off\n",
    "\n",
    "### When working with auditory stimuli it is often a good idea to ramp of and ramp off the stimuli to eliminate the pop"
   ],
   "metadata": {}
  },
  {
   "cell_type": "code",
   "execution_count": null,
   "source": [
    "risingramp = np.linspace(0,1,50)\n",
    "descendingramp = np.linspace(1,0,50)\n",
    "fig = plt.figure()\n",
    "ax = fig.add_axes([0,0,1,1])\n",
    "ax.plot(risingramp,label = 'rise')\n",
    "ax.plot(descendingramp,label = 'descend')\n",
    "ax.legend()\n",
    "plt.show()\n",
    "print(np.shape(risingramp))\n",
    "print(np.shape(descendingramp))\n"
   ],
   "outputs": [],
   "metadata": {}
  },
  {
   "cell_type": "markdown",
   "source": [],
   "metadata": {}
  },
  {
   "cell_type": "code",
   "execution_count": null,
   "source": [
    "sr = 44100     # how many samples per second \n",
    "duration = 0.5 # length of the sound. \n",
    "silent_interval = 0.25  # how much silence do i want in seconds\n",
    "f = 440        # base frequency of the sinewave in Hz\n",
    "noctave = 1   # this sets the octave. \n",
    "starting_freq = f*noctave # sets the frequency of A \n",
    "volume = 0.25  # we are controlling the volume\n",
    "ramplength = 100 \n",
    "risingramp = np.linspace(0,1,ramplength)\n",
    "descendingramp = np.linspace(1,0,ramplength)\n",
    "\n",
    "time_vec = np.linspace(0, duration, int(duration*sr)) # The number of samples is the length of time X sampling rate. \n",
    "silence = np.zeros(int(silent_interval*sr)) #I created an array of zeros, to be silence\n",
    "test_note = np.sin(starting_freq * time_vec  * 2 * np.pi) #This is the A \n",
    "\n",
    "test_note[0:ramplength] = test_note[0:ramplength]*risingramp\n",
    "test_note[-ramplength:] = test_note[-ramplength:]*descendingramp\n",
    "scale = np.concatenate((test_note,silence)) #initialize with the A concatenated with silence \n",
    "for j in range(1,12,1):\n",
    "    f = starting_freq*2**(j/12) # this is the frequency \n",
    "    test_note = np.sin(f * time_vec  * 2 * np.pi) # this is the note \n",
    "    test_note[0:ramplength] = test_note[0:ramplength]*risingramp\n",
    "    test_note[-ramplength:] = test_note[-ramplength:]*descendingramp\n",
    "    test_note_silence = np.concatenate((test_note,silence))\n",
    "    scale = np.concatenate((scale,test_note_silence))  # concatenate joins together numpy arrays. \n",
    "\n",
    "scale  = volume*scale*32768 / np.max(np.abs(scale)) # FOR SAFETY.  PLEASE LIMIT THE MAXIMIM VOLUME! \n",
    "scale = scale.astype(np.int16)\n",
    "play_obj = sa.play_buffer(scale , 1, 2, sr) # i created an object here. \n",
    "play_obj.wait_done() # tells python to wait for the sound to finish before going any further. "
   ],
   "outputs": [],
   "metadata": {}
  },
  {
   "cell_type": "markdown",
   "source": [
    "## 12.7 Noise \n",
    "\n",
    "### Auditory noise, often labeled loosely as \"white noise\" is simply random numbers passed through the sound card. "
   ],
   "metadata": {}
  },
  {
   "cell_type": "code",
   "execution_count": null,
   "source": [
    "sr = 44100\n",
    "duration = 0.5 \n",
    "volume = 0.1\n",
    "nsamples = np.floor(duration*sr) # I used floor as i wanted to be sure it was less than 0.5\n",
    "noise_sample = rng.uniform(-1,1,nsamples.astype(int))\n",
    "noise_sample = volume*32768*noise_sample\n",
    "noise_sample = noise_sample.astype(np.int16)\n",
    "play_obj = sa.play_buffer(noise_sample , 1, 2, sr) # i created an object here. \n",
    "play_obj.wait_done() # tells python to wait for the sound to finish before going any further. "
   ],
   "outputs": [],
   "metadata": {}
  },
  {
   "cell_type": "markdown",
   "source": [
    "### Why is that useful.  Well sometimes we want to mask a sound in noise"
   ],
   "metadata": {}
  },
  {
   "cell_type": "code",
   "execution_count": null,
   "source": [
    "sr = 44100\n",
    "duration = 0.5 \n",
    "volume = 0.1\n",
    "nsamples = np.floor(duration*sr) # I used floor as i wanted to be sure it was less than 0.5\n",
    "noise_sample = rng.uniform(-1,1,nsamples.astype(int))\n",
    "test_note = np.sin(f * time_vec  * 2 * np.pi) # this is the note \n",
    "test_note[0:ramplength] = test_note[0:ramplength]*risingramp\n",
    "test_note[-ramplength:] = test_note[-ramplength:]*descendingramp\n",
    "noisy_tone = noise_sample+test_note\n",
    "noisy_tone = volume*noisy_tone*32768/np.max(np.abs(noisy_tone))\n",
    "play_obj = sa.play_buffer(noisy_tone , 1, 2, sr) # i created an object here. \n",
    "play_obj.wait_done() # tells python to wait for the sound to finish before going any further. "
   ],
   "outputs": [],
   "metadata": {}
  }
 ],
 "metadata": {
  "kernelspec": {
   "name": "python3",
   "display_name": "Python 3.8.8 64-bit ('audio': conda)"
  },
  "language_info": {
   "codemirror_mode": {
    "name": "ipython",
    "version": 3
   },
   "file_extension": ".py",
   "mimetype": "text/x-python",
   "name": "python",
   "nbconvert_exporter": "python",
   "pygments_lexer": "ipython3",
   "version": "3.8.8"
  },
  "interpreter": {
   "hash": "1496c8bf519633e54bdb81b17c8ff700fb81fb762c02229761f49663b7460c71"
  }
 },
 "nbformat": 4,
 "nbformat_minor": 4
}